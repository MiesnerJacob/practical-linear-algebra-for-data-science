{
 "cells": [
  {
   "cell_type": "markdown",
   "metadata": {},
   "source": [
    "# Chapter 03: Vectors, Part 2"
   ]
  },
  {
   "cell_type": "markdown",
   "metadata": {},
   "source": [
    "## Concepts"
   ]
  },
  {
   "cell_type": "code",
   "execution_count": 2,
   "metadata": {},
   "outputs": [],
   "source": [
    "import numpy as np"
   ]
  },
  {
   "cell_type": "code",
   "execution_count": 10,
   "metadata": {},
   "outputs": [
    {
     "name": "stdout",
     "output_type": "stream",
     "text": [
      "[ 725 -199  599  230]\n"
     ]
    }
   ],
   "source": [
    "# Linear Weighted Combination a.k.a Linear Mixture\n",
    "\n",
    "\n",
    "# Scalars\n",
    "scalar_1 = np.random.randint(-10,10)\n",
    "scalar_2 = np.random.randint(-10,10)\n",
    "scalar_3 = np.random.randint(-10,10)\n",
    "\n",
    "# Vectors\n",
    "vector_1 = np.array([np.random.randint(-100,100) for i in range(4)])\n",
    "vector_2 = np.array([np.random.randint(-100,100) for i in range(4)])\n",
    "vector_3 = np.array([np.random.randint(-100,100) for i in range(4)])\n",
    "\n",
    "# Weighting\n",
    "linear_weighting_combination_result = (scalar_1 * vector_1) + (scalar_2 * vector_2) + (scalar_3 * vector_3)\n",
    "\n",
    "print(linear_weighting_combination_result)\n",
    "     "
   ]
  },
  {
   "cell_type": "markdown",
   "metadata": {},
   "source": [
    "## Code Exercises"
   ]
  },
  {
   "cell_type": "code",
   "execution_count": 11,
   "metadata": {},
   "outputs": [
    {
     "name": "stdout",
     "output_type": "stream",
     "text": [
      "[ 725. -199.  599.  230.]\n"
     ]
    }
   ],
   "source": [
    "# Excercise 3-1 (Linear Weighted combination using For loop)\n",
    "\n",
    "scalars = [scalar_1, scalar_2, scalar_3]\n",
    "vectors = [vector_1, vector_2, vector_3]\n",
    "\n",
    "linear_combo = np.zeros(len(vector_1))\n",
    "\n",
    "for scalar, vector in zip(scalars, vectors):\n",
    "    linear_combo += scalar * vector\n",
    "\n",
    "print(linear_combo)"
   ]
  },
  {
   "cell_type": "code",
   "execution_count": 12,
   "metadata": {},
   "outputs": [
    {
     "name": "stdout",
     "output_type": "stream",
     "text": [
      "[ 725. -199.  599.  230.]\n",
      "[ 725. -199.  599.  230.]\n"
     ]
    }
   ],
   "source": [
    "# Excercise 3-2 (Linear weighted combination with uneven numbers of vectors and scalars)\n",
    "\n",
    "# More scalars than vectors\n",
    "scalar_4 = np.random.randint(-10,10)\n",
    "scalars = [scalar_1, scalar_2, scalar_3, scalar_4]\n",
    "vectors = [vector_1, vector_2, vector_3]\n",
    "\n",
    "linear_combo = np.zeros(len(vector_1))\n",
    "\n",
    "for scalar, vector in zip(scalars, vectors):\n",
    "    linear_combo += scalar * vector\n",
    "\n",
    "print(linear_combo)\n",
    "\n",
    "# More vectors than scalars\n",
    "vector_4 = np.array([np.random.randint(-100,100) for i in range(4)])\n",
    "scalars = [scalar_1, scalar_2, scalar_3]\n",
    "vectors = [vector_1, vector_2, vector_3, vector_4]\n",
    "\n",
    "linear_combo = np.zeros(len(vector_1))\n",
    "\n",
    "for scalar, vector in zip(scalars, vectors):\n",
    "    linear_combo += scalar * vector\n",
    "\n",
    "print(linear_combo)"
   ]
  },
  {
   "cell_type": "code",
   "execution_count": 30,
   "metadata": {},
   "outputs": [
    {
     "data": {
      "image/png": "[encoded data removed]",
      "text/plain": [
       "<Figure size 640x480 with 1 Axes>"
      ]
     },
     "metadata": {},
     "output_type": "display_data"
    }
   ],
   "source": [
    "# Excercise 3-3 (Part 1: visualizing 2D subspace)\n",
    "import matplotlib.pyplot as plt\n",
    "\n",
    "vector = np.array([1, 3])\n",
    "scalars = np.random.uniform(low=-4,high=4,size=100)\n",
    "\n",
    "coordinates = [vector * scalar for scalar in scalars]\n",
    "\n",
    "# Create a figure and an axes.\n",
    "fig, ax = plt.subplots()\n",
    "\n",
    "# Loop through the list of coordinates and plot each point\n",
    "for point in coordinates:\n",
    "    ax.plot(point[0], point[1], 'ko')  # 'o' marker for points\n",
    "\n",
    "# Adding a title\n",
    "ax.set_title('2D Vector Subspace')\n",
    "\n",
    "# Show the plot\n",
    "plt.grid()\n",
    "plt.show()"
   ]
  },
  {
   "cell_type": "code",
   "execution_count": 6,
   "metadata": {},
   "outputs": [
    {
     "data": {
      "application/vnd.plotly.v1+json": {
       "config": {
        "plotlyServerURL": "https://plot.ly"
       },
       "data": [
        {
         "mode": "markers",
         "type": "scatter3d",
         "x": [
          5.518006426615562,
          -7.623789401702886,
          -6.73784019967282,
          5.521823729629265,
          3.567902104287345,
          -7.779008413910251,
          -5.909911535830327,
          -10.959583269072006,
          11.754211633466689,
          -1.4911486368691698,
          -9.116221661215471,
          -6.037041938804416,
          -0.12231234710767147,
          8.963160492936797,
          2.911406589461915,
          10.582657591774705,
          0.5027082139291288,
          -8.962480057550856,
          -9.91378595167643,
          -9.434643453033685,
          6.4648334499331295,
          9.281430834687665,
          -3.3954865973498674,
          1.854374617581498,
          -9.229504348724776,
          7.719976542689229,
          -2.2202888240005327,
          4.853232312781478,
          -6.016161538461933,
          -0.29981859494492014,
          0.056643456717539564,
          -3.305771345045345,
          -2.488799254811255,
          0.7401139380398334,
          6.951533812760462,
          4.514620689021248,
          2.0312858924448207,
          10.950038135977227,
          -10.479587423549207,
          -0.37389583967334694,
          -6.726868456548896,
          10.859862341609613,
          -4.2677111149022195,
          -6.4405932753050905,
          0.7196201238850257,
          2.308371940081946,
          -9.953602787768105,
          4.64726143006557,
          4.0400506275994275,
          -11.191546986345367,
          6.26996878196703,
          6.046222228557316,
          -1.9317563135782283,
          2.645598041492981,
          -2.440512151269653,
          2.5567672163411945,
          -2.8130055698086576,
          1.7420674678722516,
          -9.133108100151803,
          -8.469306975770346,
          7.239640876515726,
          -9.44015595797649,
          -2.1994205454426874,
          11.083512965104653,
          9.939113435573875,
          4.456391121250688,
          9.085035545739581,
          -4.632004341066921,
          7.8895522661006705,
          0.5961797157810205,
          -7.708327123896132,
          -11.386830212250313,
          -3.2942268703206095,
          6.386838554869729,
          6.870766198690017,
          0.1321502248013413,
          7.222016241446312,
          -6.925799035552263,
          -0.07996808517624476,
          10.364082283151582,
          10.55864449833725,
          1.0591627317548653,
          -3.2411521348010144,
          -0.913830398379285,
          -11.337342848797206,
          9.21698238445024,
          4.81628975334099,
          4.4743721562796175,
          -10.475175216727312,
          -11.06424328978366,
          -4.8669989382101395,
          8.684982561354847,
          7.587905637060629,
          -4.681595005059332,
          7.373966802615482,
          -8.57654482263559,
          -11.234654932381284,
          2.3660798086238755,
          -5.551562369109145,
          -0.1982051906675446
         ],
         "y": [
          12.530305340510571,
          -11.607089207232711,
          -3.367310820446612,
          12.374034515907036,
          2.7878394179918313,
          -12.12895456888972,
          -13.154165750704184,
          -12.827657922280977,
          23.09904775732763,
          1.1880909028638058,
          -11.486884056226717,
          -7.840089193881703,
          5.24910851468934,
          8.411982991394277,
          3.699773253916492,
          15.36120848551971,
          7.92304354880512,
          -19.659398112362673,
          -10.925082002771827,
          -22.291106119372383,
          4.770927905026218,
          12.040058781664065,
          -8.016962932799746,
          -4.3492002168273,
          -11.1505804095574,
          6.981877408466943,
          3.73646152537349,
          9.736310570842935,
          -12.802897886278467,
          3.3479512370098856,
          2.5151598024010635,
          -3.208333988071951,
          -0.9142727892566267,
          -3.5407924918272577,
          17.38515289036448,
          3.8091008081118556,
          -0.22864672196264912,
          19.703844834065258,
          -12.481038169522083,
          0.028128632719436553,
          -9.42027757397167,
          20.737107684328254,
          -12.79327217229188,
          -4.105840503644783,
          -1.8765170207832984,
          -2.0025810117190606,
          -12.546897619534091,
          11.126675743767436,
          7.714548512378894,
          -17.0707379938069,
          3.4609506905997076,
          8.772975152807577,
          -4.578903264938145,
          3.5377673083833514,
          0.49424485028214704,
          4.030007405197152,
          -10.145404600188227,
          1.8731370795341515,
          -19.158477725469286,
          -10.033203572478355,
          5.197029448646276,
          -14.623754110532046,
          -7.18942224646539,
          25.225880670392527,
          11.819626256781065,
          3.973276246756903,
          15.11542483608759,
          -8.228225185700317,
          17.080854293637397,
          0.9524123313219848,
          -10.62188753931798,
          -12.721745336417623,
          -9.432131893946835,
          16.121836805936546,
          13.394974117616961,
          -7.661845378795727,
          17.943605317654757,
          -12.681342023986415,
          -4.93886499076642,
          18.9053892354054,
          11.625899195046507,
          6.533620843266597,
          1.3687895971744002,
          2.2071305309645046,
          -15.833577131643096,
          13.485697862424802,
          14.17679252337927,
          13.901006800681415,
          -19.16668283555881,
          -19.700634707641974,
          -15.233370408011169,
          10.13808089194767,
          16.69273404785083,
          -1.1848096640181307,
          7.564921314164943,
          -16.103350061809486,
          -18.553579382378928,
          10.527594514276739,
          -5.788957028691081,
          -2.9092453123361475
         ],
         "z": [
          5.172963438356488,
          -1.4420366716288626,
          5.6164761124504805,
          5.01160287640135,
          -1.9693633877246288,
          -1.756943350342718,
          -5.274283702930415,
          1.7851197698150285,
          7.426765579372046,
          3.176289085356032,
          0.6680781587272442,
          0.2093000578575186,
          5.412191644166235,
          -3.538897665854784,
          -0.18210219869939515,
          1.250998363153438,
          7.252765930232949,
          -7.709424702294865,
          2.293299266130081,
          -9.71158151532747,
          -3.8488500282179547,
          -0.3351823312528195,
          -3.48964746966659,
          -6.821699706935964,
          1.1554253887423016,
          -3.3114246484520296,
          6.696846624040867,
          3.265334153800965,
          -4.781349168329223,
          3.7477093636031125,
          2.439635193444344,
          1.199361138655176,
          2.40412621715838,
          -4.527611075880369,
          8.116441140017198,
          -2.210393443916475,
          -2.9370279118890767,
          5.103793986095622,
          1.4917450618768608,
          0.5266564189505658,
          -0.45111963190647586,
          6.257291228848772,
          -7.102990685755588,
          4.481617196762004,
          -2.836010519296666,
          -5.080410265161655,
          0.7245727641567177,
          4.9303271703466764,
          2.3278143422463238,
          -2.148675345346412,
          -4.899007685356333,
          0.7113455147311543,
          -2.0032281801671736,
          0.010303253059376516,
          3.7482610519750175,
          0.620984450075559,
          -6.394730507110017,
          -0.4496195442955173,
          -6.981000258600215,
          1.259205728548773,
          -4.455825053374693,
          -2.0368794998967257,
          -4.256861519208473,
          10.447863383586322,
          -1.4325249906507693,
          -1.968578581577347,
          3.0020441084348146,
          -2.05221939761109,
          6.561451272169837,
          0.15750604361395748,
          -0.34411804078980435,
          2.4606949465827945,
          -5.039829400186021,
          7.60605206611024,
          4.233952519363605,
          -7.8380456785308485,
          8.314250329059675,
          -3.4469433099167315,
          -4.832240877198093,
          5.0866128578699605,
          -2.4522934694031573,
          5.121403867593443,
          5.690325776909086,
          3.4255710621368847,
          -0.7171199999134901,
          1.196388016491146,
          7.755072852257949,
          7.9351772589752585,
          -5.199782546589057,
          -4.948310321263765,
          -8.74403849039765,
          -1.4418958565254592,
          6.575526531769992,
          5.057317009394312,
          -2.2670344226557004,
          -4.667956964962033,
          -3.5740394725372138,
          7.372821436111571,
          1.6131261301211106,
          -2.6449717247794213
         ]
        }
       ],
       "layout": {
        "template": {
         "data": {
          "bar": [
           {
            "error_x": {
             "color": "#2a3f5f"
            },
            "error_y": {
             "color": "#2a3f5f"
            },
            "marker": {
             "line": {
              "color": "#E5ECF6",
              "width": 0.5
             },
             "pattern": {
              "fillmode": "overlay",
              "size": 10,
              "solidity": 0.2
             }
            },
            "type": "bar"
           }
          ],
          "barpolar": [
           {
            "marker": {
             "line": {
              "color": "#E5ECF6",
              "width": 0.5
             },
             "pattern": {
              "fillmode": "overlay",
              "size": 10,
              "solidity": 0.2
             }
            },
            "type": "barpolar"
           }
          ],
          "carpet": [
           {
            "aaxis": {
             "endlinecolor": "#2a3f5f",
             "gridcolor": "white",
             "linecolor": "white",
             "minorgridcolor": "white",
             "startlinecolor": "#2a3f5f"
            },
            "baxis": {
             "endlinecolor": "#2a3f5f",
             "gridcolor": "white",
             "linecolor": "white",
             "minorgridcolor": "white",
             "startlinecolor": "#2a3f5f"
            },
            "type": "carpet"
           }
          ],
          "choropleth": [
           {
            "colorbar": {
             "outlinewidth": 0,
             "ticks": ""
            },
            "type": "choropleth"
           }
          ],
          "contour": [
           {
            "colorbar": {
             "outlinewidth": 0,
             "ticks": ""
            },
            "colorscale": [
             [
              0,
              "#0d0887"
             ],
             [
              0.1111111111111111,
              "#46039f"
             ],
             [
              0.2222222222222222,
              "#7201a8"
             ],
             [
              0.3333333333333333,
              "#9c179e"
             ],
             [
              0.4444444444444444,
              "#bd3786"
             ],
             [
              0.5555555555555556,
              "#d8576b"
             ],
             [
              0.6666666666666666,
              "#ed7953"
             ],
             [
              0.7777777777777778,
              "#fb9f3a"
             ],
             [
              0.8888888888888888,
              "#fdca26"
             ],
             [
              1,
              "#f0f921"
             ]
            ],
            "type": "contour"
           }
          ],
          "contourcarpet": [
           {
            "colorbar": {
             "outlinewidth": 0,
             "ticks": ""
            },
            "type": "contourcarpet"
           }
          ],
          "heatmap": [
           {
            "colorbar": {
             "outlinewidth": 0,
             "ticks": ""
            },
            "colorscale": [
             [
              0,
              "#0d0887"
             ],
             [
              0.1111111111111111,
              "#46039f"
             ],
             [
              0.2222222222222222,
              "#7201a8"
             ],
             [
              0.3333333333333333,
              "#9c179e"
             ],
             [
              0.4444444444444444,
              "#bd3786"
             ],
             [
              0.5555555555555556,
              "#d8576b"
             ],
             [
              0.6666666666666666,
              "#ed7953"
             ],
             [
              0.7777777777777778,
              "#fb9f3a"
             ],
             [
              0.8888888888888888,
              "#fdca26"
             ],
             [
              1,
              "#f0f921"
             ]
            ],
            "type": "heatmap"
           }
          ],
          "heatmapgl": [
           {
            "colorbar": {
             "outlinewidth": 0,
             "ticks": ""
            },
            "colorscale": [
             [
              0,
              "#0d0887"
             ],
             [
              0.1111111111111111,
              "#46039f"
             ],
             [
              0.2222222222222222,
              "#7201a8"
             ],
             [
              0.3333333333333333,
              "#9c179e"
             ],
             [
              0.4444444444444444,
              "#bd3786"
             ],
             [
              0.5555555555555556,
              "#d8576b"
             ],
             [
              0.6666666666666666,
              "#ed7953"
             ],
             [
              0.7777777777777778,
              "#fb9f3a"
             ],
             [
              0.8888888888888888,
              "#fdca26"
             ],
             [
              1,
              "#f0f921"
             ]
            ],
            "type": "heatmapgl"
           }
          ],
          "histogram": [
           {
            "marker": {
             "pattern": {
              "fillmode": "overlay",
              "size": 10,
              "solidity": 0.2
             }
            },
            "type": "histogram"
           }
          ],
          "histogram2d": [
           {
            "colorbar": {
             "outlinewidth": 0,
             "ticks": ""
            },
            "colorscale": [
             [
              0,
              "#0d0887"
             ],
             [
              0.1111111111111111,
              "#46039f"
             ],
             [
              0.2222222222222222,
              "#7201a8"
             ],
             [
              0.3333333333333333,
              "#9c179e"
             ],
             [
              0.4444444444444444,
              "#bd3786"
             ],
             [
              0.5555555555555556,
              "#d8576b"
             ],
             [
              0.6666666666666666,
              "#ed7953"
             ],
             [
              0.7777777777777778,
              "#fb9f3a"
             ],
             [
              0.8888888888888888,
              "#fdca26"
             ],
             [
              1,
              "#f0f921"
             ]
            ],
            "type": "histogram2d"
           }
          ],
          "histogram2dcontour": [
           {
            "colorbar": {
             "outlinewidth": 0,
             "ticks": ""
            },
            "colorscale": [
             [
              0,
              "#0d0887"
             ],
             [
              0.1111111111111111,
              "#46039f"
             ],
             [
              0.2222222222222222,
              "#7201a8"
             ],
             [
              0.3333333333333333,
              "#9c179e"
             ],
             [
              0.4444444444444444,
              "#bd3786"
             ],
             [
              0.5555555555555556,
              "#d8576b"
             ],
             [
              0.6666666666666666,
              "#ed7953"
             ],
             [
              0.7777777777777778,
              "#fb9f3a"
             ],
             [
              0.8888888888888888,
              "#fdca26"
             ],
             [
              1,
              "#f0f921"
             ]
            ],
            "type": "histogram2dcontour"
           }
          ],
          "mesh3d": [
           {
            "colorbar": {
             "outlinewidth": 0,
             "ticks": ""
            },
            "type": "mesh3d"
           }
          ],
          "parcoords": [
           {
            "line": {
             "colorbar": {
              "outlinewidth": 0,
              "ticks": ""
             }
            },
            "type": "parcoords"
           }
          ],
          "pie": [
           {
            "automargin": true,
            "type": "pie"
           }
          ],
          "scatter": [
           {
            "fillpattern": {
             "fillmode": "overlay",
             "size": 10,
             "solidity": 0.2
            },
            "type": "scatter"
           }
          ],
          "scatter3d": [
           {
            "line": {
             "colorbar": {
              "outlinewidth": 0,
              "ticks": ""
             }
            },
            "marker": {
             "colorbar": {
              "outlinewidth": 0,
              "ticks": ""
             }
            },
            "type": "scatter3d"
           }
          ],
          "scattercarpet": [
           {
            "marker": {
             "colorbar": {
              "outlinewidth": 0,
              "ticks": ""
             }
            },
            "type": "scattercarpet"
           }
          ],
          "scattergeo": [
           {
            "marker": {
             "colorbar": {
              "outlinewidth": 0,
              "ticks": ""
             }
            },
            "type": "scattergeo"
           }
          ],
          "scattergl": [
           {
            "marker": {
             "colorbar": {
              "outlinewidth": 0,
              "ticks": ""
             }
            },
            "type": "scattergl"
           }
          ],
          "scattermapbox": [
           {
            "marker": {
             "colorbar": {
              "outlinewidth": 0,
              "ticks": ""
             }
            },
            "type": "scattermapbox"
           }
          ],
          "scatterpolar": [
           {
            "marker": {
             "colorbar": {
              "outlinewidth": 0,
              "ticks": ""
             }
            },
            "type": "scatterpolar"
           }
          ],
          "scatterpolargl": [
           {
            "marker": {
             "colorbar": {
              "outlinewidth": 0,
              "ticks": ""
             }
            },
            "type": "scatterpolargl"
           }
          ],
          "scatterternary": [
           {
            "marker": {
             "colorbar": {
              "outlinewidth": 0,
              "ticks": ""
             }
            },
            "type": "scatterternary"
           }
          ],
          "surface": [
           {
            "colorbar": {
             "outlinewidth": 0,
             "ticks": ""
            },
            "colorscale": [
             [
              0,
              "#0d0887"
             ],
             [
              0.1111111111111111,
              "#46039f"
             ],
             [
              0.2222222222222222,
              "#7201a8"
             ],
             [
              0.3333333333333333,
              "#9c179e"
             ],
             [
              0.4444444444444444,
              "#bd3786"
             ],
             [
              0.5555555555555556,
              "#d8576b"
             ],
             [
              0.6666666666666666,
              "#ed7953"
             ],
             [
              0.7777777777777778,
              "#fb9f3a"
             ],
             [
              0.8888888888888888,
              "#fdca26"
             ],
             [
              1,
              "#f0f921"
             ]
            ],
            "type": "surface"
           }
          ],
          "table": [
           {
            "cells": {
             "fill": {
              "color": "#EBF0F8"
             },
             "line": {
              "color": "white"
             }
            },
            "header": {
             "fill": {
              "color": "#C8D4E3"
             },
             "line": {
              "color": "white"
             }
            },
            "type": "table"
           }
          ]
         },
         "layout": {
          "annotationdefaults": {
           "arrowcolor": "#2a3f5f",
           "arrowhead": 0,
           "arrowwidth": 1
          },
          "autotypenumbers": "strict",
          "coloraxis": {
           "colorbar": {
            "outlinewidth": 0,
            "ticks": ""
           }
          },
          "colorscale": {
           "diverging": [
            [
             0,
             "#8e0152"
            ],
            [
             0.1,
             "#c51b7d"
            ],
            [
             0.2,
             "#de77ae"
            ],
            [
             0.3,
             "#f1b6da"
            ],
            [
             0.4,
             "#fde0ef"
            ],
            [
             0.5,
             "#f7f7f7"
            ],
            [
             0.6,
             "#e6f5d0"
            ],
            [
             0.7,
             "#b8e186"
            ],
            [
             0.8,
             "#7fbc41"
            ],
            [
             0.9,
             "#4d9221"
            ],
            [
             1,
             "#276419"
            ]
           ],
           "sequential": [
            [
             0,
             "#0d0887"
            ],
            [
             0.1111111111111111,
             "#46039f"
            ],
            [
             0.2222222222222222,
             "#7201a8"
            ],
            [
             0.3333333333333333,
             "#9c179e"
            ],
            [
             0.4444444444444444,
             "#bd3786"
            ],
            [
             0.5555555555555556,
             "#d8576b"
            ],
            [
             0.6666666666666666,
             "#ed7953"
            ],
            [
             0.7777777777777778,
             "#fb9f3a"
            ],
            [
             0.8888888888888888,
             "#fdca26"
            ],
            [
             1,
             "#f0f921"
            ]
           ],
           "sequentialminus": [
            [
             0,
             "#0d0887"
            ],
            [
             0.1111111111111111,
             "#46039f"
            ],
            [
             0.2222222222222222,
             "#7201a8"
            ],
            [
             0.3333333333333333,
             "#9c179e"
            ],
            [
             0.4444444444444444,
             "#bd3786"
            ],
            [
             0.5555555555555556,
             "#d8576b"
            ],
            [
             0.6666666666666666,
             "#ed7953"
            ],
            [
             0.7777777777777778,
             "#fb9f3a"
            ],
            [
             0.8888888888888888,
             "#fdca26"
            ],
            [
             1,
             "#f0f921"
            ]
           ]
          },
          "colorway": [
           "#636efa",
           "#EF553B",
           "#00cc96",
           "#ab63fa",
           "#FFA15A",
           "#19d3f3",
           "#FF6692",
           "#B6E880",
           "#FF97FF",
           "#FECB52"
          ],
          "font": {
           "color": "#2a3f5f"
          },
          "geo": {
           "bgcolor": "white",
           "lakecolor": "white",
           "landcolor": "#E5ECF6",
           "showlakes": true,
           "showland": true,
           "subunitcolor": "white"
          },
          "hoverlabel": {
           "align": "left"
          },
          "hovermode": "closest",
          "mapbox": {
           "style": "light"
          },
          "paper_bgcolor": "white",
          "plot_bgcolor": "#E5ECF6",
          "polar": {
           "angularaxis": {
            "gridcolor": "white",
            "linecolor": "white",
            "ticks": ""
           },
           "bgcolor": "#E5ECF6",
           "radialaxis": {
            "gridcolor": "white",
            "linecolor": "white",
            "ticks": ""
           }
          },
          "scene": {
           "xaxis": {
            "backgroundcolor": "#E5ECF6",
            "gridcolor": "white",
            "gridwidth": 2,
            "linecolor": "white",
            "showbackground": true,
            "ticks": "",
            "zerolinecolor": "white"
           },
           "yaxis": {
            "backgroundcolor": "#E5ECF6",
            "gridcolor": "white",
            "gridwidth": 2,
            "linecolor": "white",
            "showbackground": true,
            "ticks": "",
            "zerolinecolor": "white"
           },
           "zaxis": {
            "backgroundcolor": "#E5ECF6",
            "gridcolor": "white",
            "gridwidth": 2,
            "linecolor": "white",
            "showbackground": true,
            "ticks": "",
            "zerolinecolor": "white"
           }
          },
          "shapedefaults": {
           "line": {
            "color": "#2a3f5f"
           }
          },
          "ternary": {
           "aaxis": {
            "gridcolor": "white",
            "linecolor": "white",
            "ticks": ""
           },
           "baxis": {
            "gridcolor": "white",
            "linecolor": "white",
            "ticks": ""
           },
           "bgcolor": "#E5ECF6",
           "caxis": {
            "gridcolor": "white",
            "linecolor": "white",
            "ticks": ""
           }
          },
          "title": {
           "x": 0.05
          },
          "xaxis": {
           "automargin": true,
           "gridcolor": "white",
           "linecolor": "white",
           "ticks": "",
           "title": {
            "standoff": 15
           },
           "zerolinecolor": "white",
           "zerolinewidth": 2
          },
          "yaxis": {
           "automargin": true,
           "gridcolor": "white",
           "linecolor": "white",
           "ticks": "",
           "title": {
            "standoff": 15
           },
           "zerolinecolor": "white",
           "zerolinewidth": 2
          }
         }
        }
       }
      },
      "text/html": [
       "<div>                            <div id=\"22947fc7-a2ea-4a32-9790-2aad5b746ab6\" class=\"plotly-graph-div\" style=\"height:525px; width:100%;\"></div>            <script type=\"text/javascript\">                require([\"plotly\"], function(Plotly) {                    window.PLOTLYENV=window.PLOTLYENV || {};                                    if (document.getElementById(\"22947fc7-a2ea-4a32-9790-2aad5b746ab6\")) {                    Plotly.newPlot(                        \"22947fc7-a2ea-4a32-9790-2aad5b746ab6\",                        [{\"mode\":\"markers\",\"x\":[5.518006426615562,-7.623789401702886,-6.73784019967282,5.521823729629265,3.567902104287345,-7.779008413910251,-5.909911535830327,-10.959583269072006,11.754211633466689,-1.4911486368691698,-9.116221661215471,-6.037041938804416,-0.12231234710767147,8.963160492936797,2.911406589461915,10.582657591774705,0.5027082139291288,-8.962480057550856,-9.91378595167643,-9.434643453033685,6.4648334499331295,9.281430834687665,-3.3954865973498674,1.854374617581498,-9.229504348724776,7.719976542689229,-2.2202888240005327,4.853232312781478,-6.016161538461933,-0.29981859494492014,0.056643456717539564,-3.305771345045345,-2.488799254811255,0.7401139380398334,6.951533812760462,4.514620689021248,2.0312858924448207,10.950038135977227,-10.479587423549207,-0.37389583967334694,-6.726868456548896,10.859862341609613,-4.2677111149022195,-6.4405932753050905,0.7196201238850257,2.308371940081946,-9.953602787768105,4.64726143006557,4.0400506275994275,-11.191546986345367,6.26996878196703,6.046222228557316,-1.9317563135782283,2.645598041492981,-2.440512151269653,2.5567672163411945,-2.8130055698086576,1.7420674678722516,-9.133108100151803,-8.469306975770346,7.239640876515726,-9.44015595797649,-2.1994205454426874,11.083512965104653,9.939113435573875,4.456391121250688,9.085035545739581,-4.632004341066921,7.8895522661006705,0.5961797157810205,-7.708327123896132,-11.386830212250313,-3.2942268703206095,6.386838554869729,6.870766198690017,0.1321502248013413,7.222016241446312,-6.925799035552263,-0.07996808517624476,10.364082283151582,10.55864449833725,1.0591627317548653,-3.2411521348010144,-0.913830398379285,-11.337342848797206,9.21698238445024,4.81628975334099,4.4743721562796175,-10.475175216727312,-11.06424328978366,-4.8669989382101395,8.684982561354847,7.587905637060629,-4.681595005059332,7.373966802615482,-8.57654482263559,-11.234654932381284,2.3660798086238755,-5.551562369109145,-0.1982051906675446],\"y\":[12.530305340510571,-11.607089207232711,-3.367310820446612,12.374034515907036,2.7878394179918313,-12.12895456888972,-13.154165750704184,-12.827657922280977,23.09904775732763,1.1880909028638058,-11.486884056226717,-7.840089193881703,5.24910851468934,8.411982991394277,3.699773253916492,15.36120848551971,7.92304354880512,-19.659398112362673,-10.925082002771827,-22.291106119372383,4.770927905026218,12.040058781664065,-8.016962932799746,-4.3492002168273,-11.1505804095574,6.981877408466943,3.73646152537349,9.736310570842935,-12.802897886278467,3.3479512370098856,2.5151598024010635,-3.208333988071951,-0.9142727892566267,-3.5407924918272577,17.38515289036448,3.8091008081118556,-0.22864672196264912,19.703844834065258,-12.481038169522083,0.028128632719436553,-9.42027757397167,20.737107684328254,-12.79327217229188,-4.105840503644783,-1.8765170207832984,-2.0025810117190606,-12.546897619534091,11.126675743767436,7.714548512378894,-17.0707379938069,3.4609506905997076,8.772975152807577,-4.578903264938145,3.5377673083833514,0.49424485028214704,4.030007405197152,-10.145404600188227,1.8731370795341515,-19.158477725469286,-10.033203572478355,5.197029448646276,-14.623754110532046,-7.18942224646539,25.225880670392527,11.819626256781065,3.973276246756903,15.11542483608759,-8.228225185700317,17.080854293637397,0.9524123313219848,-10.62188753931798,-12.721745336417623,-9.432131893946835,16.121836805936546,13.394974117616961,-7.661845378795727,17.943605317654757,-12.681342023986415,-4.93886499076642,18.9053892354054,11.625899195046507,6.533620843266597,1.3687895971744002,2.2071305309645046,-15.833577131643096,13.485697862424802,14.17679252337927,13.901006800681415,-19.16668283555881,-19.700634707641974,-15.233370408011169,10.13808089194767,16.69273404785083,-1.1848096640181307,7.564921314164943,-16.103350061809486,-18.553579382378928,10.527594514276739,-5.788957028691081,-2.9092453123361475],\"z\":[5.172963438356488,-1.4420366716288626,5.6164761124504805,5.01160287640135,-1.9693633877246288,-1.756943350342718,-5.274283702930415,1.7851197698150285,7.426765579372046,3.176289085356032,0.6680781587272442,0.2093000578575186,5.412191644166235,-3.538897665854784,-0.18210219869939515,1.250998363153438,7.252765930232949,-7.709424702294865,2.293299266130081,-9.71158151532747,-3.8488500282179547,-0.3351823312528195,-3.48964746966659,-6.821699706935964,1.1554253887423016,-3.3114246484520296,6.696846624040867,3.265334153800965,-4.781349168329223,3.7477093636031125,2.439635193444344,1.199361138655176,2.40412621715838,-4.527611075880369,8.116441140017198,-2.210393443916475,-2.9370279118890767,5.103793986095622,1.4917450618768608,0.5266564189505658,-0.45111963190647586,6.257291228848772,-7.102990685755588,4.481617196762004,-2.836010519296666,-5.080410265161655,0.7245727641567177,4.9303271703466764,2.3278143422463238,-2.148675345346412,-4.899007685356333,0.7113455147311543,-2.0032281801671736,0.010303253059376516,3.7482610519750175,0.620984450075559,-6.394730507110017,-0.4496195442955173,-6.981000258600215,1.259205728548773,-4.455825053374693,-2.0368794998967257,-4.256861519208473,10.447863383586322,-1.4325249906507693,-1.968578581577347,3.0020441084348146,-2.05221939761109,6.561451272169837,0.15750604361395748,-0.34411804078980435,2.4606949465827945,-5.039829400186021,7.60605206611024,4.233952519363605,-7.8380456785308485,8.314250329059675,-3.4469433099167315,-4.832240877198093,5.0866128578699605,-2.4522934694031573,5.121403867593443,5.690325776909086,3.4255710621368847,-0.7171199999134901,1.196388016491146,7.755072852257949,7.9351772589752585,-5.199782546589057,-4.948310321263765,-8.74403849039765,-1.4418958565254592,6.575526531769992,5.057317009394312,-2.2670344226557004,-4.667956964962033,-3.5740394725372138,7.372821436111571,1.6131261301211106,-2.6449717247794213],\"type\":\"scatter3d\"}],                        {\"template\":{\"data\":{\"histogram2dcontour\":[{\"type\":\"histogram2dcontour\",\"colorbar\":{\"outlinewidth\":0,\"ticks\":\"\"},\"colorscale\":[[0.0,\"#0d0887\"],[0.1111111111111111,\"#46039f\"],[0.2222222222222222,\"#7201a8\"],[0.3333333333333333,\"#9c179e\"],[0.4444444444444444,\"#bd3786\"],[0.5555555555555556,\"#d8576b\"],[0.6666666666666666,\"#ed7953\"],[0.7777777777777778,\"#fb9f3a\"],[0.8888888888888888,\"#fdca26\"],[1.0,\"#f0f921\"]]}],\"choropleth\":[{\"type\":\"choropleth\",\"colorbar\":{\"outlinewidth\":0,\"ticks\":\"\"}}],\"histogram2d\":[{\"type\":\"histogram2d\",\"colorbar\":{\"outlinewidth\":0,\"ticks\":\"\"},\"colorscale\":[[0.0,\"#0d0887\"],[0.1111111111111111,\"#46039f\"],[0.2222222222222222,\"#7201a8\"],[0.3333333333333333,\"#9c179e\"],[0.4444444444444444,\"#bd3786\"],[0.5555555555555556,\"#d8576b\"],[0.6666666666666666,\"#ed7953\"],[0.7777777777777778,\"#fb9f3a\"],[0.8888888888888888,\"#fdca26\"],[1.0,\"#f0f921\"]]}],\"heatmap\":[{\"type\":\"heatmap\",\"colorbar\":{\"outlinewidth\":0,\"ticks\":\"\"},\"colorscale\":[[0.0,\"#0d0887\"],[0.1111111111111111,\"#46039f\"],[0.2222222222222222,\"#7201a8\"],[0.3333333333333333,\"#9c179e\"],[0.4444444444444444,\"#bd3786\"],[0.5555555555555556,\"#d8576b\"],[0.6666666666666666,\"#ed7953\"],[0.7777777777777778,\"#fb9f3a\"],[0.8888888888888888,\"#fdca26\"],[1.0,\"#f0f921\"]]}],\"heatmapgl\":[{\"type\":\"heatmapgl\",\"colorbar\":{\"outlinewidth\":0,\"ticks\":\"\"},\"colorscale\":[[0.0,\"#0d0887\"],[0.1111111111111111,\"#46039f\"],[0.2222222222222222,\"#7201a8\"],[0.3333333333333333,\"#9c179e\"],[0.4444444444444444,\"#bd3786\"],[0.5555555555555556,\"#d8576b\"],[0.6666666666666666,\"#ed7953\"],[0.7777777777777778,\"#fb9f3a\"],[0.8888888888888888,\"#fdca26\"],[1.0,\"#f0f921\"]]}],\"contourcarpet\":[{\"type\":\"contourcarpet\",\"colorbar\":{\"outlinewidth\":0,\"ticks\":\"\"}}],\"contour\":[{\"type\":\"contour\",\"colorbar\":{\"outlinewidth\":0,\"ticks\":\"\"},\"colorscale\":[[0.0,\"#0d0887\"],[0.1111111111111111,\"#46039f\"],[0.2222222222222222,\"#7201a8\"],[0.3333333333333333,\"#9c179e\"],[0.4444444444444444,\"#bd3786\"],[0.5555555555555556,\"#d8576b\"],[0.6666666666666666,\"#ed7953\"],[0.7777777777777778,\"#fb9f3a\"],[0.8888888888888888,\"#fdca26\"],[1.0,\"#f0f921\"]]}],\"surface\":[{\"type\":\"surface\",\"colorbar\":{\"outlinewidth\":0,\"ticks\":\"\"},\"colorscale\":[[0.0,\"#0d0887\"],[0.1111111111111111,\"#46039f\"],[0.2222222222222222,\"#7201a8\"],[0.3333333333333333,\"#9c179e\"],[0.4444444444444444,\"#bd3786\"],[0.5555555555555556,\"#d8576b\"],[0.6666666666666666,\"#ed7953\"],[0.7777777777777778,\"#fb9f3a\"],[0.8888888888888888,\"#fdca26\"],[1.0,\"#f0f921\"]]}],\"mesh3d\":[{\"type\":\"mesh3d\",\"colorbar\":{\"outlinewidth\":0,\"ticks\":\"\"}}],\"scatter\":[{\"fillpattern\":{\"fillmode\":\"overlay\",\"size\":10,\"solidity\":0.2},\"type\":\"scatter\"}],\"parcoords\":[{\"type\":\"parcoords\",\"line\":{\"colorbar\":{\"outlinewidth\":0,\"ticks\":\"\"}}}],\"scatterpolargl\":[{\"type\":\"scatterpolargl\",\"marker\":{\"colorbar\":{\"outlinewidth\":0,\"ticks\":\"\"}}}],\"bar\":[{\"error_x\":{\"color\":\"#2a3f5f\"},\"error_y\":{\"color\":\"#2a3f5f\"},\"marker\":{\"line\":{\"color\":\"#E5ECF6\",\"width\":0.5},\"pattern\":{\"fillmode\":\"overlay\",\"size\":10,\"solidity\":0.2}},\"type\":\"bar\"}],\"scattergeo\":[{\"type\":\"scattergeo\",\"marker\":{\"colorbar\":{\"outlinewidth\":0,\"ticks\":\"\"}}}],\"scatterpolar\":[{\"type\":\"scatterpolar\",\"marker\":{\"colorbar\":{\"outlinewidth\":0,\"ticks\":\"\"}}}],\"histogram\":[{\"marker\":{\"pattern\":{\"fillmode\":\"overlay\",\"size\":10,\"solidity\":0.2}},\"type\":\"histogram\"}],\"scattergl\":[{\"type\":\"scattergl\",\"marker\":{\"colorbar\":{\"outlinewidth\":0,\"ticks\":\"\"}}}],\"scatter3d\":[{\"type\":\"scatter3d\",\"line\":{\"colorbar\":{\"outlinewidth\":0,\"ticks\":\"\"}},\"marker\":{\"colorbar\":{\"outlinewidth\":0,\"ticks\":\"\"}}}],\"scattermapbox\":[{\"type\":\"scattermapbox\",\"marker\":{\"colorbar\":{\"outlinewidth\":0,\"ticks\":\"\"}}}],\"scatterternary\":[{\"type\":\"scatterternary\",\"marker\":{\"colorbar\":{\"outlinewidth\":0,\"ticks\":\"\"}}}],\"scattercarpet\":[{\"type\":\"scattercarpet\",\"marker\":{\"colorbar\":{\"outlinewidth\":0,\"ticks\":\"\"}}}],\"carpet\":[{\"aaxis\":{\"endlinecolor\":\"#2a3f5f\",\"gridcolor\":\"white\",\"linecolor\":\"white\",\"minorgridcolor\":\"white\",\"startlinecolor\":\"#2a3f5f\"},\"baxis\":{\"endlinecolor\":\"#2a3f5f\",\"gridcolor\":\"white\",\"linecolor\":\"white\",\"minorgridcolor\":\"white\",\"startlinecolor\":\"#2a3f5f\"},\"type\":\"carpet\"}],\"table\":[{\"cells\":{\"fill\":{\"color\":\"#EBF0F8\"},\"line\":{\"color\":\"white\"}},\"header\":{\"fill\":{\"color\":\"#C8D4E3\"},\"line\":{\"color\":\"white\"}},\"type\":\"table\"}],\"barpolar\":[{\"marker\":{\"line\":{\"color\":\"#E5ECF6\",\"width\":0.5},\"pattern\":{\"fillmode\":\"overlay\",\"size\":10,\"solidity\":0.2}},\"type\":\"barpolar\"}],\"pie\":[{\"automargin\":true,\"type\":\"pie\"}]},\"layout\":{\"autotypenumbers\":\"strict\",\"colorway\":[\"#636efa\",\"#EF553B\",\"#00cc96\",\"#ab63fa\",\"#FFA15A\",\"#19d3f3\",\"#FF6692\",\"#B6E880\",\"#FF97FF\",\"#FECB52\"],\"font\":{\"color\":\"#2a3f5f\"},\"hovermode\":\"closest\",\"hoverlabel\":{\"align\":\"left\"},\"paper_bgcolor\":\"white\",\"plot_bgcolor\":\"#E5ECF6\",\"polar\":{\"bgcolor\":\"#E5ECF6\",\"angularaxis\":{\"gridcolor\":\"white\",\"linecolor\":\"white\",\"ticks\":\"\"},\"radialaxis\":{\"gridcolor\":\"white\",\"linecolor\":\"white\",\"ticks\":\"\"}},\"ternary\":{\"bgcolor\":\"#E5ECF6\",\"aaxis\":{\"gridcolor\":\"white\",\"linecolor\":\"white\",\"ticks\":\"\"},\"baxis\":{\"gridcolor\":\"white\",\"linecolor\":\"white\",\"ticks\":\"\"},\"caxis\":{\"gridcolor\":\"white\",\"linecolor\":\"white\",\"ticks\":\"\"}},\"coloraxis\":{\"colorbar\":{\"outlinewidth\":0,\"ticks\":\"\"}},\"colorscale\":{\"sequential\":[[0.0,\"#0d0887\"],[0.1111111111111111,\"#46039f\"],[0.2222222222222222,\"#7201a8\"],[0.3333333333333333,\"#9c179e\"],[0.4444444444444444,\"#bd3786\"],[0.5555555555555556,\"#d8576b\"],[0.6666666666666666,\"#ed7953\"],[0.7777777777777778,\"#fb9f3a\"],[0.8888888888888888,\"#fdca26\"],[1.0,\"#f0f921\"]],\"sequentialminus\":[[0.0,\"#0d0887\"],[0.1111111111111111,\"#46039f\"],[0.2222222222222222,\"#7201a8\"],[0.3333333333333333,\"#9c179e\"],[0.4444444444444444,\"#bd3786\"],[0.5555555555555556,\"#d8576b\"],[0.6666666666666666,\"#ed7953\"],[0.7777777777777778,\"#fb9f3a\"],[0.8888888888888888,\"#fdca26\"],[1.0,\"#f0f921\"]],\"diverging\":[[0,\"#8e0152\"],[0.1,\"#c51b7d\"],[0.2,\"#de77ae\"],[0.3,\"#f1b6da\"],[0.4,\"#fde0ef\"],[0.5,\"#f7f7f7\"],[0.6,\"#e6f5d0\"],[0.7,\"#b8e186\"],[0.8,\"#7fbc41\"],[0.9,\"#4d9221\"],[1,\"#276419\"]]},\"xaxis\":{\"gridcolor\":\"white\",\"linecolor\":\"white\",\"ticks\":\"\",\"title\":{\"standoff\":15},\"zerolinecolor\":\"white\",\"automargin\":true,\"zerolinewidth\":2},\"yaxis\":{\"gridcolor\":\"white\",\"linecolor\":\"white\",\"ticks\":\"\",\"title\":{\"standoff\":15},\"zerolinecolor\":\"white\",\"automargin\":true,\"zerolinewidth\":2},\"scene\":{\"xaxis\":{\"backgroundcolor\":\"#E5ECF6\",\"gridcolor\":\"white\",\"linecolor\":\"white\",\"showbackground\":true,\"ticks\":\"\",\"zerolinecolor\":\"white\",\"gridwidth\":2},\"yaxis\":{\"backgroundcolor\":\"#E5ECF6\",\"gridcolor\":\"white\",\"linecolor\":\"white\",\"showbackground\":true,\"ticks\":\"\",\"zerolinecolor\":\"white\",\"gridwidth\":2},\"zaxis\":{\"backgroundcolor\":\"#E5ECF6\",\"gridcolor\":\"white\",\"linecolor\":\"white\",\"showbackground\":true,\"ticks\":\"\",\"zerolinecolor\":\"white\",\"gridwidth\":2}},\"shapedefaults\":{\"line\":{\"color\":\"#2a3f5f\"}},\"annotationdefaults\":{\"arrowcolor\":\"#2a3f5f\",\"arrowhead\":0,\"arrowwidth\":1},\"geo\":{\"bgcolor\":\"white\",\"landcolor\":\"#E5ECF6\",\"subunitcolor\":\"white\",\"showland\":true,\"showlakes\":true,\"lakecolor\":\"white\"},\"title\":{\"x\":0.05},\"mapbox\":{\"style\":\"light\"}}}},                        {\"responsive\": true}                    ).then(function(){\n",
       "                            \n",
       "var gd = document.getElementById('22947fc7-a2ea-4a32-9790-2aad5b746ab6');\n",
       "var x = new MutationObserver(function (mutations, observer) {{\n",
       "        var display = window.getComputedStyle(gd).display;\n",
       "        if (!display || display === 'none') {{\n",
       "            console.log([gd, 'removed!']);\n",
       "            Plotly.purge(gd);\n",
       "            observer.disconnect();\n",
       "        }}\n",
       "}});\n",
       "\n",
       "// Listen for the removal of the full notebook cells\n",
       "var notebookContainer = gd.closest('#notebook-container');\n",
       "if (notebookContainer) {{\n",
       "    x.observe(notebookContainer, {childList: true});\n",
       "}}\n",
       "\n",
       "// Listen for the clearing of the current output cell\n",
       "var outputEl = gd.closest('.output');\n",
       "if (outputEl) {{\n",
       "    x.observe(outputEl, {childList: true});\n",
       "}}\n",
       "\n",
       "                        })                };                });            </script>        </div>"
      ]
     },
     "metadata": {},
     "output_type": "display_data"
    }
   ],
   "source": [
    "# Excercise 3-3 (Part 2: visualizing 3D subspace)\n",
    "import plotly.graph_objects as go\n",
    "\n",
    "vector_1 = np.array([3, 5, 1])\n",
    "vector_2 = np.array([0, 2, 2])\n",
    "\n",
    "# Generate scalars\n",
    "scalars = np.random.uniform(low=-4,high=4,size=(100,2))\n",
    "\n",
    "coordinates = np.zeros((100,3))\n",
    "for i in range(len(scalars)):\n",
    "  coordinates[i,:] = (vector_1 * scalars[i, 0]) + (vector_2 * scalars[i, 1])\n",
    "\n",
    "# Create the figure and add the scatter plot\n",
    "fig = go.Figure(data=[go.Scatter3d(\n",
    "    x=coordinates[:, 0],\n",
    "    y=coordinates[:, 1],\n",
    "    z=coordinates[:, 2],\n",
    "    mode='markers'\n",
    ")])\n",
    "\n",
    "# Show the plot\n",
    "fig.show()"
   ]
  },
  {
   "cell_type": "code",
   "execution_count": 8,
   "metadata": {},
   "outputs": [
    {
     "data": {
      "application/vnd.plotly.v1+json": {
       "config": {
        "plotlyServerURL": "https://plot.ly"
       },
       "data": [
        {
         "mode": "markers",
         "type": "scatter3d",
         "x": [
          5.85377728679376,
          1.9911829074095948,
          -10.292224997664952,
          -8.181128280667695,
          -12.876347382768536,
          -8.9963482992099,
          1.345309637500863,
          -11.362670674918874,
          -5.789569715089845,
          -1.1298363134516318,
          -6.288073195436792,
          -10.220452438098132,
          -4.943110408280319,
          0.7958628084322914,
          -3.065912678691393,
          1.2447861098828463,
          -7.524373564380733,
          7.850895405064691,
          -6.5902540948072295,
          8.53957470604498,
          -1.4289667375230257,
          -14.352008602049573,
          -4.041409328009499,
          12.516892522725717,
          1.4412266860469587,
          -10.391044221765533,
          -6.058787736692251,
          -13.442117810124422,
          1.3584309502741418,
          12.9455837287914,
          -2.4360705850993423,
          13.05467758310831,
          -10.058863228594603,
          10.643659803581356,
          15.012590490159775,
          2.2114100117600923,
          13.865760578246473,
          -1.4769814956879772,
          -10.881030251610195,
          -16.30532704430481,
          13.855954401593902,
          -14.488521888972794,
          5.7422489238497505,
          4.754125736925872,
          4.530416341457126,
          4.296970907303029,
          -10.046162012149246,
          -8.033125257654461,
          3.762617447830716,
          -9.085498755494767,
          3.209883615613819,
          4.1127956318200685,
          13.329787548272279,
          -9.308612391585502,
          4.163757370703386,
          3.997323194077164,
          -10.153239737391448,
          -12.965990108971653,
          -9.110305046822956,
          4.517735253726433,
          14.419588325156955,
          1.325292872302005,
          9.013535630275747,
          -6.417871717049367,
          -6.937405463207598,
          -5.649365304164707,
          1.385107094458939,
          -3.401896762641202,
          -6.800439574627015,
          1.416857219170451,
          -9.828295552591184,
          2.9871140666927873,
          2.3345888680333315,
          -1.151071385938888,
          -9.108599456268863,
          -13.527905064489273,
          -0.26703522340066144,
          -15.43588029341959,
          7.018997314233539,
          -13.133941242784903,
          7.934272820020082,
          -16.860241409665967,
          7.078922277145505,
          -7.649100542370531,
          -12.098396376921851,
          -11.623945042676064,
          -6.732545420158962,
          7.115935788856293,
          -7.893754154759525,
          -5.164056696481951,
          -13.818468603296063,
          -10.123046384312818,
          -9.816776818434818,
          -6.088539810410234,
          4.6488273955271415,
          7.301441010455352,
          -0.057463337410150306,
          0.6717768209164996,
          3.0254535661324953,
          4.679414627280656
         ],
         "y": [
          9.7562954779896,
          3.3186381790159913,
          -17.15370832944159,
          -13.635213801112824,
          -21.46057897128089,
          -14.993913832016503,
          2.2421827291681042,
          -18.937784458198124,
          -9.649282858483074,
          -1.8830605224193855,
          -10.480121992394652,
          -17.03408739683022,
          -8.238517347133865,
          1.326438014053819,
          -5.109854464485655,
          2.0746435164714105,
          -12.540622607301222,
          13.084825675107819,
          -10.983756824678714,
          14.23262451007497,
          -2.381611229205043,
          -23.92001433674929,
          -6.735682213349166,
          20.861487537876194,
          2.4020444767449307,
          -17.31840703627589,
          -10.097979561153755,
          -22.403529683540707,
          2.2640515837902364,
          21.575972881319004,
          -4.060117641832238,
          21.757795971847187,
          -16.764772047657672,
          17.739433005968927,
          25.020984150266294,
          3.685683352933486,
          23.10960096374412,
          -2.4616358261466287,
          -18.13505041935033,
          -27.175545073841356,
          23.093257335989833,
          -24.147536481621323,
          9.570414873082917,
          7.9235428948764515,
          7.550693902428545,
          7.161618178838383,
          -16.743603353582074,
          -13.388542096090767,
          6.27102907971786,
          -15.142497925824612,
          5.349806026023032,
          6.854659386366781,
          22.216312580453796,
          -15.514353985975838,
          6.939595617838976,
          6.662205323461941,
          -16.922066228985745,
          -21.609983514952756,
          -15.183841744704926,
          7.529558756210722,
          24.032647208594927,
          2.208821453836676,
          15.02255938379291,
          -10.696452861748947,
          -11.562342438679327,
          -9.415608840274508,
          2.3085118240982307,
          -5.669827937735336,
          -11.334065957711696,
          2.361428698617418,
          -16.380492587651972,
          4.978523444487979,
          3.8909814467222192,
          -1.9184523098981465,
          -15.180999093781441,
          -22.54650844081545,
          -0.44505870566776906,
          -25.726467155699318,
          11.6983288570559,
          -21.88990207130817,
          13.223788033366805,
          -28.10040234944328,
          11.798203795242507,
          -12.748500903950884,
          -20.163993961536416,
          -19.373241737793442,
          -11.22090903359827,
          11.859892981427153,
          -13.156256924599209,
          -8.606761160803252,
          -23.030781005493438,
          -16.8717439738547,
          -16.361294697391365,
          -10.147566350683723,
          7.748045659211904,
          12.169068350758916,
          -0.09577222901691718,
          1.119628034860833,
          5.042422610220823,
          7.799024378801095
         ],
         "z": [
          1.95125909559792,
          0.6637276358031983,
          -3.4307416658883176,
          -2.727042760222565,
          -4.292115794256178,
          -2.9987827664033,
          0.448436545833621,
          -3.7875568916396247,
          -1.929856571696615,
          -0.3766121044838773,
          -2.0960243984789306,
          -3.406817479366044,
          -1.647703469426773,
          0.2652876028107638,
          -1.021970892897131,
          0.4149287032942821,
          -2.5081245214602443,
          2.6169651350215637,
          -2.196751364935743,
          2.846524902014994,
          -0.4763222458410086,
          -4.784002867349858,
          -1.3471364426698331,
          4.172297507575239,
          0.48040889534898623,
          -3.463681407255178,
          -2.0195959122307507,
          -4.480705936708141,
          0.4528103167580473,
          4.3151945762638,
          -0.8120235283664474,
          4.351559194369437,
          -3.352954409531534,
          3.5478866011937855,
          5.004196830053258,
          0.7371366705866973,
          4.621920192748824,
          -0.49232716522932574,
          -3.6270100838700654,
          -5.435109014768271,
          4.618651467197967,
          -4.829507296324264,
          1.9140829746165835,
          1.5847085789752904,
          1.510138780485709,
          1.4323236357676765,
          -3.348720670716415,
          -2.6777084192181535,
          1.254205815943572,
          -3.0284995851649223,
          1.0699612052046064,
          1.3709318772733563,
          4.443262516090759,
          -3.1028707971951675,
          1.3879191235677952,
          1.332441064692388,
          -3.384413245797149,
          -4.3219967029905515,
          -3.0367683489409854,
          1.5059117512421443,
          4.806529441718985,
          0.44176429076733514,
          3.004511876758582,
          -2.1392905723497893,
          -2.312468487735866,
          -1.883121768054902,
          0.4617023648196463,
          -1.1339655875470673,
          -2.266813191542339,
          0.47228573972348364,
          -3.2760985175303943,
          0.9957046888975958,
          0.7781962893444438,
          -0.3836904619796293,
          -3.036199818756288,
          -4.509301688163091,
          -0.08901174113355381,
          -5.145293431139864,
          2.33966577141118,
          -4.377980414261634,
          2.6447576066733607,
          -5.620080469888656,
          2.3596407590485016,
          -2.549700180790177,
          -4.032798792307283,
          -3.874648347558688,
          -2.244181806719654,
          2.3719785962854307,
          -2.6312513849198416,
          -1.7213522321606503,
          -4.606156201098687,
          -3.3743487947709396,
          -3.272258939478273,
          -2.0295132701367447,
          1.5496091318423808,
          2.4338136701517836,
          -0.019154445803383435,
          0.22392560697216668,
          1.008484522044165,
          1.5598048757602188
         ]
        }
       ],
       "layout": {
        "template": {
         "data": {
          "bar": [
           {
            "error_x": {
             "color": "#2a3f5f"
            },
            "error_y": {
             "color": "#2a3f5f"
            },
            "marker": {
             "line": {
              "color": "#E5ECF6",
              "width": 0.5
             },
             "pattern": {
              "fillmode": "overlay",
              "size": 10,
              "solidity": 0.2
             }
            },
            "type": "bar"
           }
          ],
          "barpolar": [
           {
            "marker": {
             "line": {
              "color": "#E5ECF6",
              "width": 0.5
             },
             "pattern": {
              "fillmode": "overlay",
              "size": 10,
              "solidity": 0.2
             }
            },
            "type": "barpolar"
           }
          ],
          "carpet": [
           {
            "aaxis": {
             "endlinecolor": "#2a3f5f",
             "gridcolor": "white",
             "linecolor": "white",
             "minorgridcolor": "white",
             "startlinecolor": "#2a3f5f"
            },
            "baxis": {
             "endlinecolor": "#2a3f5f",
             "gridcolor": "white",
             "linecolor": "white",
             "minorgridcolor": "white",
             "startlinecolor": "#2a3f5f"
            },
            "type": "carpet"
           }
          ],
          "choropleth": [
           {
            "colorbar": {
             "outlinewidth": 0,
             "ticks": ""
            },
            "type": "choropleth"
           }
          ],
          "contour": [
           {
            "colorbar": {
             "outlinewidth": 0,
             "ticks": ""
            },
            "colorscale": [
             [
              0,
              "#0d0887"
             ],
             [
              0.1111111111111111,
              "#46039f"
             ],
             [
              0.2222222222222222,
              "#7201a8"
             ],
             [
              0.3333333333333333,
              "#9c179e"
             ],
             [
              0.4444444444444444,
              "#bd3786"
             ],
             [
              0.5555555555555556,
              "#d8576b"
             ],
             [
              0.6666666666666666,
              "#ed7953"
             ],
             [
              0.7777777777777778,
              "#fb9f3a"
             ],
             [
              0.8888888888888888,
              "#fdca26"
             ],
             [
              1,
              "#f0f921"
             ]
            ],
            "type": "contour"
           }
          ],
          "contourcarpet": [
           {
            "colorbar": {
             "outlinewidth": 0,
             "ticks": ""
            },
            "type": "contourcarpet"
           }
          ],
          "heatmap": [
           {
            "colorbar": {
             "outlinewidth": 0,
             "ticks": ""
            },
            "colorscale": [
             [
              0,
              "#0d0887"
             ],
             [
              0.1111111111111111,
              "#46039f"
             ],
             [
              0.2222222222222222,
              "#7201a8"
             ],
             [
              0.3333333333333333,
              "#9c179e"
             ],
             [
              0.4444444444444444,
              "#bd3786"
             ],
             [
              0.5555555555555556,
              "#d8576b"
             ],
             [
              0.6666666666666666,
              "#ed7953"
             ],
             [
              0.7777777777777778,
              "#fb9f3a"
             ],
             [
              0.8888888888888888,
              "#fdca26"
             ],
             [
              1,
              "#f0f921"
             ]
            ],
            "type": "heatmap"
           }
          ],
          "heatmapgl": [
           {
            "colorbar": {
             "outlinewidth": 0,
             "ticks": ""
            },
            "colorscale": [
             [
              0,
              "#0d0887"
             ],
             [
              0.1111111111111111,
              "#46039f"
             ],
             [
              0.2222222222222222,
              "#7201a8"
             ],
             [
              0.3333333333333333,
              "#9c179e"
             ],
             [
              0.4444444444444444,
              "#bd3786"
             ],
             [
              0.5555555555555556,
              "#d8576b"
             ],
             [
              0.6666666666666666,
              "#ed7953"
             ],
             [
              0.7777777777777778,
              "#fb9f3a"
             ],
             [
              0.8888888888888888,
              "#fdca26"
             ],
             [
              1,
              "#f0f921"
             ]
            ],
            "type": "heatmapgl"
           }
          ],
          "histogram": [
           {
            "marker": {
             "pattern": {
              "fillmode": "overlay",
              "size": 10,
              "solidity": 0.2
             }
            },
            "type": "histogram"
           }
          ],
          "histogram2d": [
           {
            "colorbar": {
             "outlinewidth": 0,
             "ticks": ""
            },
            "colorscale": [
             [
              0,
              "#0d0887"
             ],
             [
              0.1111111111111111,
              "#46039f"
             ],
             [
              0.2222222222222222,
              "#7201a8"
             ],
             [
              0.3333333333333333,
              "#9c179e"
             ],
             [
              0.4444444444444444,
              "#bd3786"
             ],
             [
              0.5555555555555556,
              "#d8576b"
             ],
             [
              0.6666666666666666,
              "#ed7953"
             ],
             [
              0.7777777777777778,
              "#fb9f3a"
             ],
             [
              0.8888888888888888,
              "#fdca26"
             ],
             [
              1,
              "#f0f921"
             ]
            ],
            "type": "histogram2d"
           }
          ],
          "histogram2dcontour": [
           {
            "colorbar": {
             "outlinewidth": 0,
             "ticks": ""
            },
            "colorscale": [
             [
              0,
              "#0d0887"
             ],
             [
              0.1111111111111111,
              "#46039f"
             ],
             [
              0.2222222222222222,
              "#7201a8"
             ],
             [
              0.3333333333333333,
              "#9c179e"
             ],
             [
              0.4444444444444444,
              "#bd3786"
             ],
             [
              0.5555555555555556,
              "#d8576b"
             ],
             [
              0.6666666666666666,
              "#ed7953"
             ],
             [
              0.7777777777777778,
              "#fb9f3a"
             ],
             [
              0.8888888888888888,
              "#fdca26"
             ],
             [
              1,
              "#f0f921"
             ]
            ],
            "type": "histogram2dcontour"
           }
          ],
          "mesh3d": [
           {
            "colorbar": {
             "outlinewidth": 0,
             "ticks": ""
            },
            "type": "mesh3d"
           }
          ],
          "parcoords": [
           {
            "line": {
             "colorbar": {
              "outlinewidth": 0,
              "ticks": ""
             }
            },
            "type": "parcoords"
           }
          ],
          "pie": [
           {
            "automargin": true,
            "type": "pie"
           }
          ],
          "scatter": [
           {
            "fillpattern": {
             "fillmode": "overlay",
             "size": 10,
             "solidity": 0.2
            },
            "type": "scatter"
           }
          ],
          "scatter3d": [
           {
            "line": {
             "colorbar": {
              "outlinewidth": 0,
              "ticks": ""
             }
            },
            "marker": {
             "colorbar": {
              "outlinewidth": 0,
              "ticks": ""
             }
            },
            "type": "scatter3d"
           }
          ],
          "scattercarpet": [
           {
            "marker": {
             "colorbar": {
              "outlinewidth": 0,
              "ticks": ""
             }
            },
            "type": "scattercarpet"
           }
          ],
          "scattergeo": [
           {
            "marker": {
             "colorbar": {
              "outlinewidth": 0,
              "ticks": ""
             }
            },
            "type": "scattergeo"
           }
          ],
          "scattergl": [
           {
            "marker": {
             "colorbar": {
              "outlinewidth": 0,
              "ticks": ""
             }
            },
            "type": "scattergl"
           }
          ],
          "scattermapbox": [
           {
            "marker": {
             "colorbar": {
              "outlinewidth": 0,
              "ticks": ""
             }
            },
            "type": "scattermapbox"
           }
          ],
          "scatterpolar": [
           {
            "marker": {
             "colorbar": {
              "outlinewidth": 0,
              "ticks": ""
             }
            },
            "type": "scatterpolar"
           }
          ],
          "scatterpolargl": [
           {
            "marker": {
             "colorbar": {
              "outlinewidth": 0,
              "ticks": ""
             }
            },
            "type": "scatterpolargl"
           }
          ],
          "scatterternary": [
           {
            "marker": {
             "colorbar": {
              "outlinewidth": 0,
              "ticks": ""
             }
            },
            "type": "scatterternary"
           }
          ],
          "surface": [
           {
            "colorbar": {
             "outlinewidth": 0,
             "ticks": ""
            },
            "colorscale": [
             [
              0,
              "#0d0887"
             ],
             [
              0.1111111111111111,
              "#46039f"
             ],
             [
              0.2222222222222222,
              "#7201a8"
             ],
             [
              0.3333333333333333,
              "#9c179e"
             ],
             [
              0.4444444444444444,
              "#bd3786"
             ],
             [
              0.5555555555555556,
              "#d8576b"
             ],
             [
              0.6666666666666666,
              "#ed7953"
             ],
             [
              0.7777777777777778,
              "#fb9f3a"
             ],
             [
              0.8888888888888888,
              "#fdca26"
             ],
             [
              1,
              "#f0f921"
             ]
            ],
            "type": "surface"
           }
          ],
          "table": [
           {
            "cells": {
             "fill": {
              "color": "#EBF0F8"
             },
             "line": {
              "color": "white"
             }
            },
            "header": {
             "fill": {
              "color": "#C8D4E3"
             },
             "line": {
              "color": "white"
             }
            },
            "type": "table"
           }
          ]
         },
         "layout": {
          "annotationdefaults": {
           "arrowcolor": "#2a3f5f",
           "arrowhead": 0,
           "arrowwidth": 1
          },
          "autotypenumbers": "strict",
          "coloraxis": {
           "colorbar": {
            "outlinewidth": 0,
            "ticks": ""
           }
          },
          "colorscale": {
           "diverging": [
            [
             0,
             "#8e0152"
            ],
            [
             0.1,
             "#c51b7d"
            ],
            [
             0.2,
             "#de77ae"
            ],
            [
             0.3,
             "#f1b6da"
            ],
            [
             0.4,
             "#fde0ef"
            ],
            [
             0.5,
             "#f7f7f7"
            ],
            [
             0.6,
             "#e6f5d0"
            ],
            [
             0.7,
             "#b8e186"
            ],
            [
             0.8,
             "#7fbc41"
            ],
            [
             0.9,
             "#4d9221"
            ],
            [
             1,
             "#276419"
            ]
           ],
           "sequential": [
            [
             0,
             "#0d0887"
            ],
            [
             0.1111111111111111,
             "#46039f"
            ],
            [
             0.2222222222222222,
             "#7201a8"
            ],
            [
             0.3333333333333333,
             "#9c179e"
            ],
            [
             0.4444444444444444,
             "#bd3786"
            ],
            [
             0.5555555555555556,
             "#d8576b"
            ],
            [
             0.6666666666666666,
             "#ed7953"
            ],
            [
             0.7777777777777778,
             "#fb9f3a"
            ],
            [
             0.8888888888888888,
             "#fdca26"
            ],
            [
             1,
             "#f0f921"
            ]
           ],
           "sequentialminus": [
            [
             0,
             "#0d0887"
            ],
            [
             0.1111111111111111,
             "#46039f"
            ],
            [
             0.2222222222222222,
             "#7201a8"
            ],
            [
             0.3333333333333333,
             "#9c179e"
            ],
            [
             0.4444444444444444,
             "#bd3786"
            ],
            [
             0.5555555555555556,
             "#d8576b"
            ],
            [
             0.6666666666666666,
             "#ed7953"
            ],
            [
             0.7777777777777778,
             "#fb9f3a"
            ],
            [
             0.8888888888888888,
             "#fdca26"
            ],
            [
             1,
             "#f0f921"
            ]
           ]
          },
          "colorway": [
           "#636efa",
           "#EF553B",
           "#00cc96",
           "#ab63fa",
           "#FFA15A",
           "#19d3f3",
           "#FF6692",
           "#B6E880",
           "#FF97FF",
           "#FECB52"
          ],
          "font": {
           "color": "#2a3f5f"
          },
          "geo": {
           "bgcolor": "white",
           "lakecolor": "white",
           "landcolor": "#E5ECF6",
           "showlakes": true,
           "showland": true,
           "subunitcolor": "white"
          },
          "hoverlabel": {
           "align": "left"
          },
          "hovermode": "closest",
          "mapbox": {
           "style": "light"
          },
          "paper_bgcolor": "white",
          "plot_bgcolor": "#E5ECF6",
          "polar": {
           "angularaxis": {
            "gridcolor": "white",
            "linecolor": "white",
            "ticks": ""
           },
           "bgcolor": "#E5ECF6",
           "radialaxis": {
            "gridcolor": "white",
            "linecolor": "white",
            "ticks": ""
           }
          },
          "scene": {
           "xaxis": {
            "backgroundcolor": "#E5ECF6",
            "gridcolor": "white",
            "gridwidth": 2,
            "linecolor": "white",
            "showbackground": true,
            "ticks": "",
            "zerolinecolor": "white"
           },
           "yaxis": {
            "backgroundcolor": "#E5ECF6",
            "gridcolor": "white",
            "gridwidth": 2,
            "linecolor": "white",
            "showbackground": true,
            "ticks": "",
            "zerolinecolor": "white"
           },
           "zaxis": {
            "backgroundcolor": "#E5ECF6",
            "gridcolor": "white",
            "gridwidth": 2,
            "linecolor": "white",
            "showbackground": true,
            "ticks": "",
            "zerolinecolor": "white"
           }
          },
          "shapedefaults": {
           "line": {
            "color": "#2a3f5f"
           }
          },
          "ternary": {
           "aaxis": {
            "gridcolor": "white",
            "linecolor": "white",
            "ticks": ""
           },
           "baxis": {
            "gridcolor": "white",
            "linecolor": "white",
            "ticks": ""
           },
           "bgcolor": "#E5ECF6",
           "caxis": {
            "gridcolor": "white",
            "linecolor": "white",
            "ticks": ""
           }
          },
          "title": {
           "x": 0.05
          },
          "xaxis": {
           "automargin": true,
           "gridcolor": "white",
           "linecolor": "white",
           "ticks": "",
           "title": {
            "standoff": 15
           },
           "zerolinecolor": "white",
           "zerolinewidth": 2
          },
          "yaxis": {
           "automargin": true,
           "gridcolor": "white",
           "linecolor": "white",
           "ticks": "",
           "title": {
            "standoff": 15
           },
           "zerolinecolor": "white",
           "zerolinewidth": 2
          }
         }
        }
       }
      },
      "text/html": [
       "<div>                            <div id=\"9063fb4d-812a-458e-9db7-4c64d24e5833\" class=\"plotly-graph-div\" style=\"height:525px; width:100%;\"></div>            <script type=\"text/javascript\">                require([\"plotly\"], function(Plotly) {                    window.PLOTLYENV=window.PLOTLYENV || {};                                    if (document.getElementById(\"9063fb4d-812a-458e-9db7-4c64d24e5833\")) {                    Plotly.newPlot(                        \"9063fb4d-812a-458e-9db7-4c64d24e5833\",                        [{\"mode\":\"markers\",\"x\":[5.85377728679376,1.9911829074095948,-10.292224997664952,-8.181128280667695,-12.876347382768536,-8.9963482992099,1.345309637500863,-11.362670674918874,-5.789569715089845,-1.1298363134516318,-6.288073195436792,-10.220452438098132,-4.943110408280319,0.7958628084322914,-3.065912678691393,1.2447861098828463,-7.524373564380733,7.850895405064691,-6.5902540948072295,8.53957470604498,-1.4289667375230257,-14.352008602049573,-4.041409328009499,12.516892522725717,1.4412266860469587,-10.391044221765533,-6.058787736692251,-13.442117810124422,1.3584309502741418,12.9455837287914,-2.4360705850993423,13.05467758310831,-10.058863228594603,10.643659803581356,15.012590490159775,2.2114100117600923,13.865760578246473,-1.4769814956879772,-10.881030251610195,-16.30532704430481,13.855954401593902,-14.488521888972794,5.7422489238497505,4.754125736925872,4.530416341457126,4.296970907303029,-10.046162012149246,-8.033125257654461,3.762617447830716,-9.085498755494767,3.209883615613819,4.1127956318200685,13.329787548272279,-9.308612391585502,4.163757370703386,3.997323194077164,-10.153239737391448,-12.965990108971653,-9.110305046822956,4.517735253726433,14.419588325156955,1.325292872302005,9.013535630275747,-6.417871717049367,-6.937405463207598,-5.649365304164707,1.385107094458939,-3.401896762641202,-6.800439574627015,1.416857219170451,-9.828295552591184,2.9871140666927873,2.3345888680333315,-1.151071385938888,-9.108599456268863,-13.527905064489273,-0.26703522340066144,-15.43588029341959,7.018997314233539,-13.133941242784903,7.934272820020082,-16.860241409665967,7.078922277145505,-7.649100542370531,-12.098396376921851,-11.623945042676064,-6.732545420158962,7.115935788856293,-7.893754154759525,-5.164056696481951,-13.818468603296063,-10.123046384312818,-9.816776818434818,-6.088539810410234,4.6488273955271415,7.301441010455352,-0.057463337410150306,0.6717768209164996,3.0254535661324953,4.679414627280656],\"y\":[9.7562954779896,3.3186381790159913,-17.15370832944159,-13.635213801112824,-21.46057897128089,-14.993913832016503,2.2421827291681042,-18.937784458198124,-9.649282858483074,-1.8830605224193855,-10.480121992394652,-17.03408739683022,-8.238517347133865,1.326438014053819,-5.109854464485655,2.0746435164714105,-12.540622607301222,13.084825675107819,-10.983756824678714,14.23262451007497,-2.381611229205043,-23.92001433674929,-6.735682213349166,20.861487537876194,2.4020444767449307,-17.31840703627589,-10.097979561153755,-22.403529683540707,2.2640515837902364,21.575972881319004,-4.060117641832238,21.757795971847187,-16.764772047657672,17.739433005968927,25.020984150266294,3.685683352933486,23.10960096374412,-2.4616358261466287,-18.13505041935033,-27.175545073841356,23.093257335989833,-24.147536481621323,9.570414873082917,7.9235428948764515,7.550693902428545,7.161618178838383,-16.743603353582074,-13.388542096090767,6.27102907971786,-15.142497925824612,5.349806026023032,6.854659386366781,22.216312580453796,-15.514353985975838,6.939595617838976,6.662205323461941,-16.922066228985745,-21.609983514952756,-15.183841744704926,7.529558756210722,24.032647208594927,2.208821453836676,15.02255938379291,-10.696452861748947,-11.562342438679327,-9.415608840274508,2.3085118240982307,-5.669827937735336,-11.334065957711696,2.361428698617418,-16.380492587651972,4.978523444487979,3.8909814467222192,-1.9184523098981465,-15.180999093781441,-22.54650844081545,-0.44505870566776906,-25.726467155699318,11.6983288570559,-21.88990207130817,13.223788033366805,-28.10040234944328,11.798203795242507,-12.748500903950884,-20.163993961536416,-19.373241737793442,-11.22090903359827,11.859892981427153,-13.156256924599209,-8.606761160803252,-23.030781005493438,-16.8717439738547,-16.361294697391365,-10.147566350683723,7.748045659211904,12.169068350758916,-0.09577222901691718,1.119628034860833,5.042422610220823,7.799024378801095],\"z\":[1.95125909559792,0.6637276358031983,-3.4307416658883176,-2.727042760222565,-4.292115794256178,-2.9987827664033,0.448436545833621,-3.7875568916396247,-1.929856571696615,-0.3766121044838773,-2.0960243984789306,-3.406817479366044,-1.647703469426773,0.2652876028107638,-1.021970892897131,0.4149287032942821,-2.5081245214602443,2.6169651350215637,-2.196751364935743,2.846524902014994,-0.4763222458410086,-4.784002867349858,-1.3471364426698331,4.172297507575239,0.48040889534898623,-3.463681407255178,-2.0195959122307507,-4.480705936708141,0.4528103167580473,4.3151945762638,-0.8120235283664474,4.351559194369437,-3.352954409531534,3.5478866011937855,5.004196830053258,0.7371366705866973,4.621920192748824,-0.49232716522932574,-3.6270100838700654,-5.435109014768271,4.618651467197967,-4.829507296324264,1.9140829746165835,1.5847085789752904,1.510138780485709,1.4323236357676765,-3.348720670716415,-2.6777084192181535,1.254205815943572,-3.0284995851649223,1.0699612052046064,1.3709318772733563,4.443262516090759,-3.1028707971951675,1.3879191235677952,1.332441064692388,-3.384413245797149,-4.3219967029905515,-3.0367683489409854,1.5059117512421443,4.806529441718985,0.44176429076733514,3.004511876758582,-2.1392905723497893,-2.312468487735866,-1.883121768054902,0.4617023648196463,-1.1339655875470673,-2.266813191542339,0.47228573972348364,-3.2760985175303943,0.9957046888975958,0.7781962893444438,-0.3836904619796293,-3.036199818756288,-4.509301688163091,-0.08901174113355381,-5.145293431139864,2.33966577141118,-4.377980414261634,2.6447576066733607,-5.620080469888656,2.3596407590485016,-2.549700180790177,-4.032798792307283,-3.874648347558688,-2.244181806719654,2.3719785962854307,-2.6312513849198416,-1.7213522321606503,-4.606156201098687,-3.3743487947709396,-3.272258939478273,-2.0295132701367447,1.5496091318423808,2.4338136701517836,-0.019154445803383435,0.22392560697216668,1.008484522044165,1.5598048757602188],\"type\":\"scatter3d\"}],                        {\"template\":{\"data\":{\"histogram2dcontour\":[{\"type\":\"histogram2dcontour\",\"colorbar\":{\"outlinewidth\":0,\"ticks\":\"\"},\"colorscale\":[[0.0,\"#0d0887\"],[0.1111111111111111,\"#46039f\"],[0.2222222222222222,\"#7201a8\"],[0.3333333333333333,\"#9c179e\"],[0.4444444444444444,\"#bd3786\"],[0.5555555555555556,\"#d8576b\"],[0.6666666666666666,\"#ed7953\"],[0.7777777777777778,\"#fb9f3a\"],[0.8888888888888888,\"#fdca26\"],[1.0,\"#f0f921\"]]}],\"choropleth\":[{\"type\":\"choropleth\",\"colorbar\":{\"outlinewidth\":0,\"ticks\":\"\"}}],\"histogram2d\":[{\"type\":\"histogram2d\",\"colorbar\":{\"outlinewidth\":0,\"ticks\":\"\"},\"colorscale\":[[0.0,\"#0d0887\"],[0.1111111111111111,\"#46039f\"],[0.2222222222222222,\"#7201a8\"],[0.3333333333333333,\"#9c179e\"],[0.4444444444444444,\"#bd3786\"],[0.5555555555555556,\"#d8576b\"],[0.6666666666666666,\"#ed7953\"],[0.7777777777777778,\"#fb9f3a\"],[0.8888888888888888,\"#fdca26\"],[1.0,\"#f0f921\"]]}],\"heatmap\":[{\"type\":\"heatmap\",\"colorbar\":{\"outlinewidth\":0,\"ticks\":\"\"},\"colorscale\":[[0.0,\"#0d0887\"],[0.1111111111111111,\"#46039f\"],[0.2222222222222222,\"#7201a8\"],[0.3333333333333333,\"#9c179e\"],[0.4444444444444444,\"#bd3786\"],[0.5555555555555556,\"#d8576b\"],[0.6666666666666666,\"#ed7953\"],[0.7777777777777778,\"#fb9f3a\"],[0.8888888888888888,\"#fdca26\"],[1.0,\"#f0f921\"]]}],\"heatmapgl\":[{\"type\":\"heatmapgl\",\"colorbar\":{\"outlinewidth\":0,\"ticks\":\"\"},\"colorscale\":[[0.0,\"#0d0887\"],[0.1111111111111111,\"#46039f\"],[0.2222222222222222,\"#7201a8\"],[0.3333333333333333,\"#9c179e\"],[0.4444444444444444,\"#bd3786\"],[0.5555555555555556,\"#d8576b\"],[0.6666666666666666,\"#ed7953\"],[0.7777777777777778,\"#fb9f3a\"],[0.8888888888888888,\"#fdca26\"],[1.0,\"#f0f921\"]]}],\"contourcarpet\":[{\"type\":\"contourcarpet\",\"colorbar\":{\"outlinewidth\":0,\"ticks\":\"\"}}],\"contour\":[{\"type\":\"contour\",\"colorbar\":{\"outlinewidth\":0,\"ticks\":\"\"},\"colorscale\":[[0.0,\"#0d0887\"],[0.1111111111111111,\"#46039f\"],[0.2222222222222222,\"#7201a8\"],[0.3333333333333333,\"#9c179e\"],[0.4444444444444444,\"#bd3786\"],[0.5555555555555556,\"#d8576b\"],[0.6666666666666666,\"#ed7953\"],[0.7777777777777778,\"#fb9f3a\"],[0.8888888888888888,\"#fdca26\"],[1.0,\"#f0f921\"]]}],\"surface\":[{\"type\":\"surface\",\"colorbar\":{\"outlinewidth\":0,\"ticks\":\"\"},\"colorscale\":[[0.0,\"#0d0887\"],[0.1111111111111111,\"#46039f\"],[0.2222222222222222,\"#7201a8\"],[0.3333333333333333,\"#9c179e\"],[0.4444444444444444,\"#bd3786\"],[0.5555555555555556,\"#d8576b\"],[0.6666666666666666,\"#ed7953\"],[0.7777777777777778,\"#fb9f3a\"],[0.8888888888888888,\"#fdca26\"],[1.0,\"#f0f921\"]]}],\"mesh3d\":[{\"type\":\"mesh3d\",\"colorbar\":{\"outlinewidth\":0,\"ticks\":\"\"}}],\"scatter\":[{\"fillpattern\":{\"fillmode\":\"overlay\",\"size\":10,\"solidity\":0.2},\"type\":\"scatter\"}],\"parcoords\":[{\"type\":\"parcoords\",\"line\":{\"colorbar\":{\"outlinewidth\":0,\"ticks\":\"\"}}}],\"scatterpolargl\":[{\"type\":\"scatterpolargl\",\"marker\":{\"colorbar\":{\"outlinewidth\":0,\"ticks\":\"\"}}}],\"bar\":[{\"error_x\":{\"color\":\"#2a3f5f\"},\"error_y\":{\"color\":\"#2a3f5f\"},\"marker\":{\"line\":{\"color\":\"#E5ECF6\",\"width\":0.5},\"pattern\":{\"fillmode\":\"overlay\",\"size\":10,\"solidity\":0.2}},\"type\":\"bar\"}],\"scattergeo\":[{\"type\":\"scattergeo\",\"marker\":{\"colorbar\":{\"outlinewidth\":0,\"ticks\":\"\"}}}],\"scatterpolar\":[{\"type\":\"scatterpolar\",\"marker\":{\"colorbar\":{\"outlinewidth\":0,\"ticks\":\"\"}}}],\"histogram\":[{\"marker\":{\"pattern\":{\"fillmode\":\"overlay\",\"size\":10,\"solidity\":0.2}},\"type\":\"histogram\"}],\"scattergl\":[{\"type\":\"scattergl\",\"marker\":{\"colorbar\":{\"outlinewidth\":0,\"ticks\":\"\"}}}],\"scatter3d\":[{\"type\":\"scatter3d\",\"line\":{\"colorbar\":{\"outlinewidth\":0,\"ticks\":\"\"}},\"marker\":{\"colorbar\":{\"outlinewidth\":0,\"ticks\":\"\"}}}],\"scattermapbox\":[{\"type\":\"scattermapbox\",\"marker\":{\"colorbar\":{\"outlinewidth\":0,\"ticks\":\"\"}}}],\"scatterternary\":[{\"type\":\"scatterternary\",\"marker\":{\"colorbar\":{\"outlinewidth\":0,\"ticks\":\"\"}}}],\"scattercarpet\":[{\"type\":\"scattercarpet\",\"marker\":{\"colorbar\":{\"outlinewidth\":0,\"ticks\":\"\"}}}],\"carpet\":[{\"aaxis\":{\"endlinecolor\":\"#2a3f5f\",\"gridcolor\":\"white\",\"linecolor\":\"white\",\"minorgridcolor\":\"white\",\"startlinecolor\":\"#2a3f5f\"},\"baxis\":{\"endlinecolor\":\"#2a3f5f\",\"gridcolor\":\"white\",\"linecolor\":\"white\",\"minorgridcolor\":\"white\",\"startlinecolor\":\"#2a3f5f\"},\"type\":\"carpet\"}],\"table\":[{\"cells\":{\"fill\":{\"color\":\"#EBF0F8\"},\"line\":{\"color\":\"white\"}},\"header\":{\"fill\":{\"color\":\"#C8D4E3\"},\"line\":{\"color\":\"white\"}},\"type\":\"table\"}],\"barpolar\":[{\"marker\":{\"line\":{\"color\":\"#E5ECF6\",\"width\":0.5},\"pattern\":{\"fillmode\":\"overlay\",\"size\":10,\"solidity\":0.2}},\"type\":\"barpolar\"}],\"pie\":[{\"automargin\":true,\"type\":\"pie\"}]},\"layout\":{\"autotypenumbers\":\"strict\",\"colorway\":[\"#636efa\",\"#EF553B\",\"#00cc96\",\"#ab63fa\",\"#FFA15A\",\"#19d3f3\",\"#FF6692\",\"#B6E880\",\"#FF97FF\",\"#FECB52\"],\"font\":{\"color\":\"#2a3f5f\"},\"hovermode\":\"closest\",\"hoverlabel\":{\"align\":\"left\"},\"paper_bgcolor\":\"white\",\"plot_bgcolor\":\"#E5ECF6\",\"polar\":{\"bgcolor\":\"#E5ECF6\",\"angularaxis\":{\"gridcolor\":\"white\",\"linecolor\":\"white\",\"ticks\":\"\"},\"radialaxis\":{\"gridcolor\":\"white\",\"linecolor\":\"white\",\"ticks\":\"\"}},\"ternary\":{\"bgcolor\":\"#E5ECF6\",\"aaxis\":{\"gridcolor\":\"white\",\"linecolor\":\"white\",\"ticks\":\"\"},\"baxis\":{\"gridcolor\":\"white\",\"linecolor\":\"white\",\"ticks\":\"\"},\"caxis\":{\"gridcolor\":\"white\",\"linecolor\":\"white\",\"ticks\":\"\"}},\"coloraxis\":{\"colorbar\":{\"outlinewidth\":0,\"ticks\":\"\"}},\"colorscale\":{\"sequential\":[[0.0,\"#0d0887\"],[0.1111111111111111,\"#46039f\"],[0.2222222222222222,\"#7201a8\"],[0.3333333333333333,\"#9c179e\"],[0.4444444444444444,\"#bd3786\"],[0.5555555555555556,\"#d8576b\"],[0.6666666666666666,\"#ed7953\"],[0.7777777777777778,\"#fb9f3a\"],[0.8888888888888888,\"#fdca26\"],[1.0,\"#f0f921\"]],\"sequentialminus\":[[0.0,\"#0d0887\"],[0.1111111111111111,\"#46039f\"],[0.2222222222222222,\"#7201a8\"],[0.3333333333333333,\"#9c179e\"],[0.4444444444444444,\"#bd3786\"],[0.5555555555555556,\"#d8576b\"],[0.6666666666666666,\"#ed7953\"],[0.7777777777777778,\"#fb9f3a\"],[0.8888888888888888,\"#fdca26\"],[1.0,\"#f0f921\"]],\"diverging\":[[0,\"#8e0152\"],[0.1,\"#c51b7d\"],[0.2,\"#de77ae\"],[0.3,\"#f1b6da\"],[0.4,\"#fde0ef\"],[0.5,\"#f7f7f7\"],[0.6,\"#e6f5d0\"],[0.7,\"#b8e186\"],[0.8,\"#7fbc41\"],[0.9,\"#4d9221\"],[1,\"#276419\"]]},\"xaxis\":{\"gridcolor\":\"white\",\"linecolor\":\"white\",\"ticks\":\"\",\"title\":{\"standoff\":15},\"zerolinecolor\":\"white\",\"automargin\":true,\"zerolinewidth\":2},\"yaxis\":{\"gridcolor\":\"white\",\"linecolor\":\"white\",\"ticks\":\"\",\"title\":{\"standoff\":15},\"zerolinecolor\":\"white\",\"automargin\":true,\"zerolinewidth\":2},\"scene\":{\"xaxis\":{\"backgroundcolor\":\"#E5ECF6\",\"gridcolor\":\"white\",\"linecolor\":\"white\",\"showbackground\":true,\"ticks\":\"\",\"zerolinecolor\":\"white\",\"gridwidth\":2},\"yaxis\":{\"backgroundcolor\":\"#E5ECF6\",\"gridcolor\":\"white\",\"linecolor\":\"white\",\"showbackground\":true,\"ticks\":\"\",\"zerolinecolor\":\"white\",\"gridwidth\":2},\"zaxis\":{\"backgroundcolor\":\"#E5ECF6\",\"gridcolor\":\"white\",\"linecolor\":\"white\",\"showbackground\":true,\"ticks\":\"\",\"zerolinecolor\":\"white\",\"gridwidth\":2}},\"shapedefaults\":{\"line\":{\"color\":\"#2a3f5f\"}},\"annotationdefaults\":{\"arrowcolor\":\"#2a3f5f\",\"arrowhead\":0,\"arrowwidth\":1},\"geo\":{\"bgcolor\":\"white\",\"landcolor\":\"#E5ECF6\",\"subunitcolor\":\"white\",\"showland\":true,\"showlakes\":true,\"lakecolor\":\"white\"},\"title\":{\"x\":0.05},\"mapbox\":{\"style\":\"light\"}}}},                        {\"responsive\": true}                    ).then(function(){\n",
       "                            \n",
       "var gd = document.getElementById('9063fb4d-812a-458e-9db7-4c64d24e5833');\n",
       "var x = new MutationObserver(function (mutations, observer) {{\n",
       "        var display = window.getComputedStyle(gd).display;\n",
       "        if (!display || display === 'none') {{\n",
       "            console.log([gd, 'removed!']);\n",
       "            Plotly.purge(gd);\n",
       "            observer.disconnect();\n",
       "        }}\n",
       "}});\n",
       "\n",
       "// Listen for the removal of the full notebook cells\n",
       "var notebookContainer = gd.closest('#notebook-container');\n",
       "if (notebookContainer) {{\n",
       "    x.observe(notebookContainer, {childList: true});\n",
       "}}\n",
       "\n",
       "// Listen for the clearing of the current output cell\n",
       "var outputEl = gd.closest('.output');\n",
       "if (outputEl) {{\n",
       "    x.observe(outputEl, {childList: true});\n",
       "}}\n",
       "\n",
       "                        })                };                });            </script>        </div>"
      ]
     },
     "metadata": {},
     "output_type": "display_data"
    }
   ],
   "source": [
    "# Excercise 3-3 (Part 2b: visualizing 3D subspace, with second vector being .5 of the first vector)\n",
    "\n",
    "vector_1 = np.array([3, 5, 1])\n",
    "vector_2 = np.array([1.5, 2.5, 0.5])\n",
    "\n",
    "scalars = np.random.uniform(low=-4,high=4,size=(100,2))\n",
    "\n",
    "coordinates = np.zeros((100,3))\n",
    "for i in range(len(scalars)):\n",
    "  coordinates[i,:] = (vector_1 * scalars[i, 0]) + (vector_2 * scalars[i, 1])\n",
    "\n",
    "# Create the figure and add the scatter plot\n",
    "fig = go.Figure(data=[go.Scatter3d(\n",
    "    x=coordinates[:, 0],\n",
    "    y=coordinates[:, 1],\n",
    "    z=coordinates[:, 2],\n",
    "    mode='markers'\n",
    ")])\n",
    "\n",
    "# Show the plot\n",
    "fig.show()"
   ]
  }
 ],
 "metadata": {
  "kernelspec": {
   "display_name": "Python 3 (ipykernel)",
   "language": "python",
   "name": "python3"
  },
  "language_info": {
   "codemirror_mode": {
    "name": "ipython",
    "version": 3
   },
   "file_extension": ".py",
   "mimetype": "text/x-python",
   "name": "python",
   "nbconvert_exporter": "python",
   "pygments_lexer": "ipython3",
   "version": "3.8.6"
  }
 },
 "nbformat": 4,
 "nbformat_minor": 2
}
