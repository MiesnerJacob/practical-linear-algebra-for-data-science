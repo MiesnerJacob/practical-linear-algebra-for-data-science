{
 "cells": [
  {
   "cell_type": "markdown",
   "metadata": {},
   "source": [
    "# Chapter 09: Orthogonal Matrices & QR Decomposition"
   ]
  },
  {
   "cell_type": "markdown",
   "metadata": {},
   "source": [
    "## Concepts"
   ]
  },
  {
   "cell_type": "code",
   "execution_count": 20,
   "metadata": {},
   "outputs": [],
   "source": [
    "import numpy as np\n",
    "from matplotlib import pyplot as plt"
   ]
  },
  {
   "cell_type": "code",
   "execution_count": 15,
   "metadata": {},
   "outputs": [
    {
     "name": "stdout",
     "output_type": "stream",
     "text": [
      "Orthogonal Matrix 1 multipled by its transpose equals the Identity Matrix: True\n",
      "Orthogonal Matrix 2 multipled by its transpose equals the Identity Matrix: True\n"
     ]
    }
   ],
   "source": [
    "# Orthogonal Matrices\n",
    "\n",
    "# Create two orthoginal matrices\n",
    "orthogonal_matrix_1 = np.array([ [1,-1],[1,1] ]) / np.sqrt(2)\n",
    "orthogonal_matrix_2 = np.array([ [1,2,2],[2,1,-2],[-2,2,-1] ]) / 3\n",
    "\n",
    "# Multiply matrices by their transpose\n",
    "matrix_q1_tranpose_product = orthogonal_matrix_1.T @ orthogonal_matrix_1\n",
    "matrix_q2_tranpose_product = orthogonal_matrix_2.T @ orthogonal_matrix_2\n",
    "\n",
    "# Check if matrix product equals identity matrix\n",
    "check_1 = np.allclose(matrix_q1_tranpose_product, np.eye(2))\n",
    "check_2 = np.allclose(matrix_q2_tranpose_product, np.eye(3))\n",
    "\n",
    "print(\"Orthogonal Matrix 1 multipled by its transpose equals the Identity Matrix:\", check_1)\n",
    "print(\"Orthogonal Matrix 2 multipled by its transpose equals the Identity Matrix:\", check_2)\n"
   ]
  },
  {
   "cell_type": "code",
   "execution_count": 57,
   "metadata": {},
   "outputs": [],
   "source": [
    "# QR Decomposition\n",
    "\n",
    "def perform_and_plot_qr(matrix_a, mode=None):\n",
    "    \"\"\"Performs QR decomposition of a matrix and visualizes the results along with their properties.\"\"\"\n",
    "    \n",
    "    # Perform QR decomposition based on the mode\n",
    "    if mode == 'complete' or mode == 'reduced':\n",
    "        matrix_q, matrix_r = np.linalg.qr(matrix_a, mode)\n",
    "    else:\n",
    "        matrix_q, matrix_r = np.linalg.qr(matrix_a)\n",
    "\n",
    "    # Calculate difference between matrix a and matrix q,r product\n",
    "    matrix_difference = matrix_a - (matrix_q @ matrix_r)\n",
    "\n",
    "    # Calculate orthogonal matrix transpose product\n",
    "    matrix_product = matrix_q.T @ matrix_q\n",
    "\n",
    "    # Create Plot\n",
    "    fig, axis = plt.subplots(1, 5, figsize=(10, 4))\n",
    "    titles = ['A', 'Q', 'R', 'A - QR', 'Q^TQ']\n",
    "    matrices = [matrix_a, matrix_q, matrix_r, matrix_difference, matrix_product]\n",
    "\n",
    "    for i, (title, matrix) in enumerate(zip(titles, matrices)):\n",
    "        ax = axis[i]\n",
    "        ax.imshow(matrix, cmap='gray', vmin=0, vmax=1)\n",
    "        ax.set_title(title)\n",
    "        ax.set_xticks([])\n",
    "        ax.set_yticks([])\n",
    "\n",
    "    plt.tight_layout()\n",
    "    plt.show()"
   ]
  },
  {
   "cell_type": "code",
   "execution_count": 58,
   "metadata": {},
   "outputs": [
    {
     "data": {
      "image/png": "[encoded data removed]",
      "text/plain": [
       "<Figure size 1000x400 with 5 Axes>"
      ]
     },
     "metadata": {},
     "output_type": "display_data"
    }
   ],
   "source": [
    "# QR Decomposition\n",
    "\n",
    "# For a square matrix (reduced by default)\n",
    "matrix_a = np.random.randn(6, 6)\n",
    "perform_and_plot_qr(matrix_a)"
   ]
  },
  {
   "cell_type": "code",
   "execution_count": 59,
   "metadata": {},
   "outputs": [
    {
     "data": {
      "image/png": "[encoded data removed]",
      "text/plain": [
       "<Figure size 1000x400 with 5 Axes>"
      ]
     },
     "metadata": {},
     "output_type": "display_data"
    }
   ],
   "source": [
    "# QR Decomposition (Tall Matrices, Full)\n",
    "\n",
    "# For a tall matrix with 'complete' mode\n",
    "matrix_b = np.random.randn(6, 3)\n",
    "perform_and_plot_qr(matrix_b, 'complete')"
   ]
  },
  {
   "cell_type": "code",
   "execution_count": 60,
   "metadata": {},
   "outputs": [
    {
     "data": {
      "image/png": "[encoded data removed]",
      "text/plain": [
       "<Figure size 1000x400 with 5 Axes>"
      ]
     },
     "metadata": {},
     "output_type": "display_data"
    }
   ],
   "source": [
    "# QR Decomposition (Tall Matrices, Economy)\n",
    "\n",
    "# For a tall matrix with 'economy' mode\n",
    "matrix_c = np.random.randn(6, 3)\n",
    "perform_and_plot_qr(matrix_c, 'reduced')"
   ]
  },
  {
   "cell_type": "markdown",
   "metadata": {},
   "source": [
    "## Code Exercises"
   ]
  },
  {
   "cell_type": "code",
   "execution_count": 61,
   "metadata": {},
   "outputs": [
    {
     "name": "stdout",
     "output_type": "stream",
     "text": [
      "QQ^T is Identity: True\n",
      "Q^TQ is Identity: True\n",
      "inv(Q)Q is Identity: True\n",
      "Qinv(Q) is Identity: True\n"
     ]
    }
   ],
   "source": [
    "# Exercise 9-1 (Orthogonal matrix multiplied by its Transpose equals the Identity matrix)\n",
    "\n",
    "# Generate a random matrix and perform QR decomposition\n",
    "random_matrix_a = np.random.randn(5, 5)\n",
    "matrix_q, matrix_r = np.linalg.qr(random_matrix_a)\n",
    "\n",
    "# Matrix products\n",
    "matrix_product_1 = matrix_q @ matrix_q.T\n",
    "matrix_product_2 = matrix_q.T @ matrix_q\n",
    "matrix_product_3 = np.linalg.inv(matrix_q) @ matrix_q\n",
    "matrix_product_4 = matrix_q @ np.linalg.inv(matrix_q)\n",
    "\n",
    "# Check if all matrix products are close to the identity matrix\n",
    "def check_identity(matrix, size=5):\n",
    "    \"\"\"Check if the given matrix is close to the identity matrix of a specified size.\"\"\"\n",
    "    identity_matrix = np.eye(size)\n",
    "    return np.allclose(matrix, identity_matrix)\n",
    "\n",
    "# Test all matrices\n",
    "results = {\n",
    "    'QQ^T is Identity': check_identity(matrix_product_1),\n",
    "    'Q^TQ is Identity': check_identity(matrix_product_2),\n",
    "    'inv(Q)Q is Identity': check_identity(matrix_product_3),\n",
    "    'Qinv(Q) is Identity': check_identity(matrix_product_4)\n",
    "}\n",
    "\n",
    "# Print results\n",
    "for test, result in results.items():\n",
    "    print(f\"{test}: {result}\")"
   ]
  },
  {
   "cell_type": "code",
   "execution_count": 75,
   "metadata": {},
   "outputs": [
    {
     "name": "stdout",
     "output_type": "stream",
     "text": [
      "Is Q^T Q close to the identity matrix?: True\n",
      "Is our resulting orthogonal matrix effectively the same as numpy's?: True\n"
     ]
    }
   ],
   "source": [
    "# Exercise 9-2 (Gram-Schmidt procedure)\n",
    "\n",
    "def gram_schmidt(matrix_a):\n",
    "    \"\"\"Perform the Gram-Schmidt process to orthogonalize a set of vectors (columns of matrix_a).\"\"\"\n",
    "    num_rows, num_columns = matrix_a.shape\n",
    "    matrix_q = np.zeros((num_rows, num_columns))\n",
    "    \n",
    "    for i in range(num_columns):\n",
    "        # Start with the current column of matrix_a\n",
    "        q = matrix_a[:, i]\n",
    "        \n",
    "        # Subtract projections of q onto the previously obtained orthogonal vectors\n",
    "        for j in range(i):\n",
    "            q -= np.dot(matrix_q[:, j], matrix_a[:, i]) * matrix_q[:, j] / np.dot(matrix_q[:, j], matrix_q[:, j])\n",
    "        \n",
    "        # Normalize the vector\n",
    "        matrix_q[:, i] = q / np.linalg.norm(q)\n",
    "        \n",
    "    return matrix_q\n",
    "\n",
    "# Create random numbers matrix\n",
    "random_matrix_a = np.random.randn(4, 4)\n",
    "\n",
    "# Execute our implementation of Gram-Schmidt procedure\n",
    "orthogonal_matrix = gram_schmidt(random_matrix_a)\n",
    "\n",
    "# Calculate orthogonal matrix of matrix_a using numpy qr decomposition\n",
    "matrix_q, matrix_r = np.linalg.qr(random_matrix_a)\n",
    "\n",
    "# Verify that the columns are orthogonal by checking if Q^T Q is close to the identity matrix\n",
    "identity_matrix = np.eye(4)\n",
    "is_orthogonal = np.allclose(np.dot(orthogonal_matrix.T, orthogonal_matrix), identity_matrix)\n",
    "\n",
    "# Verify our implementation yields same result as numpy\n",
    "similarity_check = np.allclose(np.abs(orthogonal_matrix), np.abs(matrix_q))\n",
    "\n",
    "print(\"Is Q^T Q close to the identity matrix?:\", is_orthogonal)\n",
    "print(\"Is our resulting orthogonal matrix effectively the same as numpy's?:\", similarity_check)\n"
   ]
  },
  {
   "cell_type": "code",
   "execution_count": null,
   "metadata": {},
   "outputs": [],
   "source": [
    "# Exercise 9-3 (QR decomposition on almost orthogonal matrix)"
   ]
  },
  {
   "cell_type": "code",
   "execution_count": null,
   "metadata": {},
   "outputs": [],
   "source": [
    "# Exercise 9-4 (Compare Matrix inverse implementations)"
   ]
  },
  {
   "cell_type": "code",
   "execution_count": null,
   "metadata": {},
   "outputs": [],
   "source": [
    "# Exercise 9-5 (Matrix Inverse implementations experiment)"
   ]
  },
  {
   "cell_type": "code",
   "execution_count": null,
   "metadata": {},
   "outputs": [],
   "source": [
    "# Exercise 9-6 (Orthogonal matrices can rotate but not scale vectors)"
   ]
  },
  {
   "cell_type": "code",
   "execution_count": null,
   "metadata": {},
   "outputs": [],
   "source": [
    "# Exercise 9-7 (Invertibility and inverse calculations of the R matrix)"
   ]
  }
 ],
 "metadata": {
  "kernelspec": {
   "display_name": "Python 3 (ipykernel)",
   "language": "python",
   "name": "python3"
  },
  "language_info": {
   "codemirror_mode": {
    "name": "ipython",
    "version": 3
   },
   "file_extension": ".py",
   "mimetype": "text/x-python",
   "name": "python",
   "nbconvert_exporter": "python",
   "pygments_lexer": "ipython3",
   "version": "3.8.6"
  }
 },
 "nbformat": 4,
 "nbformat_minor": 2
}
