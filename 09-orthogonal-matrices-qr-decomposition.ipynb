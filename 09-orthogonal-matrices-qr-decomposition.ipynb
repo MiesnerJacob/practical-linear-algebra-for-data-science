{
 "cells": [
  {
   "cell_type": "markdown",
   "metadata": {},
   "source": [
    "# Chapter 09: Orthogonal Matrices & QR Decomposition"
   ]
  },
  {
   "cell_type": "markdown",
   "metadata": {},
   "source": [
    "## Concepts"
   ]
  },
  {
   "cell_type": "code",
   "execution_count": 20,
   "metadata": {},
   "outputs": [],
   "source": [
    "import numpy as np\n",
    "from matplotlib import pyplot as plt"
   ]
  },
  {
   "cell_type": "code",
   "execution_count": 15,
   "metadata": {},
   "outputs": [
    {
     "name": "stdout",
     "output_type": "stream",
     "text": [
      "Orthogonal Matrix 1 multipled by its transpose equals the Identity Matrix: True\n",
      "Orthogonal Matrix 2 multipled by its transpose equals the Identity Matrix: True\n"
     ]
    }
   ],
   "source": [
    "# Orthogonal Matrices\n",
    "\n",
    "# Create two orthoginal matrices\n",
    "orthogonal_matrix_1 = np.array([ [1,-1],[1,1] ]) / np.sqrt(2)\n",
    "orthogonal_matrix_2 = np.array([ [1,2,2],[2,1,-2],[-2,2,-1] ]) / 3\n",
    "\n",
    "# Multiply matrices by their transpose\n",
    "matrix_q1_tranpose_product = orthogonal_matrix_1.T @ orthogonal_matrix_1\n",
    "matrix_q2_tranpose_product = orthogonal_matrix_2.T @ orthogonal_matrix_2\n",
    "\n",
    "# Check if matrix product equals identity matrix\n",
    "check_1 = np.allclose(matrix_q1_tranpose_product, np.eye(2))\n",
    "check_2 = np.allclose(matrix_q2_tranpose_product, np.eye(3))\n",
    "\n",
    "print(\"Orthogonal Matrix 1 multipled by its transpose equals the Identity Matrix:\", check_1)\n",
    "print(\"Orthogonal Matrix 2 multipled by its transpose equals the Identity Matrix:\", check_2)\n"
   ]
  },
  {
   "cell_type": "code",
   "execution_count": 57,
   "metadata": {},
   "outputs": [],
   "source": [
    "# QR Decomposition\n",
    "\n",
    "def perform_and_plot_qr(matrix_a, mode=None):\n",
    "    \"\"\"Performs QR decomposition of a matrix and visualizes the results along with their properties.\"\"\"\n",
    "    \n",
    "    # Perform QR decomposition based on the mode\n",
    "    if mode == 'complete' or mode == 'reduced':\n",
    "        matrix_q, matrix_r = np.linalg.qr(matrix_a, mode)\n",
    "    else:\n",
    "        matrix_q, matrix_r = np.linalg.qr(matrix_a)\n",
    "\n",
    "    # Calculate difference between matrix a and matrix q,r product\n",
    "    matrix_difference = matrix_a - (matrix_q @ matrix_r)\n",
    "\n",
    "    # Calculate orthogonal matrix transpose product\n",
    "    matrix_product = matrix_q.T @ matrix_q\n",
    "\n",
    "    # Create Plot\n",
    "    fig, axis = plt.subplots(1, 5, figsize=(10, 4))\n",
    "    titles = ['A', 'Q', 'R', 'A - QR', 'Q^TQ']\n",
    "    matrices = [matrix_a, matrix_q, matrix_r, matrix_difference, matrix_product]\n",
    "\n",
    "    for i, (title, matrix) in enumerate(zip(titles, matrices)):\n",
    "        ax = axis[i]\n",
    "        ax.imshow(matrix, cmap='gray', vmin=0, vmax=1)\n",
    "        ax.set_title(title)\n",
    "        ax.set_xticks([])\n",
    "        ax.set_yticks([])\n",
    "\n",
    "    plt.tight_layout()\n",
    "    plt.show()"
   ]
  },
  {
   "cell_type": "code",
   "execution_count": 58,
   "metadata": {},
   "outputs": [
    {
     "data": {
      "image/png": "[encoded data removed]",
      "text/plain": [
       "<Figure size 1000x400 with 5 Axes>"
      ]
     },
     "metadata": {},
     "output_type": "display_data"
    }
   ],
   "source": [
    "# QR Decomposition\n",
    "\n",
    "# For a square matrix (reduced by default)\n",
    "matrix_a = np.random.randn(6, 6)\n",
    "perform_and_plot_qr(matrix_a)"
   ]
  },
  {
   "cell_type": "code",
   "execution_count": 59,
   "metadata": {},
   "outputs": [
    {
     "data": {
      "image/png": "[encoded data removed]",
      "text/plain": [
       "<Figure size 1000x400 with 5 Axes>"
      ]
     },
     "metadata": {},
     "output_type": "display_data"
    }
   ],
   "source": [
    "# QR Decomposition (Tall Matrices, Full)\n",
    "\n",
    "# For a tall matrix with 'complete' mode\n",
    "matrix_b = np.random.randn(6, 3)\n",
    "perform_and_plot_qr(matrix_b, 'complete')"
   ]
  },
  {
   "cell_type": "code",
   "execution_count": 60,
   "metadata": {},
   "outputs": [
    {
     "data": {
      "image/png": "[encoded data removed]",
      "text/plain": [
       "<Figure size 1000x400 with 5 Axes>"
      ]
     },
     "metadata": {},
     "output_type": "display_data"
    }
   ],
   "source": [
    "# QR Decomposition (Tall Matrices, Economy)\n",
    "\n",
    "# For a tall matrix with 'economy' mode\n",
    "matrix_c = np.random.randn(6, 3)\n",
    "perform_and_plot_qr(matrix_c, 'reduced')"
   ]
  },
  {
   "cell_type": "markdown",
   "metadata": {},
   "source": [
    "## Code Exercises"
   ]
  },
  {
   "cell_type": "code",
   "execution_count": 61,
   "metadata": {},
   "outputs": [
    {
     "name": "stdout",
     "output_type": "stream",
     "text": [
      "QQ^T is Identity: True\n",
      "Q^TQ is Identity: True\n",
      "inv(Q)Q is Identity: True\n",
      "Qinv(Q) is Identity: True\n"
     ]
    }
   ],
   "source": [
    "# Exercise 9-1 (Orthogonal matrix multiplied by its Transpose equals the Identity matrix)\n",
    "\n",
    "# Generate a random matrix and perform QR decomposition\n",
    "random_matrix_a = np.random.randn(5, 5)\n",
    "matrix_q, matrix_r = np.linalg.qr(random_matrix_a)\n",
    "\n",
    "# Matrix products\n",
    "matrix_product_1 = matrix_q @ matrix_q.T\n",
    "matrix_product_2 = matrix_q.T @ matrix_q\n",
    "matrix_product_3 = np.linalg.inv(matrix_q) @ matrix_q\n",
    "matrix_product_4 = matrix_q @ np.linalg.inv(matrix_q)\n",
    "\n",
    "# Check if all matrix products are close to the identity matrix\n",
    "def check_identity(matrix, size=5):\n",
    "    \"\"\"Check if the given matrix is close to the identity matrix of a specified size.\"\"\"\n",
    "    identity_matrix = np.eye(size)\n",
    "    return np.allclose(matrix, identity_matrix)\n",
    "\n",
    "# Test all matrices\n",
    "results = {\n",
    "    'QQ^T is Identity': check_identity(matrix_product_1),\n",
    "    'Q^TQ is Identity': check_identity(matrix_product_2),\n",
    "    'inv(Q)Q is Identity': check_identity(matrix_product_3),\n",
    "    'Qinv(Q) is Identity': check_identity(matrix_product_4)\n",
    "}\n",
    "\n",
    "# Print results\n",
    "for test, result in results.items():\n",
    "    print(f\"{test}: {result}\")"
   ]
  },
  {
   "cell_type": "code",
   "execution_count": 75,
   "metadata": {},
   "outputs": [
    {
     "name": "stdout",
     "output_type": "stream",
     "text": [
      "Is Q^T Q close to the identity matrix?: True\n",
      "Is our resulting orthogonal matrix effectively the same as numpy's?: True\n"
     ]
    }
   ],
   "source": [
    "# Exercise 9-2 (Gram-Schmidt procedure)\n",
    "\n",
    "def gram_schmidt(matrix_a):\n",
    "    \"\"\"Perform the Gram-Schmidt process to orthogonalize a set of vectors (columns of matrix_a).\"\"\"\n",
    "    num_rows, num_columns = matrix_a.shape\n",
    "    matrix_q = np.zeros((num_rows, num_columns))\n",
    "    \n",
    "    for i in range(num_columns):\n",
    "        # Start with the current column of matrix_a\n",
    "        q = matrix_a[:, i]\n",
    "        \n",
    "        # Subtract projections of q onto the previously obtained orthogonal vectors\n",
    "        for j in range(i):\n",
    "            q -= np.dot(matrix_q[:, j], matrix_a[:, i]) * matrix_q[:, j] / np.dot(matrix_q[:, j], matrix_q[:, j])\n",
    "        \n",
    "        # Normalize the vector\n",
    "        matrix_q[:, i] = q / np.linalg.norm(q)\n",
    "        \n",
    "    return matrix_q\n",
    "\n",
    "# Create random numbers matrix\n",
    "random_matrix_a = np.random.randn(4, 4)\n",
    "\n",
    "# Execute our implementation of Gram-Schmidt procedure\n",
    "orthogonal_matrix = gram_schmidt(random_matrix_a)\n",
    "\n",
    "# Calculate orthogonal matrix of matrix_a using numpy qr decomposition\n",
    "matrix_q, matrix_r = np.linalg.qr(random_matrix_a)\n",
    "\n",
    "# Verify that the columns are orthogonal by checking if Q^T Q is close to the identity matrix\n",
    "identity_matrix = np.eye(4)\n",
    "is_orthogonal = np.allclose(np.dot(orthogonal_matrix.T, orthogonal_matrix), identity_matrix)\n",
    "\n",
    "# Verify our implementation yields same result as numpy\n",
    "similarity_check = np.allclose(np.abs(orthogonal_matrix), np.abs(matrix_q))\n",
    "\n",
    "print(\"Is Q^T Q close to the identity matrix?:\", is_orthogonal)\n",
    "print(\"Is our resulting orthogonal matrix effectively the same as numpy's?:\", similarity_check)\n"
   ]
  },
  {
   "cell_type": "code",
   "execution_count": 88,
   "metadata": {},
   "outputs": [
    {
     "name": "stdout",
     "output_type": "stream",
     "text": [
      "R matrix after modifying column norms:\n",
      "[[10. -0. -0.  0.  0.  0.]\n",
      " [ 0. 11. -0.  0.  0.  0.]\n",
      " [ 0.  0. 12.  0. -0.  0.]\n",
      " [ 0.  0.  0. 13.  0. -0.]\n",
      " [ 0.  0.  0.  0. 14.  0.]\n",
      " [ 0.  0.  0.  0.  0. 15.]]\n",
      "\n",
      "\n",
      "R matrix after changing an element (U[0,3] = 0):\n",
      "[[10.    -0.    -0.     0.762  0.     0.   ]\n",
      " [ 0.    11.    -0.     2.571  0.     0.   ]\n",
      " [ 0.     0.    12.     1.473 -0.     0.   ]\n",
      " [ 0.     0.     0.    12.185 -0.663 -1.045]\n",
      " [ 0.     0.     0.     0.    13.984 -0.05 ]\n",
      " [ 0.     0.     0.     0.     0.    14.963]]\n"
     ]
    }
   ],
   "source": [
    "# Exercise 9-3 (QR decomposition on almost orthogonal matrix)\n",
    "\n",
    "random_matrix_a = np.random.randn(6, 6)\n",
    "\n",
    "# Step 1: Obtain an orthogonal matrix U from the QR decomposition of the random matrix\n",
    "U, _ = np.linalg.qr(random_matrix_a)\n",
    "\n",
    "# Step 2: Modify the norms of the columns of U\n",
    "for i in range(U.shape[1]):  # Ensure we iterate over columns\n",
    "    U[:, i] = U[:, i] * (10 + i)\n",
    "\n",
    "# Step 3: Perform QR decomposition on the modified matrix U\n",
    "q, r = np.linalg.qr(U)\n",
    "\n",
    "# Print the upper triangular matrix R after first modification\n",
    "print(\"R matrix after modifying column norms:\")\n",
    "print(np.round(r, 3))\n",
    "print('\\n')\n",
    "\n",
    "# Step 4: Change a specific element in the matrix U to see the effect on QR decomposition\n",
    "U[0, 3] = 0\n",
    "\n",
    "# Step 5: Perform QR decomposition again after changing one element\n",
    "q, r = np.linalg.qr(U)\n",
    "\n",
    "# Print the upper triangular matrix R after changing an element\n",
    "print(\"R matrix after changing an element (U[0,3] = 0):\")\n",
    "print(np.round(r, 3))\n"
   ]
  },
  {
   "cell_type": "code",
   "execution_count": 113,
   "metadata": {},
   "outputs": [
    {
     "data": {
      "image/png": "[encoded data removed]",
      "text/plain": [
       "<Figure size 600x600 with 1 Axes>"
      ]
     },
     "metadata": {},
     "output_type": "display_data"
    }
   ],
   "source": [
    "# Exercise 9-4 (Compare Matrix inverse implementations)\n",
    "\n",
    "def oldSchoolInv(matrix):\n",
    "    \"\"\"Compute the inverse of a matrix.\"\"\"\n",
    "\n",
    "    # matrix size\n",
    "    n = matrix.shape[0]\n",
    "\n",
    "    # abort if non-square\n",
    "    if not np.diff(matrix.shape)[0]==0:\n",
    "        raise Exception('Matrix must be square.')\n",
    "\n",
    "    if np.linalg.matrix_rank(matrix) != n:\n",
    "        raise Exception('Matrix must be full-rank.')\n",
    "    \n",
    "    # Compute minors matrix\n",
    "    minors_matrix = np.zeros((n, n))\n",
    "    for i in range(n):\n",
    "        for j in range(n):\n",
    "            rows = np.arange(n) != i\n",
    "            cols = np.arange(n) != j\n",
    "            minors_matrix[i, j] = np.linalg.det(matrix[rows][:, cols])\n",
    "\n",
    "    # Compute grid matrix\n",
    "    grid_matrix = np.zeros((n, n))\n",
    "    for i in range(n):\n",
    "        for j in range(n):\n",
    "            grid_matrix[i, j] = (-1) ** (i + j)\n",
    "\n",
    "    # Compute Cofactors matrix\n",
    "    cofactors_matrix = minors_matrix * grid_matrix\n",
    "\n",
    "    # Compute Adjugate Matrix (Inverse) & Numpy Inverse\n",
    "    adjugate_matrix = cofactors_matrix.T / np.linalg.det(matrix)\n",
    "\n",
    "    return adjugate_matrix\n",
    "\n",
    "\n",
    "# Create random numbers matrix\n",
    "n = 5\n",
    "random_matrix = np.random.randn(n,n)\n",
    "\n",
    "# Via \"Old-School\" method\n",
    "old_school_inverse = oldSchoolInv(random_matrix)\n",
    "old_school_method_matrix_product = old_school_inverse @ random_matrix\n",
    "\n",
    "# Via QR decomposition\n",
    "matrix_q, matrix_r = np.linalg.qr(random_matrix)\n",
    "matrix_inverse = oldSchoolInv(matrix_r) @ matrix_q.T\n",
    "qr_method_matrix_product = matrix_inverse @ random_matrix\n",
    "\n",
    "# Calculate inverse-estimation error for both metods\n",
    "def euclidean_distance(matrix_a, matrix_b):\n",
    "    return np.sqrt(np.sum((matrix_a - matrix_b) ** 2))\n",
    "\n",
    "identity_matrix = np.eye(n)\n",
    "old_school_method_distance = euclidean_distance(old_school_method_matrix_product, identity_matrix)\n",
    "qr_method_distance = euclidean_distance(qr_method_matrix_product, identity_matrix)\n",
    "distances = [old_school_method_distance, qr_method_distance]\n",
    "\n",
    "# Create plot\n",
    "plt.figure(figsize=(6,6))\n",
    "\n",
    "plt.bar(range(2),distances)\n",
    "plt.xticks(range(2),labels=['\"Old-School\" Method','QR Method'])\n",
    "plt.ylabel('Inverse-estimation Error')\n",
    "plt.title(f'Inverse error ({n}x{n} matrix)',ha='center')\n",
    "plt.show()"
   ]
  },
  {
   "cell_type": "code",
   "execution_count": 155,
   "metadata": {},
   "outputs": [
    {
     "data": {
      "image/png": "[encoded data removed]",
      "text/plain": [
       "<Figure size 1200x600 with 2 Axes>"
      ]
     },
     "metadata": {},
     "output_type": "display_data"
    }
   ],
   "source": [
    "def perform_experiments(matrix_size, num_experiments):\n",
    "    distances = np.zeros((num_experiments, 2))\n",
    "    for experiment in range(num_experiments):\n",
    "        # Create random matrix\n",
    "        random_matrix = np.random.randn(matrix_size, matrix_size)\n",
    "\n",
    "        # Inverse calculations\n",
    "        old_school_inverse = oldSchoolInv(random_matrix)\n",
    "        old_school_method_matrix_product = old_school_inverse @ random_matrix\n",
    "\n",
    "        # QR method for inverse calculation\n",
    "        matrix_q, matrix_r = np.linalg.qr(random_matrix)\n",
    "        matrix_inverse = oldSchoolInv(matrix_r) @ matrix_q.T\n",
    "        qr_method_matrix_product = matrix_inverse @ random_matrix\n",
    "\n",
    "        # Calculate differences\n",
    "        identity_matrix = np.eye(matrix_size)\n",
    "        distances[experiment, 0] = euclidean_distance(old_school_method_matrix_product, identity_matrix)\n",
    "        distances[experiment, 1] = euclidean_distance(qr_method_matrix_product, identity_matrix)\n",
    "\n",
    "    return distances\n",
    "\n",
    "# Experiment settings\n",
    "num_experiments = 100\n",
    "matrix_sizes = [5, 30]\n",
    "\n",
    "# Create a figure with two subplots\n",
    "fig, axes = plt.subplots(1, 2, figsize=(12, 6))\n",
    "for i, size in enumerate(matrix_sizes):\n",
    "    distances = perform_experiments(size, num_experiments)\n",
    "    \n",
    "    axes[i].plot(np.zeros(num_experiments), distances[:,0], 'ko', markersize=3, label='Old-School Method')\n",
    "    axes[i].plot(np.ones(num_experiments), distances[:,1], 'ko', markersize=3, label='QR Method')\n",
    "    axes[i].bar([0, 1], np.mean(distances, axis=0), color='grey')\n",
    "\n",
    "    axes[i].set_xticks([0, 1])\n",
    "    axes[i].set_xticklabels(['Old-School', 'QR'])\n",
    "    axes[i].set_ylim([0, np.max(distances) * 1.1])\n",
    "    axes[i].set_title(f'Inverse error ({size}x{size} matrix)')\n",
    "    axes[i].set_xlabel('Method')\n",
    "    if i == 0:\n",
    "        axes[i].set_ylabel('Eucl. distance to identity')\n",
    "\n",
    "plt.tight_layout()\n",
    "plt.show()"
   ]
  },
  {
   "cell_type": "code",
   "execution_count": 163,
   "metadata": {},
   "outputs": [
    {
     "name": "stdout",
     "output_type": "stream",
     "text": [
      "Induced 2-norm: 1.0\n",
      "Frobenius Norm: 1.0\n",
      "Vector Norm: 3.014852932629491\n",
      "Matrix-Vector Product Norm: 3.014852932629491\n"
     ]
    }
   ],
   "source": [
    "# Exercise 9-6 (Orthogonal matrices can rotate but not scale vectors)\n",
    "\n",
    "# Create orthogonal matrix from random numbers matrix\n",
    "n = 7\n",
    "random_matrix = np.random.randn(n, n)\n",
    "matrix_q, matrix_r = np.linalg.qr(random_matrix)\n",
    "\n",
    "# Print out the norms\n",
    "induced_two_norm = np.linalg.norm(matrix_q, 2)\n",
    "frobenius_norm = np.sqrt(np.sum(matrix_q ** 2)) / np.sqrt(n)\n",
    "print(\"Induced 2-norm:\", induced_two_norm)\n",
    "print(\"Frobenius Norm:\", frobenius_norm)\n",
    "\n",
    "# Create a random vector\n",
    "random_vector = np.random.randn(n, 1)\n",
    "\n",
    "# Calculate norms\n",
    "norm_vector = np.linalg.norm(random_vector)\n",
    "norm_matrix_vector_product = np.linalg.norm(matrix_q @ random_vector)\n",
    "print(\"Vector Norm:\", norm_vector)\n",
    "print(\"Matrix-Vector Product Norm:\", norm_matrix_vector_product)\n",
    "     "
   ]
  },
  {
   "cell_type": "code",
   "execution_count": 179,
   "metadata": {},
   "outputs": [
    {
     "name": "stdout",
     "output_type": "stream",
     "text": [
      "Matrix R: \n",
      " [[-2.986 -0.031 -1.07   1.613]\n",
      " [ 0.    -2.987 -0.66   0.984]\n",
      " [ 0.     0.    -1.966 -1.801]\n",
      " [ 0.     0.     0.     2.013]\n",
      " [ 0.     0.     0.     0.   ]\n",
      " [ 0.     0.     0.     0.   ]\n",
      " [ 0.     0.     0.     0.   ]\n",
      " [ 0.     0.     0.     0.   ]\n",
      " [ 0.     0.     0.     0.   ]\n",
      " [ 0.     0.     0.     0.   ]] \n",
      "\n",
      "Full inverse of R submatrix: \n",
      " [[-0.335  0.003  0.181  0.429]\n",
      " [-0.    -0.335  0.112  0.264]\n",
      " [-0.    -0.    -0.509 -0.455]\n",
      " [ 0.     0.     0.     0.497]] \n",
      "\n",
      "Left inverse of R: \n",
      " [[-0.335  0.003  0.181  0.429  0.     0.     0.     0.     0.     0.   ]\n",
      " [ 0.    -0.335  0.112  0.264  0.     0.     0.     0.     0.     0.   ]\n",
      " [-0.    -0.    -0.509 -0.455  0.     0.     0.     0.     0.     0.   ]\n",
      " [-0.     0.     0.     0.497  0.     0.     0.     0.     0.     0.   ]] \n",
      "\n"
     ]
    }
   ],
   "source": [
    "# Exercise 9-7 (Invertibility and inverse calculations of the R matrix)\n",
    "\n",
    "# Create tall random numbers matrix\n",
    "matrix_a = np.random.randn(10, 4)\n",
    "\n",
    "# Get R from QR decomposition\n",
    "matrix_q, matrix_r = np.linalg.qr(matrix_a, 'complete')\n",
    "print(\"Matrix R:\", \"\\n\", np.round(matrix_r, 3), \"\\n\")\n",
    "    \n",
    "# Get invertible submatrix of matrix R\n",
    "submatrix_r = matrix_r[:4,:]\n",
    "\n",
    "# Calculate matrix inverses\n",
    "submatrix_r_inverse = np.linalg.inv(submatrix_r)\n",
    "matrix_r_left_inverse = np.linalg.pinv(matrix_r)\n",
    "print(\"Full inverse of R submatrix:\", \"\\n\", np.round(submatrix_r_inverse, 3), \"\\n\")\n",
    "print(\"Left inverse of R:\", \"\\n\", np.round(matrix_r_left_inverse, 3), \"\\n\")"
   ]
  }
 ],
 "metadata": {
  "kernelspec": {
   "display_name": "Python 3 (ipykernel)",
   "language": "python",
   "name": "python3"
  },
  "language_info": {
   "codemirror_mode": {
    "name": "ipython",
    "version": 3
   },
   "file_extension": ".py",
   "mimetype": "text/x-python",
   "name": "python",
   "nbconvert_exporter": "python",
   "pygments_lexer": "ipython3",
   "version": "3.8.6"
  }
 },
 "nbformat": 4,
 "nbformat_minor": 2
}
