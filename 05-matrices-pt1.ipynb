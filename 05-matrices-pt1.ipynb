{
 "cells": [
  {
   "cell_type": "markdown",
   "metadata": {},
   "source": [
    "# Chapter 5: Matrices, Part 1"
   ]
  },
  {
   "cell_type": "markdown",
   "metadata": {},
   "source": [
    "## Concepts"
   ]
  },
  {
   "cell_type": "code",
   "execution_count": 1,
   "metadata": {},
   "outputs": [],
   "source": [
    "import numpy as np\n",
    "import matplotlib.pyplot as plt"
   ]
  },
  {
   "cell_type": "code",
   "execution_count": 6,
   "metadata": {},
   "outputs": [
    {
     "data": {
      "image/png": "[encoded data removed]",
      "text/plain": [
       "<Figure size 600x600 with 2 Axes>"
      ]
     },
     "metadata": {},
     "output_type": "display_data"
    }
   ],
   "source": [
    "# Visualize a matrix\n",
    "\n",
    "# Generate a 10x10 matrix of random numbers\n",
    "random_matrix = np.random.rand(10, 10)\n",
    "\n",
    "# Create a heatmap of the matrix\n",
    "plt.figure(figsize=(6, 6))\n",
    "plt.imshow(random_matrix)\n",
    "plt.colorbar()  # Add a colorbar to a plot\n",
    "plt.title('Matrix')\n",
    "plt.show()"
   ]
  },
  {
   "cell_type": "code",
   "execution_count": 25,
   "metadata": {},
   "outputs": [
    {
     "name": "stdout",
     "output_type": "stream",
     "text": [
      "Matrix A: \n",
      " [[ 0  1  2  3  4  5  6  7  8  9]\n",
      " [10 11 12 13 14 15 16 17 18 19]\n",
      " [20 21 22 23 24 25 26 27 28 29]\n",
      " [30 31 32 33 34 35 36 37 38 39]\n",
      " [40 41 42 43 44 45 46 47 48 49]\n",
      " [50 51 52 53 54 55 56 57 58 59]] \n",
      "\n",
      "Matrix A Row Slice: \n",
      " [[ 0  1  2  3  4  5  6  7  8  9]\n",
      " [10 11 12 13 14 15 16 17 18 19]\n",
      " [20 21 22 23 24 25 26 27 28 29]] \n",
      "\n",
      "Matrix A Column Slice: \n",
      " [[ 0  1  2]\n",
      " [10 11 12]\n",
      " [20 21 22]\n",
      " [30 31 32]\n",
      " [40 41 42]\n",
      " [50 51 52]] \n",
      "\n",
      "Matrix A Row & Column Slice: \n",
      " [[ 0  1  2]\n",
      " [10 11 12]\n",
      " [20 21 22]] \n",
      "\n"
     ]
    }
   ],
   "source": [
    "# Slicing a Matrix\n",
    "\n",
    "# Create matrix (6 rows, 10 columns)\n",
    "matrix_a = np.arange(60).reshape(6,10)\n",
    "print(\"Matrix A:\", \"\\n\", matrix_a, \"\\n\")\n",
    "\n",
    "# Slicing by rows\n",
    "matrix_a_row_slice = matrix_a[0:3]\n",
    "print(\"Matrix A Row Slice:\", \"\\n\", matrix_a_row_slice, \"\\n\")\n",
    "\n",
    "# # Slicing by columns\n",
    "matrix_a_column_slice = matrix_a[:,0:3]\n",
    "print(\"Matrix A Column Slice:\", \"\\n\", matrix_a_column_slice, \"\\n\")\n",
    "\n",
    "# # Slicing by rows & columns\n",
    "matrix_a_row_and_column_slice = matrix_a[0:3,0:3]\n",
    "print(\"Matrix A Row & Column Slice:\", \"\\n\", matrix_a_row_and_column_slice, \"\\n\")\n"
   ]
  },
  {
   "cell_type": "code",
   "execution_count": 39,
   "metadata": {},
   "outputs": [
    {
     "name": "stdout",
     "output_type": "stream",
     "text": [
      "Random Numbers Matrix: \n",
      " [[ 0.84254796  0.76549625]\n",
      " [ 0.95010534 -0.03567229]\n",
      " [ 1.69418118  0.51363807]] \n",
      "\n",
      "Square Matrix: \n",
      " [[-0.71492505  2.37888666  1.5784022   0.77214809 -0.17650325]\n",
      " [-0.0382007  -0.02132404 -0.47891992  1.04589421 -1.6770245 ]\n",
      " [ 0.18722662  1.47319265  0.31175566  1.8504352  -0.7414307 ]\n",
      " [ 1.3465585  -0.12716228 -0.25745245 -1.00639507 -0.81871675]\n",
      " [ 0.00822586 -0.2354785   1.60454858 -0.70803574  0.63899021]] \n",
      "\n",
      "Non-square Matrix: \n",
      " [[-0.13359401 -0.69178642  0.19401224  0.25081918 -0.18209743]\n",
      " [-0.30125763 -1.13655839  0.71214721 -1.1289266   0.14236804]\n",
      " [-0.37574035 -1.26777966 -0.52302502  0.74655205 -1.25164192]] \n",
      "\n",
      "Diagonal Matrix: \n",
      " [[-0.73773999  0.          0.        ]\n",
      " [ 0.         -0.19643254  0.        ]\n",
      " [ 0.          0.          0.74204135]] \n",
      "\n",
      "Upper-Triangular Matrix: \n",
      " [[-0.71492505  2.37888666  1.5784022   0.77214809 -0.17650325]\n",
      " [ 0.         -0.02132404 -0.47891992  1.04589421 -1.6770245 ]\n",
      " [ 0.          0.          0.31175566  1.8504352  -0.7414307 ]\n",
      " [ 0.          0.          0.         -1.00639507 -0.81871675]\n",
      " [ 0.          0.          0.          0.          0.63899021]] \n",
      "\n",
      "Lower-Triangular Matrix: \n",
      " [[-0.71492505  0.          0.          0.          0.        ]\n",
      " [-0.0382007  -0.02132404  0.          0.          0.        ]\n",
      " [ 0.18722662  1.47319265  0.31175566  0.          0.        ]\n",
      " [ 1.3465585  -0.12716228 -0.25745245 -1.00639507  0.        ]\n",
      " [ 0.00822586 -0.2354785   1.60454858 -0.70803574  0.63899021]] \n",
      "\n",
      "Identity Matrix: \n",
      " [[1. 0. 0. 0. 0.]\n",
      " [0. 1. 0. 0. 0.]\n",
      " [0. 0. 1. 0. 0.]\n",
      " [0. 0. 0. 1. 0.]\n",
      " [0. 0. 0. 0. 1.]] \n",
      "\n",
      "Zeros Matrix: \n",
      " [[0. 0. 0. 0. 0.]\n",
      " [0. 0. 0. 0. 0.]\n",
      " [0. 0. 0. 0. 0.]\n",
      " [0. 0. 0. 0. 0.]\n",
      " [0. 0. 0. 0. 0.]] \n",
      "\n"
     ]
    }
   ],
   "source": [
    "# Creating special Matrices\n",
    "\n",
    "## Create a random numbers matrix\n",
    "num_rows = 3\n",
    "num_cols = 2\n",
    "random_numbers_matrix = np.random.randn(num_rows, num_cols)\n",
    "print(\"Random Numbers Matrix:\", \"\\n\", random_numbers_matrix, \"\\n\")\n",
    "\n",
    "## Create a square matrix\n",
    "num_rows = 5\n",
    "num_cols = 5\n",
    "square_matrix = np.random.randn(num_rows, num_cols)\n",
    "print(\"Square Matrix:\", \"\\n\", square_matrix, \"\\n\")\n",
    "\n",
    "## Create a non-square matrix\n",
    "num_rows = 3\n",
    "num_cols = 5\n",
    "non_square_matrix = np.random.randn(num_rows, num_cols)\n",
    "print(\"Non-square Matrix:\", \"\\n\", non_square_matrix, \"\\n\")\n",
    "\n",
    "## Create a diagonal matrix\n",
    "diagonal_matrix = np.diag(np.random.randn(3))\n",
    "print(\"Diagonal Matrix:\", \"\\n\", diagonal_matrix, \"\\n\")\n",
    "\n",
    "## Create a upper-triangular matrix\n",
    "upper_triangular_matrix = np.triu(square_matrix)\n",
    "print(\"Upper-Triangular Matrix:\", \"\\n\", upper_triangular_matrix, \"\\n\")\n",
    "\n",
    "## Create a lower-triangular matrix\n",
    "lower_triangular_matrix = np.tril(square_matrix)\n",
    "print(\"Lower-Triangular Matrix:\", \"\\n\", lower_triangular_matrix, \"\\n\")\n",
    "\n",
    "## Create an identity matrix\n",
    "identity_matrix = np.eye(5)\n",
    "print(\"Identity Matrix:\", \"\\n\", identity_matrix, \"\\n\")\n",
    "\n",
    "## Create an zeros matrix\n",
    "zeros_matrix = np.zeros((5,5))\n",
    "print(\"Zeros Matrix:\", \"\\n\", zeros_matrix, \"\\n\")\n"
   ]
  },
  {
   "cell_type": "code",
   "execution_count": 41,
   "metadata": {},
   "outputs": [
    {
     "name": "stdout",
     "output_type": "stream",
     "text": [
      "Matrix Sum: \n",
      " [[150 150 150]\n",
      " [150 150 150]\n",
      " [150 150 150]] \n",
      "\n"
     ]
    }
   ],
   "source": [
    "# Matrix Addition\n",
    "\n",
    "matrix_a = np.full(shape=(3, 3), fill_value=100)\n",
    "matrix_b = np.full(shape=(3, 3), fill_value=50)\n",
    "\n",
    "matrix_sum = matrix_a + matrix_b\n",
    "print(\"Matrix Sum:\", \"\\n\", matrix_sum, \"\\n\")"
   ]
  },
  {
   "cell_type": "code",
   "execution_count": 42,
   "metadata": {},
   "outputs": [
    {
     "name": "stdout",
     "output_type": "stream",
     "text": [
      "Matrix Difference: \n",
      " [[50 50 50]\n",
      " [50 50 50]\n",
      " [50 50 50]] \n",
      "\n"
     ]
    }
   ],
   "source": [
    "# Matrix Subtraction\n",
    "\n",
    "matrix_a = np.full(shape=(3, 3), fill_value=100)\n",
    "matrix_b = np.full(shape=(3, 3), fill_value=50)\n",
    "\n",
    "matrix_difference = matrix_a - matrix_b\n",
    "print(\"Matrix Difference:\", \"\\n\", matrix_difference, \"\\n\")"
   ]
  },
  {
   "cell_type": "code",
   "execution_count": 46,
   "metadata": {},
   "outputs": [
    {
     "name": "stdout",
     "output_type": "stream",
     "text": [
      "Shifted Matrix: \n",
      " [[150. 100. 100.]\n",
      " [100. 150. 100.]\n",
      " [100. 100. 150.]] \n",
      "\n"
     ]
    }
   ],
   "source": [
    "# Shifting a matrix\n",
    "\n",
    "matrix_a = np.full(shape=(3, 3), fill_value=100)\n",
    "shift = 50 * np.eye(len(matrix_a))\n",
    "\n",
    "shifted_matrix = matrix_a + shift\n",
    "print(\"Shifted Matrix:\", \"\\n\", shifted_matrix, \"\\n\")"
   ]
  },
  {
   "cell_type": "code",
   "execution_count": 49,
   "metadata": {},
   "outputs": [
    {
     "name": "stdout",
     "output_type": "stream",
     "text": [
      "Scalar Matrix Multiplication Result: \n",
      " [[300 300 300]\n",
      " [300 300 300]\n",
      " [300 300 300]] \n",
      "\n",
      "Hadamard Matrix Multiplication Result: \n",
      " [[50 50 50]\n",
      " [50 50 50]\n",
      " [50 50 50]] \n",
      "\n"
     ]
    }
   ],
   "source": [
    "# Scalar & Hadamard multiplication\n",
    "\n",
    "# Scalar Multiplication\n",
    "matrix_a = np.full(shape=(3, 3), fill_value=100)\n",
    "scalar = 3\n",
    "\n",
    "scalar_matrix_multiplication_result = matrix_a * scalar\n",
    "print(\"Scalar Matrix Multiplication Result:\", \"\\n\", scalar_matrix_multiplication_result, \"\\n\")\n",
    "\n",
    "# Hadamard Multiplication\n",
    "matrix_a = np.full(shape=(3, 3), fill_value=10)\n",
    "matrix_b = np.full(shape=(3, 3), fill_value=5)\n",
    "\n",
    "hadamard_matrix_multiplication_result = matrix_a * matrix_b\n",
    "print(\"Hadamard Matrix Multiplication Result:\", \"\\n\", hadamard_matrix_multiplication_result, \"\\n\")"
   ]
  },
  {
   "cell_type": "code",
   "execution_count": 69,
   "metadata": {},
   "outputs": [
    {
     "name": "stdout",
     "output_type": "stream",
     "text": [
      "Matrix Multiplication Result: \n",
      " [[ 0.12913938 -0.03638556 -0.10116253 -0.26832953]\n",
      " [-2.51530308  0.60254657  1.58663599  3.40584545]\n",
      " [ 0.03846456  0.28362101 -0.05518052 -0.51235801]\n",
      " [ 1.17521946 -1.05777147 -0.57077945  0.07453751]\n",
      " [-1.95489692  0.37849696  1.23274009  2.73848   ]] \n",
      "\n"
     ]
    }
   ],
   "source": [
    "# \"Standard\" Matrix Multiplication\n",
    "## Don't forget the num rows of the first matrix must be equal to the num cols of the second matrix\n",
    "## (M x N) * (N x K) = (M x K)\n",
    "\n",
    "num_rows_a = 5\n",
    "num_cols_a = 3\n",
    "matrix_a = np.random.randn(num_rows_a, num_cols_a)\n",
    "\n",
    "num_rows_b = 3\n",
    "num_cols_b = 4\n",
    "matrix_b = np.random.randn(num_rows_b, num_cols_b)\n",
    "\n",
    "matrix_multiplication_result = matrix_a @ matrix_b\n",
    "print(\"Matrix Multiplication Result:\", \"\\n\", matrix_multiplication_result, \"\\n\")\n"
   ]
  },
  {
   "cell_type": "code",
   "execution_count": 61,
   "metadata": {},
   "outputs": [
    {
     "name": "stdout",
     "output_type": "stream",
     "text": [
      "Linearly weighted Matrix Vector Result: \n",
      " [[ 50. 100. 150. 200. 250.]\n",
      " [ 50. 100. 150. 200. 250.]\n",
      " [ 50. 100. 150. 200. 250.]\n",
      " [ 50. 100. 150. 200. 250.]\n",
      " [ 50. 100. 150. 200. 250.]] \n",
      "\n"
     ]
    }
   ],
   "source": [
    "# Linear Weighted Combinations\n",
    "\n",
    "matrix_a = np.full(shape=(5, 5), fill_value=100)\n",
    "weights_vector = np.array([0.5, 1.0, 1.5, 2.0, 2.5])\n",
    "\n",
    "weighted_matrix = matrix_a * weights_vector\n",
    "print(\"Linearly weighted Matrix Vector Result:\", \"\\n\", weighted_matrix, \"\\n\")"
   ]
  },
  {
   "cell_type": "code",
   "execution_count": 67,
   "metadata": {},
   "outputs": [
    {
     "name": "stdout",
     "output_type": "stream",
     "text": [
      "Matrix Vector Multiplication Result: \n",
      " [750. 750. 750. 750. 750.] \n",
      "\n"
     ]
    }
   ],
   "source": [
    "# Matrix - Vector Multiplication\n",
    "matrix_a = np.full(shape=(5, 5), fill_value=100)\n",
    "vector_a = np.array([0.5, 1.0, 1.5, 2.0, 2.5]).T\n",
    "\n",
    "matrix_vector_multiplication_result = matrix_a @ vector_a\n",
    "print(\"Matrix Vector Multiplication Result:\", \"\\n\", matrix_vector_multiplication_result, \"\\n\")"
   ]
  },
  {
   "cell_type": "code",
   "execution_count": 68,
   "metadata": {},
   "outputs": [
    {
     "name": "stdout",
     "output_type": "stream",
     "text": [
      "Matrix A: \n",
      " [[-7.31415360e-01 -8.86971728e-01 -3.52748181e-04]\n",
      " [-3.04452039e+00 -1.13275012e+00  9.27147155e-02]\n",
      " [ 5.79844851e-01 -2.89850116e-01 -5.97265591e-01]] \n",
      "\n",
      "Matrix Tranposed, Method 1: \n",
      " [[-7.31415360e-01 -3.04452039e+00  5.79844851e-01]\n",
      " [-8.86971728e-01 -1.13275012e+00 -2.89850116e-01]\n",
      " [-3.52748181e-04  9.27147155e-02 -5.97265591e-01]] \n",
      "\n",
      "Matrix Tranposed, Method 2: \n",
      " [[-7.31415360e-01 -3.04452039e+00  5.79844851e-01]\n",
      " [-8.86971728e-01 -1.13275012e+00 -2.89850116e-01]\n",
      " [-3.52748181e-04  9.27147155e-02 -5.97265591e-01]] \n",
      "\n"
     ]
    }
   ],
   "source": [
    "# Transpose a Matrix\n",
    "\n",
    "matrix_a = np.random.randn(3, 3)\n",
    "print(\"Matrix A:\", \"\\n\", matrix_a, \"\\n\")\n",
    "\n",
    "matrix_a_transposed1 = matrix_a.T\n",
    "print(\"Matrix Tranposed, Method 1:\", \"\\n\", matrix_a_transposed1, \"\\n\")\n",
    "\n",
    "matrix_a_transposed2 = np.transpose(matrix_a)\n",
    "print(\"Matrix Tranposed, Method 2:\", \"\\n\", matrix_a_transposed2, \"\\n\")"
   ]
  },
  {
   "cell_type": "code",
   "execution_count": 78,
   "metadata": {},
   "outputs": [
    {
     "name": "stdout",
     "output_type": "stream",
     "text": [
      "Outer Vector Multiplication Result: \n",
      " [[ 3.15233439 -1.43841567]\n",
      " [ 0.5449455  -0.24865958]\n",
      " [-0.13414067  0.06120862]] \n",
      "\n"
     ]
    }
   ],
   "source": [
    "# Vector Outer Product\n",
    "vector_a = np.random.randn(3)\n",
    "\n",
    "vector_b = np.random.randn(2)\n",
    "\n",
    "outer_vector_multiplication_result = np.outer(vector_a, vector_b)\n",
    "print(\"Outer Vector Multiplication Result:\", \"\\n\", outer_vector_multiplication_result, \"\\n\")"
   ]
  },
  {
   "cell_type": "markdown",
   "metadata": {},
   "source": [
    "## Code Exercises"
   ]
  },
  {
   "cell_type": "code",
   "execution_count": null,
   "metadata": {},
   "outputs": [],
   "source": [
    "# Exercise 5-1"
   ]
  },
  {
   "cell_type": "code",
   "execution_count": null,
   "metadata": {},
   "outputs": [],
   "source": [
    "# Exercise 5-2"
   ]
  },
  {
   "cell_type": "code",
   "execution_count": null,
   "metadata": {},
   "outputs": [],
   "source": [
    "# Exercise 5-3"
   ]
  },
  {
   "cell_type": "code",
   "execution_count": null,
   "metadata": {},
   "outputs": [],
   "source": [
    "# Exercise 5-4"
   ]
  },
  {
   "cell_type": "code",
   "execution_count": null,
   "metadata": {},
   "outputs": [],
   "source": [
    "# Exercise 5-5"
   ]
  },
  {
   "cell_type": "code",
   "execution_count": null,
   "metadata": {},
   "outputs": [],
   "source": [
    "# Exercise 5-6"
   ]
  },
  {
   "cell_type": "code",
   "execution_count": null,
   "metadata": {},
   "outputs": [],
   "source": [
    "# Exercise 5-7"
   ]
  },
  {
   "cell_type": "code",
   "execution_count": null,
   "metadata": {},
   "outputs": [],
   "source": [
    "# Exercise 5-8"
   ]
  },
  {
   "cell_type": "code",
   "execution_count": null,
   "metadata": {},
   "outputs": [],
   "source": [
    "# Exercise 5-9"
   ]
  },
  {
   "cell_type": "code",
   "execution_count": null,
   "metadata": {},
   "outputs": [],
   "source": [
    "# Exercise 5-10"
   ]
  },
  {
   "cell_type": "code",
   "execution_count": null,
   "metadata": {},
   "outputs": [],
   "source": [
    "# Exercise 5-11"
   ]
  },
  {
   "cell_type": "code",
   "execution_count": null,
   "metadata": {},
   "outputs": [],
   "source": [
    "# Exercise 5-12"
   ]
  }
 ],
 "metadata": {
  "kernelspec": {
   "display_name": "Python 3 (ipykernel)",
   "language": "python",
   "name": "python3"
  },
  "language_info": {
   "codemirror_mode": {
    "name": "ipython",
    "version": 3
   },
   "file_extension": ".py",
   "mimetype": "text/x-python",
   "name": "python",
   "nbconvert_exporter": "python",
   "pygments_lexer": "ipython3",
   "version": "3.8.6"
  }
 },
 "nbformat": 4,
 "nbformat_minor": 2
}
