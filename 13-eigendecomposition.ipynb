{
 "cells": [
  {
   "cell_type": "markdown",
   "metadata": {},
   "source": [
    "# Chapter 13: Eigendecomposition"
   ]
  },
  {
   "cell_type": "markdown",
   "metadata": {},
   "source": [
    "# Concepts"
   ]
  },
  {
   "cell_type": "code",
   "execution_count": 19,
   "metadata": {},
   "outputs": [],
   "source": [
    "import numpy as np\n",
    "import scipy\n",
    "import matplotlib.pyplot as plt"
   ]
  },
  {
   "cell_type": "code",
   "execution_count": 20,
   "metadata": {},
   "outputs": [
    {
     "name": "stdout",
     "output_type": "stream",
     "text": [
      "[-0.85410197  5.85410197]\n"
     ]
    }
   ],
   "source": [
    "# Finding eigenvalues\n",
    "\n",
    "matrix_a = np.array([\n",
    "    [1, 2],\n",
    "    [3, 4]\n",
    "])\n",
    "\n",
    "evals = np.linalg.eigh(matrix_a)[0]\n",
    "print(evals)"
   ]
  },
  {
   "cell_type": "code",
   "execution_count": 21,
   "metadata": {},
   "outputs": [
    {
     "name": "stdout",
     "output_type": "stream",
     "text": [
      "[[-0.85065081  0.52573111]\n",
      " [ 0.52573111  0.85065081]]\n"
     ]
    }
   ],
   "source": [
    "# Finding eigenvectors\n",
    "\n",
    "evecs = np.linalg.eigh(matrix_a)[1]\n",
    "print(evecs)"
   ]
  },
  {
   "cell_type": "code",
   "execution_count": 22,
   "metadata": {},
   "outputs": [
    {
     "name": "stdout",
     "output_type": "stream",
     "text": [
      "[[-0.85410197  0.        ]\n",
      " [ 0.          5.85410197]]\n"
     ]
    }
   ],
   "source": [
    "# Diagonalizing a matrix\n",
    "\n",
    "diag_matrix_a = np.diag(evals)\n",
    "print(diag_matrix_a)"
   ]
  },
  {
   "cell_type": "code",
   "execution_count": 23,
   "metadata": {},
   "outputs": [
    {
     "name": "stdout",
     "output_type": "stream",
     "text": [
      "All pair-wise dot products of the eigenvectors for a symmetrical matrix are equal to zero: True\n"
     ]
    }
   ],
   "source": [
    "# Orthogonal Eigenvectors\n",
    "\n",
    "# Create a symmetrical matrix\n",
    "random_matrix_a = np.random.randint(-3, 4, (3, 3))\n",
    "symmetrical_matrix_a = random_matrix_a.T @ random_matrix_a\n",
    "\n",
    "# perform eigendecomposition\n",
    "evals, evecs = np.linalg.eigh(symmetrical_matrix_a)\n",
    "\n",
    "# compute all pair-wise dot products of eigenvectors matrix\n",
    "dot_product_1 = np.dot(evecs[:,0], evecs[:,1])\n",
    "dot_product_2 = np.dot(evecs[:,0], evecs[:,2])\n",
    "dot_product_3 = np.dot(evecs[:,1], evecs[:,2])\n",
    "check = np.isclose(dot_product_1, 0) and np.isclose(dot_product_2, 0) and np.isclose(dot_product_3, 0)\n",
    "\n",
    "print(\"All pair-wise dot products of the eigenvectors for a symmetrical matrix are equal to zero:\", check)"
   ]
  },
  {
   "cell_type": "code",
   "execution_count": 24,
   "metadata": {},
   "outputs": [
    {
     "name": "stdout",
     "output_type": "stream",
     "text": [
      "[[-5.59707146]\n",
      " [ 0.22606174]\n",
      " [ 2.37100972]]\n"
     ]
    }
   ],
   "source": [
    "# Real-valued eigenvalues (symmetrical matrix)\n",
    "\n",
    "matrix_a = np.array([\n",
    "    [-3, -3, 0],\n",
    "    [-3, -2, 1],\n",
    "    [0, 1, 2]\n",
    "])\n",
    "\n",
    "evals, evecs = np.linalg.eig(matrix_a)\n",
    "\n",
    "print(evals.reshape(-1, 1))"
   ]
  },
  {
   "cell_type": "code",
   "execution_count": 25,
   "metadata": {},
   "outputs": [
    {
     "name": "stdout",
     "output_type": "stream",
     "text": [
      "Rank = 2 \n",
      "\n",
      "Eigenvalues: [16.12 -1.12 -0.  ] \n",
      "\n",
      "Eigenvectors: [[-0.46 -0.88  0.41]\n",
      " [-0.57 -0.24 -0.82]\n",
      " [-0.68  0.4   0.41]] \n",
      "\n"
     ]
    }
   ],
   "source": [
    "# Eigendecomposition of singular matrices\n",
    "\n",
    "singular_matrix_a = np.array([\n",
    "    [1, 4, 7],\n",
    "    [2, 5, 8],\n",
    "    [3, 6, 9]\n",
    "])\n",
    "\n",
    "evals, evecs = np.linalg.eig(singular_matrix_a)\n",
    "\n",
    "print(f\"Rank = {np.linalg.matrix_rank(singular_matrix_a)} \\n\")\n",
    "print(f\"Eigenvalues: {np.round(evals, 2)} \\n\")\n",
    "print(f\"Eigenvectors: {np.round(evecs, 2)} \\n\")"
   ]
  },
  {
   "cell_type": "code",
   "execution_count": 26,
   "metadata": {},
   "outputs": [
    {
     "name": "stdout",
     "output_type": "stream",
     "text": [
      "Eigenvalues: [0.05 0.4  5.14 6.95] \n",
      "\n",
      "Eigenvectors: [[ 0.04 -0.17  0.87 -0.47]\n",
      " [-0.26 -0.42 -0.6   0.89]\n",
      " [ 0.4  -0.03 -0.09 -0.12]\n",
      " [ 0.07  0.    0.32  0.78]] \n",
      "\n"
     ]
    }
   ],
   "source": [
    "# Generalized eigendecomposition\n",
    "\n",
    "# create correlated matrices\n",
    "random_matrix_a = np.random.randn(4, 4)\n",
    "matrix_a = random_matrix_a.T @ random_matrix_a\n",
    "random_matrix_b = np.random.randn(4, 4)\n",
    "matrix_b = random_matrix_b.T @ random_matrix_b + matrix_a / 10\n",
    "\n",
    "evals, evecs = scipy.linalg.eigh(matrix_a, matrix_b)\n",
    "print(f\"Eigenvalues: {np.round(evals, 2)} \\n\")\n",
    "print(f\"Eigenvectors: {np.round(evecs, 2)} \\n\")"
   ]
  },
  {
   "cell_type": "markdown",
   "metadata": {},
   "source": [
    "# Code Exercises"
   ]
  },
  {
   "cell_type": "code",
   "execution_count": 67,
   "metadata": {},
   "outputs": [
    {
     "name": "stdout",
     "output_type": "stream",
     "text": [
      "Eigenvalues of a symmetrical matrix and reciprocal of eigenvalues of that matrix inversed are the same: True\n"
     ]
    }
   ],
   "source": [
    "# Exercise 13-1 (Compare eigenvectors of a matrix and its inverse)\n",
    "\n",
    "# Create symmetric matrix\n",
    "matrix_a = np.random.randn(5, 5)\n",
    "symmetrical_matrix_a = matrix_a.T @ matrix_a\n",
    "matrix_a_inverse = np.linalg.inv(symmetrical_matrix_a)\n",
    "\n",
    "# Calculate eigenvalues for the symmetrical matrix and its inverse\n",
    "evals = np.linalg.eig(symmetrical_matrix_a)[0]\n",
    "inverse_evals = np.linalg.eig(matrix_a_inverse)[0]\n",
    "\n",
    "check = np.allclose(np.sort(evals), np.sort(1/inverse_evals))\n",
    "print(\"Eigenvalues of a symmetrical matrix and reciprocal of eigenvalues of that matrix inversed are the same:\", check)"
   ]
  },
  {
   "cell_type": "code",
   "execution_count": 92,
   "metadata": {},
   "outputs": [
    {
     "data": {
      "image/png": "[encoded data removed]",
      "text/plain": [
       "<Figure size 1000x600 with 1 Axes>"
      ]
     },
     "metadata": {},
     "output_type": "display_data"
    },
    {
     "name": "stdout",
     "output_type": "stream",
     "text": [
      "The plot demonstrates the failure of the geometric test of stretching without rotating the vectors.\n"
     ]
    }
   ],
   "source": [
    "# Define matrix\n",
    "matrix_a = np.random.randn(2, 2)\n",
    "\n",
    "# Compute eigenvalues and eigenvectors\n",
    "eigenvalues, eigenvectors = np.linalg.eig(matrix_a)\n",
    "\n",
    "# Use rows of the eigenvector matrix\n",
    "vector_row_1 = eigenvectors[0, :]\n",
    "vector_row_2 = eigenvectors[1, :]\n",
    "\n",
    "# Multiply to create new vectors\n",
    "transformed_vector_row_1 = matrix_a @ vector_row_1\n",
    "transformed_vector_row_2 = matrix_a @ vector_row_2\n",
    "\n",
    "# Create plot\n",
    "fig, ax = plt.subplots(figsize=(10, 6))\n",
    "\n",
    "# Plot vectors\n",
    "ax.plot([0, vector_row_1[0]], [0, vector_row_1[1]], 'k', linewidth=2, label='Vector Row 1')\n",
    "ax.plot([0, transformed_vector_row_1[0]], [0, transformed_vector_row_1[1]], 'k--', linewidth=2, label='Transformed Vector Row 1')\n",
    "\n",
    "ax.plot([0, vector_row_2[0]], [0, vector_row_2[1]], 'r', linewidth=2, label='Vector Row 2')\n",
    "ax.plot([0, transformed_vector_row_2[0]], [0, transformed_vector_row_2[1]], 'r--', linewidth=2, label='Transformed Vector Row 2')\n",
    "\n",
    "# Adjust the graph\n",
    "ax.axis('square')\n",
    "ax.set_xlim([-1.5, 1.5])\n",
    "ax.set_ylim([-1.5, 1.5])\n",
    "ax.grid()\n",
    "ax.legend()\n",
    "\n",
    "ax.set_title('Rows of Eigenvector Matrix and Their Transformations')\n",
    "\n",
    "plt.show()\n",
    "\n",
    "print(\"The plot demonstrates the failure of the geometric test of stretching without rotating the vectors.\")"
   ]
  },
  {
   "cell_type": "code",
   "execution_count": 96,
   "metadata": {},
   "outputs": [
    {
     "name": "stdout",
     "output_type": "stream",
     "text": [
      "\n",
      "Reconstruction differences for no swapping:\n",
      "[[ 0.  0.  0. -0.  0.]\n",
      " [ 0. -0.  0.  0. -0.]\n",
      " [ 0.  0. -0.  0. -0.]\n",
      " [-0.  0.  0.  0.  0.]\n",
      " [ 0.  0. -0.  0.  0.]]\n",
      "Frobenius distance: 3.7742352793868764e-15\n",
      "\n",
      "Reconstruction differences for all eigenvalues swapped:\n",
      "[[ 3.8286  1.615  -1.6435 -1.4919  1.7572]\n",
      " [ 1.615  -0.2353  1.6496 -0.3242 -1.2945]\n",
      " [-1.6435  1.6496 -5.2774 -0.3064  4.4334]\n",
      " [-1.4919 -0.3242 -0.3064  5.3556  0.4526]\n",
      " [ 1.7572 -1.2945  4.4334  0.4526 -3.6714]]\n",
      "Frobenius distance: 12.445195821606383\n",
      "\n",
      "Reconstruction differences for largest two eigenvalues swapped:\n",
      "[[ 1.2295  0.7548  0.4229 -1.8752  0.4635]\n",
      " [ 0.7548 -0.9052 -1.3454 -0.4726 -1.0418]\n",
      " [ 0.4229 -1.3454 -1.7369  0.151  -1.3961]\n",
      " [-1.8752 -0.4726  0.151   2.5234 -0.0491]\n",
      " [ 0.4635 -1.0418 -1.3961 -0.0491 -1.1108]]\n",
      "Frobenius distance: 5.6652772277620675\n",
      "\n",
      "Reconstruction differences for smallest two eigenvalues swapped:\n",
      "[[ 0.0106  0.0328  0.0622  0.0083 -0.1049]\n",
      " [ 0.0328 -0.3026 -0.0118 -0.0255  0.3135]\n",
      " [ 0.0622 -0.0118  0.2616  0.0227 -0.2929]\n",
      " [ 0.0083 -0.0255  0.0227 -0.     -0.0012]\n",
      " [-0.1049  0.3135 -0.2929 -0.0012  0.0304]]\n",
      "Frobenius distance: 0.7508248376941941\n"
     ]
    },
    {
     "data": {
      "image/png": "[encoded data removed]",
      "text/plain": [
       "<Figure size 800x600 with 1 Axes>"
      ]
     },
     "metadata": {},
     "output_type": "display_data"
    }
   ],
   "source": [
    "def create_symmetric_matrix(size):\n",
    "    matrix = np.random.randn(size, size)\n",
    "    return np.round(matrix.T + matrix)\n",
    "\n",
    "def diagonalize_matrix(matrix):\n",
    "    eigenvalues, eigenvectors = np.linalg.eig(matrix)\n",
    "    return eigenvalues, eigenvectors, np.diag(eigenvalues)\n",
    "\n",
    "def reconstruct_matrix(eigenvectors, diagonal_matrix):\n",
    "    return eigenvectors @ diagonal_matrix @ eigenvectors.T\n",
    "\n",
    "def compute_reconstruction_accuracy(original_matrix, reconstructed_matrix):\n",
    "    return np.sqrt(np.sum((original_matrix - reconstructed_matrix) ** 2))\n",
    "\n",
    "def swap_eigenvalues(eigenvalues, indices):\n",
    "    swapped_eigenvalues = eigenvalues[indices]\n",
    "    return np.diag(swapped_eigenvalues)\n",
    "\n",
    "def plot_accuracies(accuracies, labels):\n",
    "    plt.figure(figsize=(8, 6))\n",
    "    plt.bar(range(len(accuracies)), accuracies)\n",
    "    plt.xticks(range(len(accuracies)), labels)\n",
    "    plt.ylabel('Frobenius distance to original matrix')\n",
    "    plt.xlabel('Type of eigenvalue swapping')\n",
    "    plt.title('Reconstruction accuracy')\n",
    "    plt.show()\n",
    "\n",
    "\n",
    "matrix_size = 5\n",
    "reconstruction_accuracies = np.zeros(4)\n",
    "\n",
    "symmetric_matrix = create_symmetric_matrix(matrix_size)\n",
    "\n",
    "eigenvalues, eigenvectors, diagonal_matrix = diagonalize_matrix(symmetric_matrix)\n",
    "\n",
    "# No swapping\n",
    "reconstructed_matrix = reconstruct_matrix(eigenvectors, diagonal_matrix)\n",
    "reconstruction_accuracies[0] = compute_reconstruction_accuracy(symmetric_matrix, reconstructed_matrix)\n",
    "print(f'\\nReconstruction differences for no swapping:\\n{np.round(symmetric_matrix - reconstructed_matrix, 4)}')\n",
    "print(f'Frobenius distance: {reconstruction_accuracies[0]}')\n",
    "\n",
    "# All eigenvalues swapped\n",
    "permuted_diagonal_matrix = swap_eigenvalues(eigenvalues, np.random.permutation(matrix_size))\n",
    "reconstructed_matrix = reconstruct_matrix(eigenvectors, permuted_diagonal_matrix)\n",
    "reconstruction_accuracies[1] = compute_reconstruction_accuracy(symmetric_matrix, reconstructed_matrix)\n",
    "print(f'\\nReconstruction differences for all eigenvalues swapped:\\n{np.round(symmetric_matrix - reconstructed_matrix, 4)}')\n",
    "print(f'Frobenius distance: {reconstruction_accuracies[1]}')\n",
    "\n",
    "# Swap largest two eigenvalues\n",
    "sorted_indices = np.argsort(eigenvalues)\n",
    "swapped_indices_largest = sorted_indices[np.r_[np.arange(matrix_size-2), matrix_size-1, matrix_size-2]][::-1]\n",
    "swapped_diagonal_matrix_largest = swap_eigenvalues(eigenvalues, swapped_indices_largest)\n",
    "reconstructed_matrix = reconstruct_matrix(eigenvectors, swapped_diagonal_matrix_largest)\n",
    "reconstruction_accuracies[2] = compute_reconstruction_accuracy(symmetric_matrix, reconstructed_matrix)\n",
    "print(f'\\nReconstruction differences for largest two eigenvalues swapped:\\n{np.round(symmetric_matrix - reconstructed_matrix, 4)}')\n",
    "print(f'Frobenius distance: {reconstruction_accuracies[2]}')\n",
    "\n",
    "# Swap smallest two eigenvalues\n",
    "swapped_indices_smallest = sorted_indices[np.r_[1, 0, np.arange(2, matrix_size)]][::-1]\n",
    "swapped_diagonal_matrix_smallest = swap_eigenvalues(eigenvalues, swapped_indices_smallest)\n",
    "reconstructed_matrix = reconstruct_matrix(eigenvectors, swapped_diagonal_matrix_smallest)\n",
    "reconstruction_accuracies[3] = compute_reconstruction_accuracy(symmetric_matrix, reconstructed_matrix)\n",
    "print(f'\\nReconstruction differences for smallest two eigenvalues swapped:\\n{np.round(symmetric_matrix - reconstructed_matrix, 4)}')\n",
    "print(f'Frobenius distance: {reconstruction_accuracies[3]}')\n",
    "\n",
    "# Plot the results\n",
    "labels = ['None', 'All', 'Largest two', 'Smallest two']\n",
    "plot_accuracies(reconstruction_accuracies, labels)"
   ]
  },
  {
   "cell_type": "code",
   "execution_count": 30,
   "metadata": {},
   "outputs": [],
   "source": [
    "# Exercise 13-4 (Show that the eigenvalues of a random matrix are distributed in a circle with the radius proportional to the matrix size)"
   ]
  },
  {
   "cell_type": "code",
   "execution_count": 31,
   "metadata": {},
   "outputs": [],
   "source": [
    "# Exercise 13-5 (Eigenvector is the basis for the null-space of the eigenvalue-shifted matrix)"
   ]
  },
  {
   "cell_type": "code",
   "execution_count": 32,
   "metadata": {},
   "outputs": [],
   "source": [
    "# Exercise 13-6 (Alternative method of creating random symmetrical matrices)"
   ]
  },
  {
   "cell_type": "code",
   "execution_count": 33,
   "metadata": {},
   "outputs": [],
   "source": [
    "# Exercise 13-7 (Shrinkage regularization)"
   ]
  },
  {
   "cell_type": "code",
   "execution_count": 34,
   "metadata": {},
   "outputs": [],
   "source": [
    "# Exercise 13-8 (Create surrogate data with specified correlation matrix)"
   ]
  },
  {
   "cell_type": "code",
   "execution_count": 35,
   "metadata": {},
   "outputs": [],
   "source": [
    "# Exercise 13-9 (Remove imposed correlations by whitening)"
   ]
  },
  {
   "cell_type": "code",
   "execution_count": 36,
   "metadata": {},
   "outputs": [],
   "source": [
    "# Exercise 13-10 (Confirm eigenvectors are not orthogonal when using generalized eigendecomposition)"
   ]
  },
  {
   "cell_type": "code",
   "execution_count": 37,
   "metadata": {},
   "outputs": [],
   "source": [
    "# Exercise 13-11 (Scaling of eigenvectors)"
   ]
  }
 ],
 "metadata": {
  "kernelspec": {
   "display_name": "Python 3 (ipykernel)",
   "language": "python",
   "name": "python3"
  },
  "language_info": {
   "codemirror_mode": {
    "name": "ipython",
    "version": 3
   },
   "file_extension": ".py",
   "mimetype": "text/x-python",
   "name": "python",
   "nbconvert_exporter": "python",
   "pygments_lexer": "ipython3",
   "version": "3.8.6"
  }
 },
 "nbformat": 4,
 "nbformat_minor": 2
}
