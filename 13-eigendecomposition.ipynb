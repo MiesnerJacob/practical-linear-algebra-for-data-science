{
 "cells": [
  {
   "cell_type": "markdown",
   "metadata": {},
   "source": [
    "# Chapter 13: Eigendecomposition"
   ]
  },
  {
   "cell_type": "markdown",
   "metadata": {},
   "source": [
    "# Concepts"
   ]
  },
  {
   "cell_type": "code",
   "execution_count": 1,
   "metadata": {},
   "outputs": [],
   "source": [
    "import numpy as np\n",
    "import scipy\n",
    "import matplotlib.pyplot as plt"
   ]
  },
  {
   "cell_type": "code",
   "execution_count": 2,
   "metadata": {},
   "outputs": [
    {
     "name": "stdout",
     "output_type": "stream",
     "text": [
      "[-0.85410197  5.85410197]\n"
     ]
    }
   ],
   "source": [
    "# Finding eigenvalues\n",
    "\n",
    "matrix_a = np.array([\n",
    "    [1, 2],\n",
    "    [3, 4]\n",
    "])\n",
    "\n",
    "evals = np.linalg.eigh(matrix_a)[0]\n",
    "print(evals)"
   ]
  },
  {
   "cell_type": "code",
   "execution_count": 4,
   "metadata": {},
   "outputs": [
    {
     "name": "stdout",
     "output_type": "stream",
     "text": [
      "[[-0.85065081  0.52573111]\n",
      " [ 0.52573111  0.85065081]]\n"
     ]
    }
   ],
   "source": [
    "# Finding eigenvectors\n",
    "\n",
    "evecs = np.linalg.eigh(matrix_a)[1]\n",
    "print(evecs)"
   ]
  },
  {
   "cell_type": "code",
   "execution_count": 5,
   "metadata": {},
   "outputs": [
    {
     "name": "stdout",
     "output_type": "stream",
     "text": [
      "[[-0.85410197  0.        ]\n",
      " [ 0.          5.85410197]]\n"
     ]
    }
   ],
   "source": [
    "# Diagonalizing a matrix\n",
    "\n",
    "diag_matrix_a = np.diag(evals)\n",
    "print(diag_matrix_a)"
   ]
  },
  {
   "cell_type": "code",
   "execution_count": 11,
   "metadata": {},
   "outputs": [
    {
     "name": "stdout",
     "output_type": "stream",
     "text": [
      "All pair-wise dot products of the eigenvectors for a symmetrical matrix are equal to zero: True\n"
     ]
    }
   ],
   "source": [
    "# Orthogonal Eigenvectors\n",
    "\n",
    "# Create a symmetrical matrix\n",
    "random_matrix_a = np.random.randint(-3, 4, (3, 3))\n",
    "symmetrical_matrix_a = random_matrix_a.T @ random_matrix_a\n",
    "\n",
    "# perform eigendecomposition\n",
    "evals, evecs = np.linalg.eigh(symmetrical_matrix_a)\n",
    "\n",
    "# compute all pair-wise dot products of eigenvectors matrix\n",
    "dot_product_1 = np.dot(evecs[:,0], evecs[:,1])\n",
    "dot_product_2 = np.dot(evecs[:,0], evecs[:,2])\n",
    "dot_product_3 = np.dot(evecs[:,1], evecs[:,2])\n",
    "check = np.isclose(dot_product_1, 0) and np.isclose(dot_product_2, 0) and np.isclose(dot_product_3, 0)\n",
    "\n",
    "print(\"All pair-wise dot products of the eigenvectors for a symmetrical matrix are equal to zero:\", check)"
   ]
  },
  {
   "cell_type": "code",
   "execution_count": 13,
   "metadata": {},
   "outputs": [
    {
     "name": "stdout",
     "output_type": "stream",
     "text": [
      "[[-5.59707146]\n",
      " [ 0.22606174]\n",
      " [ 2.37100972]]\n"
     ]
    }
   ],
   "source": [
    "# Real-valued eigenvalues (symmetrical matrix)\n",
    "\n",
    "matrix_a = np.array([\n",
    "    [-3, -3, 0],\n",
    "    [-3, -2, 1],\n",
    "    [0, 1, 2]\n",
    "])\n",
    "\n",
    "evals, evecs = np.linalg.eig(matrix_a)\n",
    "\n",
    "print(evals.reshape(-1, 1))"
   ]
  },
  {
   "cell_type": "code",
   "execution_count": 17,
   "metadata": {},
   "outputs": [
    {
     "name": "stdout",
     "output_type": "stream",
     "text": [
      "Rank = 2 \n",
      "\n",
      "Eigenvalues: [16.12 -1.12 -0.  ] \n",
      "\n",
      "Eigenvectors: [[-0.46 -0.88  0.41]\n",
      " [-0.57 -0.24 -0.82]\n",
      " [-0.68  0.4   0.41]] \n",
      "\n"
     ]
    }
   ],
   "source": [
    "# Eigendecomposition of singular matrices\n",
    "\n",
    "singular_matrix_a = np.array([\n",
    "    [1, 4, 7],\n",
    "    [2, 5, 8],\n",
    "    [3, 6, 9]\n",
    "])\n",
    "\n",
    "evals, evecs = np.linalg.eig(singular_matrix_a)\n",
    "\n",
    "print(f\"Rank = {np.linalg.matrix_rank(singular_matrix_a)} \\n\")\n",
    "print(f\"Eigenvalues: {np.round(evals, 2)} \\n\")\n",
    "print(f\"Eigenvectors: {np.round(evecs, 2)} \\n\")"
   ]
  },
  {
   "cell_type": "code",
   "execution_count": 18,
   "metadata": {},
   "outputs": [
    {
     "name": "stdout",
     "output_type": "stream",
     "text": [
      "Eigenvalues: [0.02 0.07 1.32 2.97] \n",
      "\n",
      "Eigenvectors: [[ 0.31  0.34 -0.08 -0.25]\n",
      " [-0.07  0.06 -0.34 -0.44]\n",
      " [ 0.08  0.37 -0.23  0.31]\n",
      " [-0.24  0.27  0.54 -0.01]] \n",
      "\n"
     ]
    }
   ],
   "source": [
    "# Generalized eigendecomposition\n",
    "\n",
    "# create correlated matrices\n",
    "random_matrix_a = np.random.randn(4, 4)\n",
    "matrix_a = random_matrix_a.T @ random_matrix_a\n",
    "random_matrix_b = np.random.randn(4, 4)\n",
    "matrix_b = random_matrix_b.T @ random_matrix_b + matrix_a / 10\n",
    "\n",
    "evals, evecs = scipy.linalg.eigh(matrix_a, matrix_b)\n",
    "print(f\"Eigenvalues: {np.round(evals, 2)} \\n\")\n",
    "print(f\"Eigenvectors: {np.round(evecs, 2)} \\n\")"
   ]
  },
  {
   "cell_type": "markdown",
   "metadata": {},
   "source": [
    "# Code Exercises"
   ]
  },
  {
   "cell_type": "code",
   "execution_count": null,
   "metadata": {},
   "outputs": [],
   "source": [
    "# Exercise 13-1 ()"
   ]
  },
  {
   "cell_type": "code",
   "execution_count": null,
   "metadata": {},
   "outputs": [],
   "source": [
    "# Exercise 13-2 ()"
   ]
  },
  {
   "cell_type": "code",
   "execution_count": null,
   "metadata": {},
   "outputs": [],
   "source": [
    "# Exercise 13-3 ()"
   ]
  },
  {
   "cell_type": "code",
   "execution_count": null,
   "metadata": {},
   "outputs": [],
   "source": [
    "# Exercise 13-4 ()"
   ]
  },
  {
   "cell_type": "code",
   "execution_count": null,
   "metadata": {},
   "outputs": [],
   "source": [
    "# Exercise 13-5 ()"
   ]
  },
  {
   "cell_type": "code",
   "execution_count": null,
   "metadata": {},
   "outputs": [],
   "source": [
    "# Exercise 13-6 ()"
   ]
  },
  {
   "cell_type": "code",
   "execution_count": null,
   "metadata": {},
   "outputs": [],
   "source": [
    "# Exercise 13-7 ()"
   ]
  },
  {
   "cell_type": "code",
   "execution_count": null,
   "metadata": {},
   "outputs": [],
   "source": [
    "# Exercise 13-8 ()"
   ]
  },
  {
   "cell_type": "code",
   "execution_count": null,
   "metadata": {},
   "outputs": [],
   "source": [
    "# Exercise 13-9 ()"
   ]
  },
  {
   "cell_type": "code",
   "execution_count": null,
   "metadata": {},
   "outputs": [],
   "source": [
    "# Exercise 13-10 ()"
   ]
  },
  {
   "cell_type": "code",
   "execution_count": null,
   "metadata": {},
   "outputs": [],
   "source": [
    "# Exercise 13-11 ()"
   ]
  }
 ],
 "metadata": {
  "kernelspec": {
   "display_name": "Python 3 (ipykernel)",
   "language": "python",
   "name": "python3"
  },
  "language_info": {
   "codemirror_mode": {
    "name": "ipython",
    "version": 3
   },
   "file_extension": ".py",
   "mimetype": "text/x-python",
   "name": "python",
   "nbconvert_exporter": "python",
   "pygments_lexer": "ipython3",
   "version": "3.8.6"
  }
 },
 "nbformat": 4,
 "nbformat_minor": 2
}
