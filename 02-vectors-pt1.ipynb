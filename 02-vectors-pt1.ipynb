{
 "cells": [
  {
   "cell_type": "markdown",
   "metadata": {},
   "source": [
    "# Chapter 02: Vectors, Part 1"
   ]
  },
  {
   "cell_type": "markdown",
   "metadata": {},
   "source": [
    "## Concepts"
   ]
  },
  {
   "cell_type": "code",
   "execution_count": 2,
   "metadata": {},
   "outputs": [],
   "source": [
    "import numpy as np"
   ]
  },
  {
   "cell_type": "code",
   "execution_count": 6,
   "metadata": {},
   "outputs": [
    {
     "name": "stdout",
     "output_type": "stream",
     "text": [
      "asList: (3,)\n",
      "asArray: (3,)\n",
      "rowVec: (1, 3)\n",
      "colVec: (3, 1)\n"
     ]
    }
   ],
   "source": [
    "# Python Lists and Numpy Arrays\n",
    "\n",
    "asList = [7, 8, 9]\n",
    "asArray = np.array([7, 8, 9]) # 1D array\n",
    "rowVec = np.array([ [7, 8, 9] ]) # row orientated vector\n",
    "colVec = np.array([ [7], [8], [9] ]) #column orientated vector\n",
    "\n",
    "print(f'asList: {np.shape(asList)}')\n",
    "print(f'asArray: {asArray.shape}')\n",
    "print(f'rowVec: {rowVec.shape}')\n",
    "print(f'colVec: {colVec.shape}')"
   ]
  },
  {
   "cell_type": "code",
   "execution_count": 17,
   "metadata": {},
   "outputs": [
    {
     "data": {
      "text/plain": [
       "array([16, 27, 38])"
      ]
     },
     "execution_count": 17,
     "metadata": {},
     "output_type": "execute_result"
    }
   ],
   "source": [
    "# Vector Addition\n",
    "vector_a = np.array([1, 2, 3])\n",
    "vector_b = np.array([15, 25 , 35])\n",
    "\n",
    "vector_addition_result = vector_a + vector_b\n",
    "\n",
    "vector_addition_result"
   ]
  },
  {
   "cell_type": "code",
   "execution_count": 16,
   "metadata": {},
   "outputs": [
    {
     "data": {
      "text/plain": [
       "array([12, 15, 18])"
      ]
     },
     "execution_count": 16,
     "metadata": {},
     "output_type": "execute_result"
    }
   ],
   "source": [
    "# Vector Scalar Multiplication\n",
    "\n",
    "scalar = 3\n",
    "array = np.array([4, 5, 6])\n",
    "\n",
    "scalar_mult_result = scalar * array\n",
    "\n",
    "scalar_mult_result"
   ]
  },
  {
   "cell_type": "code",
   "execution_count": 15,
   "metadata": {},
   "outputs": [
    {
     "data": {
      "text/plain": [
       "array([7, 8, 9])"
      ]
     },
     "execution_count": 15,
     "metadata": {},
     "output_type": "execute_result"
    }
   ],
   "source": [
    "# Scalar Vector Addition\n",
    "\n",
    "scalar = 3\n",
    "array = np.array([4, 5, 6])\n",
    "\n",
    "scalar_add_result = scalar + array\n",
    "\n",
    "scalar_add_result"
   ]
  },
  {
   "cell_type": "code",
   "execution_count": 14,
   "metadata": {},
   "outputs": [
    {
     "data": {
      "text/plain": [
       "array([[ 6,  7],\n",
       "       [11, 12],\n",
       "       [16, 17]])"
      ]
     },
     "execution_count": 14,
     "metadata": {},
     "output_type": "execute_result"
    }
   ],
   "source": [
    "# Vector Broadcasting\n",
    "\n",
    "col_vector = np.array([ [5, 10, 15] ]).T\n",
    "row_vector = np.array([ [1, 2] ])\n",
    "\n",
    "vector_broadcasting_result = col_vector + row_vector\n",
    "\n",
    "vector_broadcasting_result"
   ]
  },
  {
   "cell_type": "code",
   "execution_count": 18,
   "metadata": {},
   "outputs": [
    {
     "name": "stdout",
     "output_type": "stream",
     "text": [
      "5\n",
      "11.61895003862225\n"
     ]
    }
   ],
   "source": [
    "# Vector Dimensions and Magnitude\n",
    "\n",
    "vector = np.array([3,4,5,6,7])\n",
    "vector_dimensions = len(vector)\n",
    "vector_magnitude = np.linalg.norm(vector)\n",
    "\n",
    "print(vector_dimensions)\n",
    "print(vector_magnitude)"
   ]
  },
  {
   "cell_type": "code",
   "execution_count": 19,
   "metadata": {},
   "outputs": [
    {
     "data": {
      "text/plain": [
       "170"
      ]
     },
     "execution_count": 19,
     "metadata": {},
     "output_type": "execute_result"
    }
   ],
   "source": [
    "# Vector Dot Product\n",
    "vector_a = np.array([1, 2, 3])\n",
    "vector_b = np.array([15, 25 , 35])\n",
    "\n",
    "vector_dot_product = np.dot(vector_a, vector_b)\n",
    "\n",
    "vector_dot_product"
   ]
  },
  {
   "cell_type": "code",
   "execution_count": 20,
   "metadata": {},
   "outputs": [
    {
     "name": "stdout",
     "output_type": "stream",
     "text": [
      "True\n"
     ]
    }
   ],
   "source": [
    "# Distributive Property Intuition\n",
    "vector_a = np.array([1, 2, 3])\n",
    "vector_b = np.array([4, 5, 6])\n",
    "vector_c = np.array([10, 20 ,30])\n",
    "\n",
    "res1 = np.dot(vector_a, vector_b + vector_c)\n",
    "res2 = np.dot(vector_a, vector_b) + np.dot(vector_a, vector_c)\n",
    "\n",
    "print(res1 == res2)"
   ]
  },
  {
   "cell_type": "code",
   "execution_count": 21,
   "metadata": {},
   "outputs": [
    {
     "data": {
      "text/plain": [
       "array([ 15,  50, 105])"
      ]
     },
     "execution_count": 21,
     "metadata": {},
     "output_type": "execute_result"
    }
   ],
   "source": [
    "# Hadamard Multiplication (Element-wise)\n",
    "\n",
    "vector_a = np.array([1, 2, 3])\n",
    "vector_b = np.array([15, 25 , 35])\n",
    "\n",
    "vector_dot_product = vector_a * vector_b\n",
    "\n",
    "vector_dot_product"
   ]
  },
  {
   "cell_type": "code",
   "execution_count": 22,
   "metadata": {},
   "outputs": [
    {
     "data": {
      "text/plain": [
       "array([[ 15,  25,  35],\n",
       "       [ 30,  50,  70],\n",
       "       [ 45,  75, 105]])"
      ]
     },
     "execution_count": 22,
     "metadata": {},
     "output_type": "execute_result"
    }
   ],
   "source": [
    "# Vector Outer Product\n",
    "\n",
    "vector_a = np.array([1, 2, 3])\n",
    "vector_b = np.array([15, 25 , 35])\n",
    "\n",
    "vector_dot_product = np.outer(vector_a, vector_b)\n",
    "\n",
    "vector_dot_product"
   ]
  },
  {
   "cell_type": "markdown",
   "metadata": {},
   "source": [
    "## Code Exercises"
   ]
  },
  {
   "cell_type": "code",
   "execution_count": null,
   "metadata": {},
   "outputs": [],
   "source": []
  }
 ],
 "metadata": {
  "kernelspec": {
   "display_name": "Python 3 (ipykernel)",
   "language": "python",
   "name": "python3"
  },
  "language_info": {
   "codemirror_mode": {
    "name": "ipython",
    "version": 3
   },
   "file_extension": ".py",
   "mimetype": "text/x-python",
   "name": "python",
   "nbconvert_exporter": "python",
   "pygments_lexer": "ipython3",
   "version": "3.8.6"
  }
 },
 "nbformat": 4,
 "nbformat_minor": 2
}
