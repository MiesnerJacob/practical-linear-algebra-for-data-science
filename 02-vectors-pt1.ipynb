{
 "cells": [
  {
   "cell_type": "markdown",
   "metadata": {},
   "source": [
    "# Chapter 02: Vectors, Part 1"
   ]
  },
  {
   "cell_type": "markdown",
   "metadata": {},
   "source": [
    "## Concepts"
   ]
  },
  {
   "cell_type": "code",
   "execution_count": 2,
   "metadata": {},
   "outputs": [],
   "source": [
    "import numpy as np"
   ]
  },
  {
   "cell_type": "code",
   "execution_count": 6,
   "metadata": {},
   "outputs": [
    {
     "name": "stdout",
     "output_type": "stream",
     "text": [
      "asList: (3,)\n",
      "asArray: (3,)\n",
      "rowVec: (1, 3)\n",
      "colVec: (3, 1)\n"
     ]
    }
   ],
   "source": [
    "# Python Lists and Numpy Arrays\n",
    "\n",
    "asList = [7, 8, 9]\n",
    "asArray = np.array([7, 8, 9]) # 1D array\n",
    "rowVec = np.array([ [7, 8, 9] ]) # row orientated vector\n",
    "colVec = np.array([ [7], [8], [9] ]) #column orientated vector\n",
    "\n",
    "print(f'asList: {np.shape(asList)}')\n",
    "print(f'asArray: {asArray.shape}')\n",
    "print(f'rowVec: {rowVec.shape}')\n",
    "print(f'colVec: {colVec.shape}')"
   ]
  },
  {
   "cell_type": "code",
   "execution_count": 17,
   "metadata": {},
   "outputs": [
    {
     "data": {
      "text/plain": [
       "array([16, 27, 38])"
      ]
     },
     "execution_count": 17,
     "metadata": {},
     "output_type": "execute_result"
    }
   ],
   "source": [
    "# Vector Addition\n",
    "vector_a = np.array([1, 2, 3])\n",
    "vector_b = np.array([15, 25 , 35])\n",
    "\n",
    "vector_addition_result = vector_a + vector_b\n",
    "\n",
    "vector_addition_result"
   ]
  },
  {
   "cell_type": "code",
   "execution_count": 16,
   "metadata": {},
   "outputs": [
    {
     "data": {
      "text/plain": [
       "array([12, 15, 18])"
      ]
     },
     "execution_count": 16,
     "metadata": {},
     "output_type": "execute_result"
    }
   ],
   "source": [
    "# Vector Scalar Multiplication\n",
    "\n",
    "scalar = 3\n",
    "array = np.array([4, 5, 6])\n",
    "\n",
    "scalar_mult_result = scalar * array\n",
    "\n",
    "scalar_mult_result"
   ]
  },
  {
   "cell_type": "code",
   "execution_count": 15,
   "metadata": {},
   "outputs": [
    {
     "data": {
      "text/plain": [
       "array([7, 8, 9])"
      ]
     },
     "execution_count": 15,
     "metadata": {},
     "output_type": "execute_result"
    }
   ],
   "source": [
    "# Scalar Vector Addition\n",
    "\n",
    "scalar = 3\n",
    "array = np.array([4, 5, 6])\n",
    "\n",
    "scalar_add_result = scalar + array\n",
    "\n",
    "scalar_add_result"
   ]
  },
  {
   "cell_type": "code",
   "execution_count": 14,
   "metadata": {},
   "outputs": [
    {
     "data": {
      "text/plain": [
       "array([[ 6,  7],\n",
       "       [11, 12],\n",
       "       [16, 17]])"
      ]
     },
     "execution_count": 14,
     "metadata": {},
     "output_type": "execute_result"
    }
   ],
   "source": [
    "# Vector Broadcasting\n",
    "\n",
    "col_vector = np.array([ [5, 10, 15] ]).T\n",
    "row_vector = np.array([ [1, 2] ])\n",
    "\n",
    "vector_broadcasting_result = col_vector + row_vector\n",
    "\n",
    "vector_broadcasting_result"
   ]
  },
  {
   "cell_type": "code",
   "execution_count": 18,
   "metadata": {},
   "outputs": [
    {
     "name": "stdout",
     "output_type": "stream",
     "text": [
      "5\n",
      "11.61895003862225\n"
     ]
    }
   ],
   "source": [
    "# Vector Dimensions and Magnitude\n",
    "\n",
    "vector = np.array([3,4,5,6,7])\n",
    "vector_dimensions = len(vector)\n",
    "vector_magnitude = np.linalg.norm(vector)\n",
    "\n",
    "print(vector_dimensions)\n",
    "print(vector_magnitude)"
   ]
  },
  {
   "cell_type": "code",
   "execution_count": 19,
   "metadata": {},
   "outputs": [
    {
     "data": {
      "text/plain": [
       "170"
      ]
     },
     "execution_count": 19,
     "metadata": {},
     "output_type": "execute_result"
    }
   ],
   "source": [
    "# Vector Dot Product\n",
    "vector_a = np.array([1, 2, 3])\n",
    "vector_b = np.array([15, 25 , 35])\n",
    "\n",
    "vector_dot_product = np.dot(vector_a, vector_b)\n",
    "\n",
    "vector_dot_product"
   ]
  },
  {
   "cell_type": "code",
   "execution_count": 20,
   "metadata": {},
   "outputs": [
    {
     "name": "stdout",
     "output_type": "stream",
     "text": [
      "True\n"
     ]
    }
   ],
   "source": [
    "# Distributive Property Intuition\n",
    "vector_a = np.array([1, 2, 3])\n",
    "vector_b = np.array([4, 5, 6])\n",
    "vector_c = np.array([10, 20 ,30])\n",
    "\n",
    "res1 = np.dot(vector_a, vector_b + vector_c)\n",
    "res2 = np.dot(vector_a, vector_b) + np.dot(vector_a, vector_c)\n",
    "\n",
    "print(res1 == res2)"
   ]
  },
  {
   "cell_type": "code",
   "execution_count": 21,
   "metadata": {},
   "outputs": [
    {
     "data": {
      "text/plain": [
       "array([ 15,  50, 105])"
      ]
     },
     "execution_count": 21,
     "metadata": {},
     "output_type": "execute_result"
    }
   ],
   "source": [
    "# Hadamard Multiplication (Element-wise)\n",
    "\n",
    "vector_a = np.array([1, 2, 3])\n",
    "vector_b = np.array([15, 25 , 35])\n",
    "\n",
    "vector_dot_product = vector_a * vector_b\n",
    "\n",
    "vector_dot_product"
   ]
  },
  {
   "cell_type": "code",
   "execution_count": 22,
   "metadata": {},
   "outputs": [
    {
     "data": {
      "text/plain": [
       "array([[ 15,  25,  35],\n",
       "       [ 30,  50,  70],\n",
       "       [ 45,  75, 105]])"
      ]
     },
     "execution_count": 22,
     "metadata": {},
     "output_type": "execute_result"
    }
   ],
   "source": [
    "# Vector Outer Product\n",
    "\n",
    "vector_a = np.array([1, 2, 3])\n",
    "vector_b = np.array([15, 25 , 35])\n",
    "\n",
    "vector_dot_product = np.outer(vector_a, vector_b)\n",
    "\n",
    "vector_dot_product"
   ]
  },
  {
   "cell_type": "markdown",
   "metadata": {},
   "source": [
    "## Code Exercises"
   ]
  },
  {
   "cell_type": "code",
   "execution_count": 58,
   "metadata": {},
   "outputs": [
    {
     "data": {
      "image/png": "[encoded data removed]",
      "text/plain": [
       "<Figure size 400x400 with 1 Axes>"
      ]
     },
     "metadata": {},
     "output_type": "display_data"
    }
   ],
   "source": [
    "# Exercise 2-1 (Part 1 Vector Addition)\n",
    "import matplotlib.pyplot as plt\n",
    "\n",
    "# The vectors and their sum\n",
    "vector_a = np.array([5,6])\n",
    "vector_b = np.array([1,-3])\n",
    "vector_sum = vector_a + vector_b\n",
    "\n",
    "\n",
    "# Create Plot\n",
    "plt.figure(figsize=(4,4))\n",
    "origin = np.array([0,0])\n",
    "head_width = 0.3\n",
    "line_width=0.1\n",
    "include_head=True\n",
    "\n",
    "# plot the vectors\n",
    "vector_a_plot = plt.arrow(origin[0], origin[1], vector_a[0], vector_a[1], head_width=head_width, width=line_width, color='grey', length_includes_head=include_head)\n",
    "vector_b_plot = plt.arrow(vector_a[0], vector_a[1], vector_b[0], vector_b[1], head_width=head_width, width=line_width, color='black', length_includes_head=include_head)\n",
    "vector_sum_plot = plt.arrow(origin[0], origin[1], vector_sum[0], vector_sum[1], head_width=head_width, width=line_width, color='red', length_includes_head=include_head)\n",
    "\n",
    "\n",
    "# Format Plot \n",
    "plt.grid(linestyle='-',linewidth=.25)\n",
    "plt.axis('square')\n",
    "plt.axis([-10, 10, -10, 10])\n",
    "plt.legend([vector_a_plot, vector_b_plot, vector_sum_plot], ['Vector A','Vector B', 'Vector Sum'])\n",
    "plt.title('Vector Addition')\n",
    "plt.show()"
   ]
  },
  {
   "cell_type": "code",
   "execution_count": 57,
   "metadata": {},
   "outputs": [
    {
     "data": {
      "image/png": "[encoded data removed]",
      "text/plain": [
       "<Figure size 400x400 with 1 Axes>"
      ]
     },
     "metadata": {},
     "output_type": "display_data"
    }
   ],
   "source": [
    "# Exercise 2-1 (Part 2 Vector Subtraction)\n",
    "\n",
    "# The vectors and their difference\n",
    "vector_a = np.array([5,6])\n",
    "vector_b = np.array([1,-3])\n",
    "vector_difference = vector_a - vector_b\n",
    "\n",
    "\n",
    "# Create Plot\n",
    "plt.figure(figsize=(4,4))\n",
    "origin = np.array([0,0])\n",
    "head_width = 0.3\n",
    "line_width=0.1\n",
    "include_head=True\n",
    "\n",
    "# Plot the vectors\n",
    "vector_a_plot = plt.arrow(origin[0], origin[1], vector_a[0], vector_a[1], head_width=head_width, width=line_width, color='grey', length_includes_head=include_head)\n",
    "vector_b_plot = plt.arrow(origin[0], origin[1], vector_b[0], vector_b[1], head_width=head_width, width=line_width, color='black', length_includes_head=include_head)\n",
    "vector_sum_plot = plt.arrow(vector_b[0], vector_b[1], vector_difference[0], vector_difference[1], head_width=head_width, width=line_width, color='red', length_includes_head=include_head)\n",
    "\n",
    "\n",
    "# Format Plot \n",
    "plt.grid(linestyle='-',linewidth=.25)\n",
    "plt.axis('square')\n",
    "plt.axis([-10, 10, -10, 10])\n",
    "plt.legend([vector_a_plot, vector_b_plot, vector_sum_plot], ['Vector A','Vector B', 'Vector Difference'])\n",
    "plt.title('Vector Subtraction')\n",
    "plt.show()"
   ]
  },
  {
   "cell_type": "code",
   "execution_count": 74,
   "metadata": {},
   "outputs": [
    {
     "name": "stdout",
     "output_type": "stream",
     "text": [
      "Translated equation is implemented correctly!\n"
     ]
    }
   ],
   "source": [
    "# Exercise 2-2 (translate equation for vector normaliztion to code)\n",
    "import random\n",
    "\n",
    "def vector_normalization(vector):\n",
    "    return np.sqrt(sum([i**2 for i in vector]))\n",
    "\n",
    "checks = []\n",
    "for i in range(10):\n",
    "    vector_length = random.randint(2, 8)\n",
    "    vector = np.array([random.randint(1,100) for i in range(vector_length)])\n",
    "    norm_vector = vector_normalization(vector)\n",
    "    correct_answer = np.linalg.norm(vector)\n",
    "    checks.append(norm_vector == correct_answer)\n",
    "\n",
    "if all(checks) and checks != []:\n",
    "    print(\"Translated equation is implemented correctly!\")\n",
    "else:\n",
    "    print(\"Translated equation is implemented incorrectly...\")"
   ]
  },
  {
   "cell_type": "code",
   "execution_count": 122,
   "metadata": {},
   "outputs": [
    {
     "name": "stdout",
     "output_type": "stream",
     "text": [
      "[-0.72923556  0.15459995  0.13623021  0.50347071 -0.21543651 -0.35476757]\n",
      "1.0\n",
      "[nan nan nan]\n"
     ]
    }
   ],
   "source": [
    "# Exercise 2-3 (Vector to Unit Vector Function)\n",
    "import warnings\n",
    "warnings.filterwarnings(\"ignore\")\n",
    "\n",
    "def create_associated_unit_vector(vector):\n",
    "    return (1 / np.linalg.norm(vector)) * vector\n",
    "\n",
    "# Test with a normal vector\n",
    "vector_a = np.random.randn(6)\n",
    "unit_vector_a = create_associated_unit_vector(vector_a)\n",
    "print(unit_vector_a)\n",
    "\n",
    "# Confirm unit vector has a magnitude of 1\n",
    "print(np.linalg.norm(unit_vector_a))\n",
    "\n",
    "# test with a zero vector (This shouldnt work because we are dividing by zero)\n",
    "vector_b = np.array([0, 0, 0])\n",
    "unit_vector_b = create_associated_unit_vector(vector_b)\n",
    "print(unit_vector_b)"
   ]
  },
  {
   "cell_type": "code",
   "execution_count": 123,
   "metadata": {},
   "outputs": [
    {
     "name": "stdout",
     "output_type": "stream",
     "text": [
      "[ 3.51516014 -5.3568196   2.37728653 -6.53725729 -2.4022659   2.18861313]\n",
      "2.4671278843360556 10.0\n"
     ]
    }
   ],
   "source": [
    "# Exercise 2-4 (Change Vector Magnitude)\n",
    "\n",
    "def change_vector_magnitude(vector, magnitude):\n",
    "    return (magnitude * vector) / np.linalg.norm(vector)\n",
    "\n",
    "\n",
    "vector_a = np.random.randn(6)\n",
    "magnituide_adjusted_vector = change_vector_magnitude(vector_a, 10)\n",
    "print(magnituide_adjusted_vector)\n",
    "\n",
    "# Confirm resulting vector has the correct magnitude\n",
    "print(np.linalg.norm(vector_a), np.linalg.norm(magnituide_adjusted_vector))"
   ]
  },
  {
   "cell_type": "code",
   "execution_count": 124,
   "metadata": {},
   "outputs": [
    {
     "name": "stdout",
     "output_type": "stream",
     "text": [
      "[[ 1.47054884]\n",
      " [ 0.45709733]\n",
      " [ 1.1401433 ]\n",
      " [ 1.0880995 ]\n",
      " [-1.62496612]\n",
      " [ 0.72741637]]\n",
      "Row vector has been successfully converted to column vector!\n"
     ]
    }
   ],
   "source": [
    "# Exercise 2-5\n",
    "\n",
    "def transpose_row_vector(vector):\n",
    "    col_vector = []\n",
    "    for i in vector:\n",
    "        col_vector.append([i])\n",
    "    return np.array(col_vector)\n",
    "\n",
    "vector_a = np.random.randn(6)\n",
    "transposed_vector = transpose_row_vector(vector_a)\n",
    "print(transposed_vector)\n",
    "\n",
    "# Confirm row vector is now column shape\n",
    "if transposed_vector.shape[0] > 1 and transposed_vector.shape[1] == 1:\n",
    "    print(f'Row vector has been successfully converted to column vector!')\n",
    "else:\n",
    "    print(\"Vector is not column shape\")"
   ]
  },
  {
   "cell_type": "code",
   "execution_count": 144,
   "metadata": {},
   "outputs": [
    {
     "name": "stdout",
     "output_type": "stream",
     "text": [
      "Squared Normalization of vector is equal to Dot Product of itself.\n"
     ]
    }
   ],
   "source": [
    "# Exercise 2-6 (Squared norm of vector is same as dot product of itself)\n",
    "\n",
    "vector_a = np.random.randn(5)\n",
    "norm_vector = vector_normalization(vector_a)\n",
    "vector_dot_product = np.dot(vector_a, vector_a.T)\n",
    "\n",
    "if norm_vector ** 2 == vector_dot_product:\n",
    "    print(\"Squared Normalization of vector is equal to Dot Product of itself.\")\n",
    "else:\n",
    "    print(\"Squared Normalization of vector is not equal to Dot Product of itself.\")"
   ]
  },
  {
   "cell_type": "code",
   "execution_count": 126,
   "metadata": {},
   "outputs": [],
   "source": [
    "# Exercise 2-7"
   ]
  },
  {
   "cell_type": "code",
   "execution_count": null,
   "metadata": {},
   "outputs": [],
   "source": [
    "# Exercise 2-8"
   ]
  },
  {
   "cell_type": "code",
   "execution_count": null,
   "metadata": {},
   "outputs": [],
   "source": [
    "# Exercise 2-9"
   ]
  },
  {
   "cell_type": "code",
   "execution_count": null,
   "metadata": {},
   "outputs": [],
   "source": [
    "# Exercise 2-10"
   ]
  }
 ],
 "metadata": {
  "kernelspec": {
   "display_name": "Python 3 (ipykernel)",
   "language": "python",
   "name": "python3"
  },
  "language_info": {
   "codemirror_mode": {
    "name": "ipython",
    "version": 3
   },
   "file_extension": ".py",
   "mimetype": "text/x-python",
   "name": "python",
   "nbconvert_exporter": "python",
   "pygments_lexer": "ipython3",
   "version": "3.8.6"
  }
 },
 "nbformat": 4,
 "nbformat_minor": 2
}
