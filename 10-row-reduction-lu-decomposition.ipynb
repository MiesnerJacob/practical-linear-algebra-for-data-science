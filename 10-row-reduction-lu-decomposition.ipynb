{
 "cells": [
  {
   "cell_type": "markdown",
   "metadata": {},
   "source": [
    "# Chapter 10: Row Reduction & LU Decomposition"
   ]
  },
  {
   "cell_type": "markdown",
   "metadata": {},
   "source": [
    "## Concepts"
   ]
  },
  {
   "cell_type": "code",
   "execution_count": 21,
   "metadata": {},
   "outputs": [],
   "source": [
    "import numpy as np\n",
    "import sympy as sym\n",
    "import scipy.linalg"
   ]
  },
  {
   "cell_type": "code",
   "execution_count": 13,
   "metadata": {},
   "outputs": [
    {
     "name": "stdout",
     "output_type": "stream",
     "text": [
      "Residual from Method 1 is close to zeros matrix: True\n",
      "Residual from Method 2 is close to zeros matrix: False\n"
     ]
    }
   ],
   "source": [
    "# Solving Matrix Equations (Ax=B)\n",
    "\n",
    "matrix_a = np.random.randn(4, 4)\n",
    "matrix_b = np.random.randn(4, 4)\n",
    "\n",
    "# Correct answer (pre-multiply)\n",
    "matrix_x1 = np.linalg.inv(matrix_a) @ matrix_b\n",
    "\n",
    "# Incorrect answer (post-multiply)\n",
    "matrix_x2 = matrix_b @ np.linalg.inv(matrix_a)\n",
    "\n",
    "# Calculate residuals\n",
    "residual_1 = (matrix_a @ matrix_x1) - matrix_b\n",
    "residual_2 = matrix_a @ matrix_x2 - matrix_b\n",
    "\n",
    "print(\"Residual from Method 1 is close to zeros matrix:\", np.allclose(np.zeros((4,4)), residual_1))\n",
    "print(\"Residual from Method 2 is close to zeros matrix:\",np.allclose(np.zeros((4,4)), residual_2))"
   ]
  },
  {
   "cell_type": "code",
   "execution_count": 19,
   "metadata": {},
   "outputs": [
    {
     "data": {
      "text/latex": [
       "$\\displaystyle \\left[\\begin{matrix}1 & 0 & 1.33333333333333\\\\0 & 1 & 2.66666666666667\\end{matrix}\\right]$"
      ],
      "text/plain": [
       "Matrix([\n",
       "[1, 0, 1.33333333333333],\n",
       "[0, 1, 2.66666666666667]])"
      ]
     },
     "execution_count": 19,
     "metadata": {},
     "output_type": "execute_result"
    }
   ],
   "source": [
    "# RREF (Row-Reduced Echelon Form) via Gauss-Jordan Elimination\n",
    "\n",
    "# Create matrix equation matrix in sympy\n",
    "matrix_a = np.array([\n",
    "    [1, 1 ,4],\n",
    "    [-1/2, 1, 2]\n",
    "])\n",
    "symMat = sym.Matrix(matrix_a)\n",
    "\n",
    "# RREF via Gauss-Jordan Elimination\n",
    "symMat.rref()[0]"
   ]
  },
  {
   "cell_type": "code",
   "execution_count": 25,
   "metadata": {},
   "outputs": [
    {
     "name": "stdout",
     "output_type": "stream",
     "text": [
      "Lower Triangular Matrix:  \n",
      " [[1.  0.  0. ]\n",
      " [0.5 1.  0. ]\n",
      " [1.  1.  1. ]] \n",
      "\n",
      "Upper Triangular Matrix:  \n",
      " [[ 2.  2.  4.]\n",
      " [ 0. -1.  1.]\n",
      " [ 0.  0. -3.]]\n"
     ]
    }
   ],
   "source": [
    "# LU Decomposition\n",
    "\n",
    "# Perform LU Decomposition\n",
    "matrix_a = np.array([\n",
    "    [2, 2, 4],\n",
    "    [1, 0, 3],\n",
    "    [2, 1, 2]\n",
    "])\n",
    "\n",
    "_, L, U = scipy.linalg.lu(matrix_a)\n",
    "\n",
    "print(\"Lower Triangular Matrix: \", \"\\n\", L, \"\\n\" )\n",
    "print(\"Upper Triangular Matrix: \", \"\\n\", U)"
   ]
  },
  {
   "cell_type": "markdown",
   "metadata": {},
   "source": [
    "## Code Exercises"
   ]
  },
  {
   "cell_type": "code",
   "execution_count": null,
   "metadata": {},
   "outputs": [],
   "source": [
    "# Exercise 10-1 (TimingLU decompositions on 1K 100x100 matrices)"
   ]
  },
  {
   "cell_type": "code",
   "execution_count": null,
   "metadata": {},
   "outputs": [],
   "source": [
    "# Exercise 10-2 (Matrix Ranks, Original and LU decomposed)"
   ]
  },
  {
   "cell_type": "code",
   "execution_count": null,
   "metadata": {},
   "outputs": [],
   "source": [
    "# Exercise 10-3 (Calculating Matrix Determinant via outputs of LU Decomposition)"
   ]
  },
  {
   "cell_type": "code",
   "execution_count": null,
   "metadata": {},
   "outputs": [],
   "source": [
    "# Exercise 10-4 (Calculating Matrix Inverse via outputs of LU Decomposition)"
   ]
  },
  {
   "cell_type": "code",
   "execution_count": null,
   "metadata": {},
   "outputs": [],
   "source": [
    "# Exercise 10-5 (Matrix Equivalence: Comparing A^T @ A Computed Directly and via LU Decomposition)"
   ]
  }
 ],
 "metadata": {
  "kernelspec": {
   "display_name": "Python 3 (ipykernel)",
   "language": "python",
   "name": "python3"
  },
  "language_info": {
   "codemirror_mode": {
    "name": "ipython",
    "version": 3
   },
   "file_extension": ".py",
   "mimetype": "text/x-python",
   "name": "python",
   "nbconvert_exporter": "python",
   "pygments_lexer": "ipython3",
   "version": "3.8.6"
  }
 },
 "nbformat": 4,
 "nbformat_minor": 2
}
