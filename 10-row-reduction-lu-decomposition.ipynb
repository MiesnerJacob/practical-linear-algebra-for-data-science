{
 "cells": [
  {
   "cell_type": "markdown",
   "metadata": {},
   "source": [
    "# Chapter 10: Row Reduction & LU Decomposition"
   ]
  },
  {
   "cell_type": "markdown",
   "metadata": {},
   "source": [
    "## Concepts"
   ]
  },
  {
   "cell_type": "code",
   "execution_count": 34,
   "metadata": {},
   "outputs": [],
   "source": [
    "from matplotlib import pyplot as plt\n",
    "import numpy as np\n",
    "import sympy as sym\n",
    "import scipy.linalg\n",
    "import time"
   ]
  },
  {
   "cell_type": "code",
   "execution_count": 35,
   "metadata": {},
   "outputs": [
    {
     "name": "stdout",
     "output_type": "stream",
     "text": [
      "Residual from Method 1 is close to zeros matrix: True\n",
      "Residual from Method 2 is close to zeros matrix: False\n"
     ]
    }
   ],
   "source": [
    "# Solving Matrix Equations (Ax=B)\n",
    "\n",
    "matrix_a = np.random.randn(4, 4)\n",
    "matrix_b = np.random.randn(4, 4)\n",
    "\n",
    "# Correct answer (pre-multiply)\n",
    "matrix_x1 = np.linalg.inv(matrix_a) @ matrix_b\n",
    "\n",
    "# Incorrect answer (post-multiply)\n",
    "matrix_x2 = matrix_b @ np.linalg.inv(matrix_a)\n",
    "\n",
    "# Calculate residuals\n",
    "residual_1 = (matrix_a @ matrix_x1) - matrix_b\n",
    "residual_2 = matrix_a @ matrix_x2 - matrix_b\n",
    "\n",
    "print(\"Residual from Method 1 is close to zeros matrix:\", np.allclose(np.zeros((4,4)), residual_1))\n",
    "print(\"Residual from Method 2 is close to zeros matrix:\",np.allclose(np.zeros((4,4)), residual_2))"
   ]
  },
  {
   "cell_type": "code",
   "execution_count": 36,
   "metadata": {},
   "outputs": [
    {
     "data": {
      "text/latex": [
       "$\\displaystyle \\left[\\begin{matrix}1 & 0 & 1.33333333333333\\\\0 & 1 & 2.66666666666667\\end{matrix}\\right]$"
      ],
      "text/plain": [
       "Matrix([\n",
       "[1, 0, 1.33333333333333],\n",
       "[0, 1, 2.66666666666667]])"
      ]
     },
     "execution_count": 36,
     "metadata": {},
     "output_type": "execute_result"
    }
   ],
   "source": [
    "# RREF (Row-Reduced Echelon Form) via Gauss-Jordan Elimination\n",
    "\n",
    "# Create matrix equation matrix in sympy\n",
    "matrix_a = np.array([\n",
    "    [1, 1 ,4],\n",
    "    [-1/2, 1, 2]\n",
    "])\n",
    "symMat = sym.Matrix(matrix_a)\n",
    "\n",
    "# RREF via Gauss-Jordan Elimination\n",
    "symMat.rref()[0]"
   ]
  },
  {
   "cell_type": "code",
   "execution_count": 37,
   "metadata": {},
   "outputs": [
    {
     "name": "stdout",
     "output_type": "stream",
     "text": [
      "Lower Triangular Matrix:  \n",
      " [[1.  0.  0. ]\n",
      " [0.5 1.  0. ]\n",
      " [1.  1.  1. ]] \n",
      "\n",
      "Upper Triangular Matrix:  \n",
      " [[ 2.  2.  4.]\n",
      " [ 0. -1.  1.]\n",
      " [ 0.  0. -3.]]\n"
     ]
    }
   ],
   "source": [
    "# LU Decomposition\n",
    "\n",
    "# Perform LU Decomposition\n",
    "matrix_a = np.array([\n",
    "    [2, 2, 4],\n",
    "    [1, 0, 3],\n",
    "    [2, 1, 2]\n",
    "])\n",
    "\n",
    "_, L, U = scipy.linalg.lu(matrix_a)\n",
    "\n",
    "print(\"Lower Triangular Matrix: \", \"\\n\", L, \"\\n\" )\n",
    "print(\"Upper Triangular Matrix: \", \"\\n\", U)"
   ]
  },
  {
   "cell_type": "markdown",
   "metadata": {},
   "source": [
    "## Code Exercises"
   ]
  },
  {
   "cell_type": "code",
   "execution_count": 38,
   "metadata": {},
   "outputs": [
    {
     "name": "stdout",
     "output_type": "stream",
     "text": [
      "Total runtime: 467.03 ms\n"
     ]
    }
   ],
   "source": [
    "# Exercise 10-1 (Timing LU decompositions on 1K 100x100 matrices)\n",
    "\n",
    "start = time.time()\n",
    "\n",
    "for i in range(1000):\n",
    "    matrix_a = np.random.randn(100,100)\n",
    "    _, L, U = scipy.linalg.lu(matrix_a)\n",
    "\n",
    "runtime = time.time() - start\n",
    "\n",
    "# print the runtime in milliseconds\n",
    "print(f'Total runtime: {runtime * 1000:.2f} ms')"
   ]
  },
  {
   "cell_type": "code",
   "execution_count": 39,
   "metadata": {},
   "outputs": [
    {
     "data": {
      "image/png": "[encoded data removed]",
      "text/plain": [
       "<Figure size 1000x400 with 3 Axes>"
      ]
     },
     "metadata": {},
     "output_type": "display_data"
    }
   ],
   "source": [
    "# Exercise 10-2 (Matrix Ranks, Original and LU decomposed)\n",
    "\n",
    "rows = 6\n",
    "columns = 8\n",
    "rank = 3\n",
    "\n",
    "# Create the rank-3 6x8 Matrix\n",
    "matrix_a = np.random.randn(rows, rank) @ np.random.randn(rank, columns)\n",
    "\n",
    "_, matrix_l, matrix_u = scipy.linalg.lu(matrix_a)\n",
    "\n",
    "# Create plot\n",
    "fig, axis = plt.subplots(1, 3, figsize=(10, 4))\n",
    "titles = ['A, rank=3', 'L, rank=6', 'U, rank=3']\n",
    "matrices = [matrix_a, matrix_l, matrix_u]\n",
    "\n",
    "for i, (title, matrix) in enumerate(zip(titles, matrices)):\n",
    "    ax = axis[i]\n",
    "    ax.imshow(matrix, cmap='gray')\n",
    "    ax.set_title(title)\n",
    "    ax.set_xticks([])\n",
    "    ax.set_yticks([])\n",
    "\n",
    "plt.tight_layout()\n",
    "plt.show()"
   ]
  },
  {
   "cell_type": "code",
   "execution_count": 58,
   "metadata": {},
   "outputs": [
    {
     "name": "stdout",
     "output_type": "stream",
     "text": [
      "Matrix A determinant (using diagonal product method): -7.33378660084299\n",
      "Matrix A determinant (using numpy method): -7.333786600842993\n"
     ]
    }
   ],
   "source": [
    "# Exercise 10-3 (Calculating Matrix Determinant via outputs of LU Decomposition)\n",
    "\n",
    "matrix_a = np.random.randn(5, 5)\n",
    "\n",
    "matrix_p, matrix_l, matrix_u = scipy.linalg.lu(matrix_a)\n",
    "\n",
    "# Calculate the product of the diagonal elements multiplied by the determinant of the permutation matrix\n",
    "diagonal_elements = np.diag(matrix_u)\n",
    "diagonal_product = np.prod(diagonal_elements)\n",
    "permutation_determinant = np.linalg.det(matrix_p)\n",
    "matrix_a_determinant = diagonal_product * permutation_determinant\n",
    "\n",
    "# Calculate the determinant using numpy\n",
    "numpy_det = np.linalg.det(matrix_a)\n",
    "\n",
    "print(\"Matrix A determinant (using diagonal product method):\", matrix_a_determinant)\n",
    "print(\"Matrix A determinant (using numpy method):\", numpy_det)"
   ]
  },
  {
   "cell_type": "code",
   "execution_count": 65,
   "metadata": {},
   "outputs": [
    {
     "name": "stdout",
     "output_type": "stream",
     "text": [
      "Inverse of A is equal to product of inverses of U & L multiplied by P in that order: True\n"
     ]
    }
   ],
   "source": [
    "# Exercise 10-4 (Calculating Matrix Inverse via outputs of LU Decomposition)\n",
    "\n",
    "# Create Random Numbers Matrix\n",
    "matrix_a = np.random.randn(4, 4)\n",
    "\n",
    "# Perform LU Decomposition\n",
    "matrix_p, matrix_l, matrix_u = scipy.linalg.lu(matrix_a)\n",
    "\n",
    "check = np.allclose(np.linalg.inv(matrix_a), (np.linalg.inv(matrix_u) @ np.linalg.inv(matrix_l)) @ matrix_p)\n",
    "print(\"Inverse of A is equal to product of inverses of U & L multiplied by P in that order:\", check)"
   ]
  },
  {
   "cell_type": "code",
   "execution_count": 69,
   "metadata": {},
   "outputs": [
    {
     "name": "stdout",
     "output_type": "stream",
     "text": [
      "A^T @ A == U.T @ L.T @ L @ U even when P != I: True\n"
     ]
    }
   ],
   "source": [
    "# Exercise 10-5 (Matrix Equivalence: Comparing A^T @ A Computed Directly and via LU Decomposition)\n",
    "\n",
    "# Create Random Numbers Matrix\n",
    "matrix_a = np.random.randn(4, 4)\n",
    "\n",
    "# Perform LU Decomposition\n",
    "matrix_p, matrix_l, matrix_u = scipy.linalg.lu(matrix_a)\n",
    "\n",
    "result_1 =  matrix_a.T @ matrix_a\n",
    "result_2 = matrix_u.T @ matrix_l.T @ matrix_l @ matrix_u\n",
    "\n",
    "check_pt1 = np.allclose(result_1, result_2)\n",
    "check_pt2 = not np.allclose(matrix_p, np.eye(4))\n",
    "check = check_pt1 and check_pt2\n",
    "print(\"A^T @ A == U.T @ L.T @ L @ U even when P != I:\", check)"
   ]
  }
 ],
 "metadata": {
  "kernelspec": {
   "display_name": "Python 3 (ipykernel)",
   "language": "python",
   "name": "python3"
  },
  "language_info": {
   "codemirror_mode": {
    "name": "ipython",
    "version": 3
   },
   "file_extension": ".py",
   "mimetype": "text/x-python",
   "name": "python",
   "nbconvert_exporter": "python",
   "pygments_lexer": "ipython3",
   "version": "3.8.6"
  }
 },
 "nbformat": 4,
 "nbformat_minor": 2
}
