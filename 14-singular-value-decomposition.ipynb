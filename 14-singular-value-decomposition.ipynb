{
 "cells": [
  {
   "cell_type": "markdown",
   "metadata": {},
   "source": [
    "# Chapter 14: Singular Value Decomposition"
   ]
  },
  {
   "cell_type": "markdown",
   "metadata": {},
   "source": [
    "## Concepts"
   ]
  },
  {
   "cell_type": "code",
   "execution_count": 4,
   "metadata": {},
   "outputs": [],
   "source": [
    "import numpy as np\n",
    "import matplotlib.pyplot as plt"
   ]
  },
  {
   "cell_type": "code",
   "execution_count": 8,
   "metadata": {},
   "outputs": [
    {
     "name": "stdout",
     "output_type": "stream",
     "text": [
      "My implementation for calculating matrix rank matches numpy's: True\n"
     ]
    }
   ],
   "source": [
    "# How numpy computes matrix rank\n",
    "\n",
    "matrix_a = np.random.randn(3, 4)\n",
    "\n",
    "def matrix_rank(M):\n",
    "    S = np.linalg.svd(M, compute_uv=False)\n",
    "    tol = S.max() * max(M.shape[-2:]) * np.finfo(S.dtype).eps\n",
    "    return np.count_nonzero(S > tol)\n",
    "\n",
    "rank_a = matrix_rank(matrix_a)\n",
    "rank_b = np.linalg.matrix_rank(matrix_a)\n",
    "\n",
    "check = rank_a == rank_b\n",
    "print(\"My implementation for calculating matrix rank matches numpy's:\", check)"
   ]
  },
  {
   "cell_type": "code",
   "execution_count": 9,
   "metadata": {},
   "outputs": [
    {
     "data": {
      "image/png": "[encoded data removed]",
      "text/plain": [
       "<Figure size 1000x400 with 4 Axes>"
      ]
     },
     "metadata": {},
     "output_type": "display_data"
    }
   ],
   "source": [
    "# Singular Value Decomposition (SVD)\n",
    "\n",
    "matrix_a = np.random.randn(5, 3)\n",
    "\n",
    "U, s, Vt = np.linalg.svd(matrix_a)\n",
    "\n",
    "# Create singular values matrix\n",
    "S = np.zeros(np.shape(matrix_a))\n",
    "np.fill_diagonal(S, s)\n",
    "\n",
    "# Create plot\n",
    "fig, axis = plt.subplots(1, 4, figsize=(10, 4))\n",
    "titles = ['Matrix', 'Left Singular Vectors', 'Singular Values', 'Right Singular Vectors']\n",
    "matrices = [matrix_a, U, S, Vt]\n",
    "\n",
    "for i, (title, matrix) in enumerate(zip(titles, matrices)):\n",
    "    ax = axis[i]\n",
    "    ax.imshow(matrix, cmap='gray')\n",
    "    ax.set_title(title)\n",
    "    ax.set_xticks([])\n",
    "    ax.set_yticks([])\n",
    "\n",
    "plt.tight_layout()\n",
    "plt.show()"
   ]
  },
  {
   "cell_type": "code",
   "execution_count": 21,
   "metadata": {},
   "outputs": [
    {
     "name": "stdout",
     "output_type": "stream",
     "text": [
      "Singular values and Eigenvalues are the same for Symmetrical Matrix: True\n"
     ]
    }
   ],
   "source": [
    "# Symmetrical Matrix (Eigenvalues & Singular values are the same!)\n",
    "\n",
    "matrix_a = np.random.randn(7, 3)\n",
    "symmetrical_matrix_a = matrix_a.T @ matrix_a\n",
    "\n",
    "sinvals = np.linalg.svd(symmetrical_matrix_a)[1]\n",
    "evals = np.linalg.eig(symmetrical_matrix_a)[0]\n",
    "\n",
    "check = np.allclose(np.sort(np.round(sinvals, 5)), np.sort(np.round(evals, 5)))\n",
    "print(\"Singular values and Eigenvalues are the same for Symmetrical Matrix:\", check)"
   ]
  },
  {
   "cell_type": "markdown",
   "metadata": {},
   "source": [
    "## Code Exercises"
   ]
  },
  {
   "cell_type": "code",
   "execution_count": 68,
   "metadata": {},
   "outputs": [
    {
     "name": "stdout",
     "output_type": "stream",
     "text": [
      "Singular vectors and eigenvectors are the same for the input matrix, disregarding sign: True\n",
      "Singular vectors and eigenvectors are the same for the input matrix, disregarding sign: True\n"
     ]
    }
   ],
   "source": [
    "# Exercise 14-1 (Compare singular vectors and eigenvectors for a symmetrical matrix)\n",
    "\n",
    "def compare_singular_vectors_and_eigenvectors(matrix):\n",
    "    # eigendecomposition\n",
    "    evals, evecs = np.linalg.eig(matrix)\n",
    "    \n",
    "    # Sort eigenvalues and evecs\n",
    "    sort_index = np.argsort(np.abs(evals))[::-1]\n",
    "    evals = evals[sort_index]\n",
    "    evecs = evecs[:, sort_index]\n",
    "\n",
    "    # SVD\n",
    "    U, s, Vt = np.linalg.svd(matrix)\n",
    "\n",
    "    # Allow for flexible sign comparison\n",
    "    for i in range(len(s)):\n",
    "        evecs[:, i] *= np.sign(evecs[0, i])  # Normalize sign based on first element\n",
    "        U[:, i] *= np.sign(U[0, i])\n",
    "        Vt[:, i] *= np.sign(Vt[0, i])\n",
    "\n",
    "    # Compare Singular Vectors and Eigenvectors\n",
    "    check_1 = np.allclose(np.abs(evecs), np.abs(U))\n",
    "    check_2 = np.allclose(np.abs(evecs), np.abs(Vt.T))\n",
    "    print(\"Singular vectors and eigenvectors are the same for the input matrix, disregarding sign:\", check_1 and check_2)\n",
    "\n",
    "# Create comparison for symmetrical matrix\n",
    "matrix_a = np.random.randn(5,5)\n",
    "symmetrical_matrix_a = matrix_a.T @ matrix_a\n",
    "compare_singular_vectors_and_eigenvectors(symmetrical_matrix_a)\n",
    "\n",
    "# Create comparison for symmetrical matrix using additive method\n",
    "matrix_b = np.random.randn(5,5)\n",
    "symmetrical_matrix_b = matrix_b.T + matrix_b\n",
    "compare_singular_vectors_and_eigenvectors(symmetrical_matrix_b)"
   ]
  },
  {
   "cell_type": "code",
   "execution_count": 85,
   "metadata": {},
   "outputs": [
    {
     "name": "stdout",
     "output_type": "stream",
     "text": [
      "Dimensions correctly truncated to min(m, n): True\n",
      "Dimensions correctly truncated to min(m, n): True\n"
     ]
    }
   ],
   "source": [
    "# Exercise 14-2 (Calculate economy singular value matrices using numpy)\n",
    "\n",
    "def compute_economy_svd_and_validate_dimensions(matrix_a):\n",
    "    \"\"\"Compute the economy SVD of a non-square matrix A and validate dimensions.\"\"\"\n",
    "    # Compute the economy SVD\n",
    "    U, s, Vt = np.linalg.svd(matrix_a, full_matrices=False)\n",
    "    \n",
    "    # Verify dimensions\n",
    "    m, n = matrix_a.shape\n",
    "    min_dim = min(m, n)\n",
    "    correct_dimensions = (U.shape[1] == min_dim and Vt.shape[0] == min_dim and len(s) == min_dim)\n",
    "    \n",
    "    print(f\"Dimensions correctly truncated to min(m, n): {correct_dimensions}\")\n",
    "\n",
    "# Example use\n",
    "matrix_a = np.random.randn(10, 4)\n",
    "compute_economy_svd_and_validate_dimensions(matrix_a)\n",
    "\n",
    "matrix_b = np.random.randn(4, 10)\n",
    "compute_economy_svd_and_validate_dimensions(matrix_b)"
   ]
  },
  {
   "cell_type": "code",
   "execution_count": 94,
   "metadata": {},
   "outputs": [
    {
     "name": "stdout",
     "output_type": "stream",
     "text": [
      "Magnitudes of Random Vector and Singular Vector Matrix @ Random Vector are the same: True\n"
     ]
    }
   ],
   "source": [
    "# Exercise 14-3 (Confirm that Singular Value Matrices rotate but do not scale vectors)\n",
    "\n",
    "matrix_a = np.random.randn(5, 5)\n",
    "vector_a = np.random.randn(5)\n",
    "U, s, Vt = np.linalg.svd(matrix_a)\n",
    "\n",
    "matrix_vector_product = U @ vector_a\n",
    "\n",
    "check = np.linalg.norm(vector_a) == np.linalg.norm(matrix_vector_product)\n",
    "print(\"Magnitudes of Random Vector and Singular Vector Matrix @ Random Vector are the same:\", check)"
   ]
  },
  {
   "cell_type": "code",
   "execution_count": 97,
   "metadata": {},
   "outputs": [
    {
     "data": {
      "image/png": "[encoded data removed]",
      "text/plain": [
       "<Figure size 1200x600 with 4 Axes>"
      ]
     },
     "metadata": {},
     "output_type": "display_data"
    }
   ],
   "source": [
    "# Exercise 14-4 (Create a random tall matrix with a specified condition number)\n",
    "\n",
    "import numpy as np\n",
    "import matplotlib.pyplot as plt\n",
    "\n",
    "# Set matrix dimensions and desired condition number\n",
    "m = 10\n",
    "n = 6\n",
    "condnum = 42\n",
    "\n",
    "# Create a random matrix and decompose it to get orthogonal matrices U and Vt\n",
    "U, _, _ = np.linalg.svd(np.random.randn(m, m))\n",
    "_, _, Vt = np.linalg.svd(np.random.randn(n, n))\n",
    "\n",
    "# Create a singular values vector that linearly spans from the condition number to 1\n",
    "s = np.linspace(condnum, 1, np.min((m, n)))\n",
    "\n",
    "# Convert the singular values into a diagonal matrix S of appropriate size\n",
    "S = np.zeros((m, n))\n",
    "np.fill_diagonal(S, s)\n",
    "\n",
    "# Create the matrix A by multiplying U, S, and Vt\n",
    "A = U @ S @ Vt\n",
    "\n",
    "# Visualization of the matrices and their condition numbers\n",
    "fig, axs = plt.subplots(1, 4, figsize=(12, 6))\n",
    "titles = ['A', 'U', 'S', 'Vt']\n",
    "matrices = [A, U, S, Vt]\n",
    "conds = [np.linalg.cond(mat) for mat in matrices]\n",
    "\n",
    "for ax, matrix, title, cond in zip(axs, matrices, titles, conds):\n",
    "    im = ax.imshow(matrix, aspect='equal', cmap='gray')\n",
    "    ax.set_title(f'{title} (cond={cond:.3f})')\n",
    "\n",
    "plt.tight_layout()\n",
    "plt.show()\n"
   ]
  },
  {
   "cell_type": "code",
   "execution_count": null,
   "metadata": {},
   "outputs": [],
   "source": [
    "# Exercise 14-5 (Perform and visualize SVD on a smoothed random matrix)"
   ]
  },
  {
   "cell_type": "code",
   "execution_count": null,
   "metadata": {},
   "outputs": [],
   "source": [
    "# Exercise 14-6 (Implement MP psuedo-inverse)"
   ]
  },
  {
   "cell_type": "code",
   "execution_count": null,
   "metadata": {},
   "outputs": [],
   "source": [
    "# Exercise 14-7 (Confirm that the MP psuedo-inverse equals the left-inverse for a full column rank matrix)"
   ]
  },
  {
   "cell_type": "code",
   "execution_count": null,
   "metadata": {},
   "outputs": [],
   "source": [
    "# Exercise 14-8 (Manipulating eigenvalue equation with psuedo-inverse)"
   ]
  }
 ],
 "metadata": {
  "kernelspec": {
   "display_name": "Python 3 (ipykernel)",
   "language": "python",
   "name": "python3"
  },
  "language_info": {
   "codemirror_mode": {
    "name": "ipython",
    "version": 3
   },
   "file_extension": ".py",
   "mimetype": "text/x-python",
   "name": "python",
   "nbconvert_exporter": "python",
   "pygments_lexer": "ipython3",
   "version": "3.8.6"
  }
 },
 "nbformat": 4,
 "nbformat_minor": 2
}
