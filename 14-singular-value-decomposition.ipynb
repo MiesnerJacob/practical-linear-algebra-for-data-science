{
 "cells": [
  {
   "cell_type": "markdown",
   "metadata": {},
   "source": [
    "# Chapter 14: Singular Value Decomposition"
   ]
  },
  {
   "cell_type": "markdown",
   "metadata": {},
   "source": [
    "## Concepts"
   ]
  },
  {
   "cell_type": "code",
   "execution_count": 4,
   "metadata": {},
   "outputs": [],
   "source": [
    "import numpy as np\n",
    "import matplotlib.pyplot as plt"
   ]
  },
  {
   "cell_type": "code",
   "execution_count": 8,
   "metadata": {},
   "outputs": [
    {
     "name": "stdout",
     "output_type": "stream",
     "text": [
      "My implementation for calculating matrix rank matches numpy's: True\n"
     ]
    }
   ],
   "source": [
    "# How numpy computes matrix rank\n",
    "\n",
    "matrix_a = np.random.randn(3, 4)\n",
    "\n",
    "def matrix_rank(M):\n",
    "    S = np.linalg.svd(M, compute_uv=False)\n",
    "    tol = S.max() * max(M.shape[-2:]) * np.finfo(S.dtype).eps\n",
    "    return np.count_nonzero(S > tol)\n",
    "\n",
    "rank_a = matrix_rank(matrix_a)\n",
    "rank_b = np.linalg.matrix_rank(matrix_a)\n",
    "\n",
    "check = rank_a == rank_b\n",
    "print(\"My implementation for calculating matrix rank matches numpy's:\", check)"
   ]
  },
  {
   "cell_type": "code",
   "execution_count": 9,
   "metadata": {},
   "outputs": [
    {
     "data": {
      "image/png": "[encoded data removed]",
      "text/plain": [
       "<Figure size 1000x400 with 4 Axes>"
      ]
     },
     "metadata": {},
     "output_type": "display_data"
    }
   ],
   "source": [
    "# Singular Value Decomposition (SVD)\n",
    "\n",
    "matrix_a = np.random.randn(5, 3)\n",
    "\n",
    "U, s, Vt = np.linalg.svd(matrix_a)\n",
    "\n",
    "# Create singular values matrix\n",
    "S = np.zeros(np.shape(matrix_a))\n",
    "np.fill_diagonal(S, s)\n",
    "\n",
    "# Create plot\n",
    "fig, axis = plt.subplots(1, 4, figsize=(10, 4))\n",
    "titles = ['Matrix', 'Left Singular Vectors', 'Singular Values', 'Right Singular Vectors']\n",
    "matrices = [matrix_a, U, S, Vt]\n",
    "\n",
    "for i, (title, matrix) in enumerate(zip(titles, matrices)):\n",
    "    ax = axis[i]\n",
    "    ax.imshow(matrix, cmap='gray')\n",
    "    ax.set_title(title)\n",
    "    ax.set_xticks([])\n",
    "    ax.set_yticks([])\n",
    "\n",
    "plt.tight_layout()\n",
    "plt.show()"
   ]
  },
  {
   "cell_type": "code",
   "execution_count": 21,
   "metadata": {},
   "outputs": [
    {
     "name": "stdout",
     "output_type": "stream",
     "text": [
      "Singular values and Eigenvalues are the same for Symmetrical Matrix: True\n"
     ]
    }
   ],
   "source": [
    "# Symmetrical Matrix (Eigenvalues & Singular values are the same!)\n",
    "\n",
    "matrix_a = np.random.randn(7, 3)\n",
    "symmetrical_matrix_a = matrix_a.T @ matrix_a\n",
    "\n",
    "sinvals = np.linalg.svd(symmetrical_matrix_a)[1]\n",
    "evals = np.linalg.eig(symmetrical_matrix_a)[0]\n",
    "\n",
    "check = np.allclose(np.sort(np.round(sinvals, 5)), np.sort(np.round(evals, 5)))\n",
    "print(\"Singular values and Eigenvalues are the same for Symmetrical Matrix:\", check)"
   ]
  },
  {
   "cell_type": "markdown",
   "metadata": {},
   "source": [
    "## Code Exercises"
   ]
  },
  {
   "cell_type": "code",
   "execution_count": null,
   "metadata": {},
   "outputs": [],
   "source": [
    "# Exercise 14-1 (Compare singular vectors and eigenvectors for a symmetrical matrix)"
   ]
  },
  {
   "cell_type": "code",
   "execution_count": null,
   "metadata": {},
   "outputs": [],
   "source": [
    "# Exercise 14-2 (Calculate economy singular value matrices using numpy)"
   ]
  },
  {
   "cell_type": "code",
   "execution_count": null,
   "metadata": {},
   "outputs": [],
   "source": [
    "# Exercise 14-3 (Confirm that Singular Value Matrices rotate but do not scale vectors)"
   ]
  },
  {
   "cell_type": "code",
   "execution_count": null,
   "metadata": {},
   "outputs": [],
   "source": [
    "# Exercise 14-4 (Create a random tall matrix with a specified condition number)"
   ]
  },
  {
   "cell_type": "code",
   "execution_count": null,
   "metadata": {},
   "outputs": [],
   "source": [
    "# Exercise 14-5 (Perform and visualize SVD on a smoothed random matrix)"
   ]
  },
  {
   "cell_type": "code",
   "execution_count": null,
   "metadata": {},
   "outputs": [],
   "source": [
    "# Exercise 14-6 (Implement MP psuedo-inverse)"
   ]
  },
  {
   "cell_type": "code",
   "execution_count": null,
   "metadata": {},
   "outputs": [],
   "source": [
    "# Exercise 14-7 (Confirm that the MP psuedo-inverse equals the left-inverse for a full column rank matrix)"
   ]
  },
  {
   "cell_type": "code",
   "execution_count": null,
   "metadata": {},
   "outputs": [],
   "source": [
    "# Exercise 14-8 (Manipulating eigenvalue equation with psuedo-inverse)"
   ]
  }
 ],
 "metadata": {
  "kernelspec": {
   "display_name": "Python 3 (ipykernel)",
   "language": "python",
   "name": "python3"
  },
  "language_info": {
   "codemirror_mode": {
    "name": "ipython",
    "version": 3
   },
   "file_extension": ".py",
   "mimetype": "text/x-python",
   "name": "python",
   "nbconvert_exporter": "python",
   "pygments_lexer": "ipython3",
   "version": "3.8.6"
  }
 },
 "nbformat": 4,
 "nbformat_minor": 2
}
